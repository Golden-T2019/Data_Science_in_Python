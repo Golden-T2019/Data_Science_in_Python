{
 "cells": [
  {
   "cell_type": "markdown",
   "metadata": {},
   "source": [
    "# Week 4 Lesson 1 #\n",
    "\n",
    "## Unix: Working with Data ##\n",
    "\n",
    "In this lesson, you will first learn about learn about how to modify and view environment variables within Unix.  Then you will go through some of the ins and outs of the `vi` text editor within Unix.\n",
    "\n",
    "### Objectives ###\n",
    "\n",
    "By the end of this lesson, you will:\n",
    "\n",
    "- Be able to modify and learn about certain environment aspects in shell, with commands such as `printenv`, `set`, `export`, and `alias`.\n",
    "- Know the difference between environment and shell variables.\n",
    "- Know how the environment is established.\n",
    "- Know the two basic categories of text editors.\n",
    "- Know how to open/create files in a text editor.\n",
    "- Know the basic `vi` commands.\n",
    "\n",
    "### Time Estimate ###\n",
    "\n",
    "Approximately 3 hours.\n",
    "\n",
    "### Readings ####\n",
    "\n",
    "#### Video\n",
    "\n",
    "[Week 4 Lesson 1 Video](https://mediaspace.illinois.edu/media/w4l1/1_saaxm7me/76031081)\n",
    "\n",
    "#### Required Readings\n",
    "\n",
    "- Chapters 11-12 in [The Linux Command Line](http://sourceforge.net/projects/linuxcommand/?source=dlp).\n",
    "- [The Unix Data Processing IPython Notebook](unixdp.ipynb) \n",
    "\n",
    "#### Optional Additional Readings ####\n",
    "\n",
    "- [Learning the vi and Vim Editors, 7th Edition](http://proquest.safaribooksonline.com.proxy2.library.illinois.edu/book/programming/vi/9780596529833)\n",
    "\n",
    "### Assessment ###\n",
    "\n",
    "When you have completed and worked through the above readings, please take the [Week 4 Lesson 1 Assessment](https://learn.illinois.edu/mod/quiz/view.php?id=2169107)."
   ]
  }
 ],
 "metadata": {
  "kernelspec": {
   "display_name": "Python 3",
   "language": "python",
   "name": "python3"
  },
  "language_info": {
   "codemirror_mode": {
    "name": "ipython",
    "version": 3
   },
   "file_extension": ".py",
   "mimetype": "text/x-python",
   "name": "python",
   "nbconvert_exporter": "python",
   "pygments_lexer": "ipython3",
   "version": "3.6.1"
  }
 },
 "nbformat": 4,
 "nbformat_minor": 2
}
