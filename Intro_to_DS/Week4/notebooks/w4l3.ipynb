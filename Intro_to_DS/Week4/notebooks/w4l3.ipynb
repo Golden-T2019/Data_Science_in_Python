{
 "cells": [
  {
   "cell_type": "markdown",
   "metadata": {},
   "source": [
    "# Week 4 Lesson 3 #\n",
    "\n",
    "## Python: Tuples & Dictionaries ##\n",
    "\n",
    "In this lesson, you will first learn about what dictionaries are, how to\n",
    "modify them, and what operations you can apply to them. Next, you will\n",
    "learn about tuples, how they differ from lists, and how to manipulate\n",
    "them with functions and operations.\n",
    "\n",
    "\n",
    "### Objectives ###\n",
    "\n",
    "By the end of this lesson, you will be able to:\n",
    "\n",
    "- Know the difference between lists and dictionaries.\n",
    "- Understand the key-value concept of dictionaries.\n",
    "- Create your own dictionaries.\n",
    "- Understand what a tuple is and how it is different from a list.\n",
    "- Apply various functions and operators to a tuple.\n",
    "\n",
    "### Time Estimate ###\n",
    "\n",
    "Approximately 3 hours.\n",
    "\n",
    "### Readings ####\n",
    "\n",
    "#### Video\n",
    "\n",
    "[Week 4 Lesson 3 Video](https://mediaspace.illinois.edu/media/w4l3/1_wocnu2qp/76031081)\n",
    "\n",
    "#### Required Readings\n",
    "\n",
    "- Chapters 11-13 in [Think Python](http://greenteapress.com/thinkpython2/html/index.html).\n",
    "- Python [Data Structures](pydatastructures.ipynb) Notebook.\n",
    "\n",
    "#### Optional Additional Readings ####\n",
    "\n",
    "- Chapters 2.5 and 2.7 in [Dive Into Python](http://www.diveintopython3.net/index.html)\n",
    "- Exercise 39 in [Learn Python the Hard Way](http://proquest.safaribooksonline.com.proxy2.library.illinois.edu/book/programming/python/9780133124316)\n",
    "- Chapters 4 and 5 in [Automate the Boring Stuff with Python](http://proquest.safaribooksonline.com.proxy2.library.illinois.edu/book/programming/python/9781457189906)\n",
    "\n",
    "### Assessment ###\n",
    "\n",
    "When you have completed and worked through the above readings, please take the [Week 4 Lesson 3 Assessment](https://learn.illinois.edu/mod/quiz/view.php?id=2169113)."
   ]
  }
 ],
 "metadata": {
  "kernelspec": {
   "display_name": "Python 3",
   "language": "python",
   "name": "python3"
  },
  "language_info": {
   "codemirror_mode": {
    "name": "ipython",
    "version": 3
   },
   "file_extension": ".py",
   "mimetype": "text/x-python",
   "name": "python",
   "nbconvert_exporter": "python",
   "pygments_lexer": "ipython3",
   "version": "3.6.1"
  }
 },
 "nbformat": 4,
 "nbformat_minor": 2
}
