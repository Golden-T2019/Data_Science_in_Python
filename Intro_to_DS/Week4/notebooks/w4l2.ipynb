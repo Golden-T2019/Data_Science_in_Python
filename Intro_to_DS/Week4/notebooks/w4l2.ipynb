{
 "cells": [
  {
   "cell_type": "markdown",
   "metadata": {},
   "source": [
    "# Week 4 Lesson 2 #\n",
    "\n",
    "## Python: Strings & Lists ##\n",
    "\n",
    "In this lesson, you will learn about the difference between strings and lists, how to perform operations on these objects, and how to call various elements inside of these objects. \n",
    "\n",
    "### Objectives ###\n",
    "\n",
    "By the end of this lesson, you will be able to:\n",
    "\n",
    "- Understand what strings are. \n",
    "- Manipulate strings within Python using various operators, such as `in`, `for` loops and the `if` comparison operator.\n",
    "- Understand what lists are, and how their output is organized.\n",
    "- Understand how to call one element of a list\n",
    "- Manipulate lists using list operators.\n",
    "\n",
    "### Time Estimate ###\n",
    "\n",
    "Approximately 2 hours.\n",
    "\n",
    "### Readings ####\n",
    "\n",
    "#### Video\n",
    "\n",
    "[Week 4 Lesson 2 Video](https://mediaspace.illinois.edu/media/w4l2/1_e9x20ffe/76031081)\n",
    "\n",
    "#### Required Readings\n",
    "\n",
    "- Chapter 8-10 [Think Python](http://greenteapress.com/thinkpython2/html/index.html)\n",
    "- Python [Data Structures](pydatastructures.ipynb) Notebook.\n",
    "\n",
    "#### Optional Readings\n",
    "\n",
    "- Chapters 2.4 and 4 from [Dive Into Python](http://www.diveintopython3.net/index.html)\n",
    "- Exercises 6, 32, 34, and 38 in [Learn Python the Hard Way](http://proquest.safaribooksonline.com.proxy2.library.illinois.edu/book/programming/python/9780133124316)\n",
    "- Chapters 4 and 6 in [Automate the Boring Stuff with Python](http://proquest.safaribooksonline.com.proxy2.library.illinois.edu/book/programming/python/9781457189906)\n",
    "\n",
    "\n",
    "### Assessment ###\n",
    "\n",
    "When you have completed and worked through the above readings, please take the [Week 4 Lesson 2 Assessment](https://learn.illinois.edu/mod/quiz/view.php?id=2169110)."
   ]
  }
 ],
 "metadata": {
  "kernelspec": {
   "display_name": "Python 3",
   "language": "python",
   "name": "python3"
  },
  "language_info": {
   "codemirror_mode": {
    "name": "ipython",
    "version": 3
   },
   "file_extension": ".py",
   "mimetype": "text/x-python",
   "name": "python",
   "nbconvert_exporter": "python",
   "pygments_lexer": "ipython3",
   "version": "3.6.1"
  }
 },
 "nbformat": 4,
 "nbformat_minor": 2
}
