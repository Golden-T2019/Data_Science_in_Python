{
 "cells": [
  {
   "cell_type": "markdown",
   "metadata": {},
   "source": [
    "# Week 4 Overview#\n",
    "\n",
    "![python logo](images/python-logo.png)\n",
    "\n",
    "## Advanced Python Programming Language ##\n",
    "\n",
    "In this week, you will again be delving further into Unix and Python. First, you will learn how to view and modify parts of the environment in Unix-like environments, and then learn how to use `vim` and `vi` in Unix.  Finally, you will then delve into the wondrous world of lists, dictionaries, strings, and tuples, where you will learn what these things are, when to use them, how they differ from each other, and how to manipulate them to our liking.\n",
    "\n",
    "### Objectives ###\n",
    "\n",
    "##### By the end of this lesson, you should be able to: ######\n",
    "\n",
    "- Effectively use the Basic Python data structures: list, dictionary, string, & tuple.\n",
    "- Be able to modify and learn about certain environment aspects in shell, with commands such as `printenv`, `set`, `export`, and `alias`.\n",
    "- Know the basic `vi` commands.\n",
    "\n",
    "### Activities and Assignments ###\n",
    "\n",
    "|Activities and Assignments | Time Estimate | Deadline* | Points|\n",
    "|:------| -----|-------|----------:|\n",
    "|**[Week 4 Introduction Video][w4v]**|15 Minutes|Tuesday|N/A|\n",
    "|**[Week 4 Lesson 1: Unix: Working with Data](notebooks/w4l1.ipynb)**| 3 Hours |Thursday| 20|\n",
    "|**[Week 4 Lesson 2: Python: Strings & Lists](notebooks/w4l2.ipynb)**| 2 Hours | Thursday | 20 |\n",
    "|**[Week 4 Lesson 3: Python: Tuples & Dictionaries](notebooks/w4l3.ipynb)**| 2 Hours | Thursday| 20 |\n",
    "|**[Week 4 Quiz][w4q]**| 45 Minutes | Friday | 70|\n",
    "|**Week 4 Assignment Submission**| 3 Hours | *The following* Monday | 125 from the Instructor<br>10 from Peer grading | \n",
    "|**Week 4 Completion of Peer Review**| 1 Hour | *The following* Saturday | 15 | \n",
    "\n",
    "*Please note that unless otherwise noted, the due time is 6pm Central time!\n",
    "\n",
    "----------\n",
    "[w4q]: https://learn.illinois.edu/mod/quiz/view.php?id=2169047\n",
    "[w4v]: https://mediaspace.illinois.edu/media/w4ov/1_7ps3leoj/76031081\n",
    "\n",
    "Photo Credit: Python Logo. Created 2001, Python.org, Accessed 31 July 2015."
   ]
  }
 ],
 "metadata": {
  "kernelspec": {
   "display_name": "Python 3",
   "language": "python",
   "name": "python3"
  },
  "language_info": {
   "codemirror_mode": {
    "name": "ipython",
    "version": 3
   },
   "file_extension": ".py",
   "mimetype": "text/x-python",
   "name": "python",
   "nbconvert_exporter": "python",
   "pygments_lexer": "ipython3",
   "version": "3.6.1"
  }
 },
 "nbformat": 4,
 "nbformat_minor": 2
}
