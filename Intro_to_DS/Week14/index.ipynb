{
 "cells": [
  {
   "cell_type": "markdown",
   "metadata": {},
   "source": [
    "# Week 14 Overview#\n",
    "\n",
    "![Data Processing Comic](images/BBQ.gif)\n",
    "\n",
    "## Introduction to Python Data Processing ##\n",
    "\n",
    "In this week, you will learn to perform basic data science tasks by\n",
    "using Python. First, you will learn how to effectively use Pandas to\n",
    "read and write data to a database directly from a `DataFrame`. Second,\n",
    "you will learn about web pages, and how to programmatically extract data\n",
    "from a web page or even websites. Finally, you will learn how to write a\n",
    "Python program that extract data from a website, processes an XML-based\n",
    "file to encode this information, in order to generate a new type of\n",
    "visualization known as a Chloropeth.\n",
    "\n",
    "### Objectives ###\n",
    "\n",
    "##### By the end of this lesson, you should accomplish the following learning objectives:######\n",
    "\n",
    "- Understand how to use Pandas to directly interact with a database\n",
    "- Understand how to use a parsing library to extract information from a data file.\n",
    "- Understand how the document object model.\n",
    "- Understand how to extract data from website.\n",
    "- Understand how to make a Chloropeth visualization.\n",
    "\n",
    "### Activities and Assignments ###\n",
    "\n",
    "|Activities and Assignments | Time Estimate | Deadline* | Points|\n",
    "|:------| -----|-------|----------:|\n",
    "|**[Week 14 Introduction Video][w14v]**|10 Minutes|Tuesday|NA|\n",
    "|**[Week 14 Lesson 1: Python: Pandas Database Programming](notebooks/w14l1.ipynb)**| 1 Hours |Thursday| 20|\n",
    "|**[Week 14 Lesson 2: Python: Web Scraping](notebooks/w14l2.ipynb)**| 2 Hours | Thursday | 20 |\n",
    "|**[Week 14 Lesson 3: Python: Data Science example](notebooks/w14l3.ipynb)**| 2 Hours | Thursday| 20 |\n",
    "|**[Week 14 Quiz][w14q]**| 45 Minutes | Friday | 70|\n",
    "|**Week 14 Assignment Submission**| 3 Hours | *The following*  Monday | 125 points from the Instructor<br>10 points from Peer grading | \n",
    "|**Week 14 Completion of Peer Review**| 3 Hours | *The following* Saturday | 15 | \n",
    "\n",
    "*Please note that unless otherwise noted, the due time is 6pm Central time!\n",
    "\n",
    "----------\n",
    "[w14v]: https://mediaspace.illinois.edu/media/t/1_ylha55qr/76031081\n",
    "[w14q]: https://learn.illinois.edu/mod/quiz/view.php?id=2169077\n",
    "\n",
    "Photo Credit: Data Processing Center.  By Harley Schwadron. From cartoonstock.com.  Accessed 3 August 2015."
   ]
  }
 ],
 "metadata": {
  "kernelspec": {
   "display_name": "Python 3",
   "language": "python",
   "name": "python3"
  },
  "language_info": {
   "codemirror_mode": {
    "name": "ipython",
    "version": 3
   },
   "file_extension": ".py",
   "mimetype": "text/x-python",
   "name": "python",
   "nbconvert_exporter": "python",
   "pygments_lexer": "ipython3",
   "version": "3.6.1"
  }
 },
 "nbformat": 4,
 "nbformat_minor": 2
}
