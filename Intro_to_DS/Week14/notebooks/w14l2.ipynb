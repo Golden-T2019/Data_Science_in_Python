{
 "cells": [
  {
   "cell_type": "markdown",
   "metadata": {},
   "source": [
    "# Week 14 Lesson 2 #\n",
    "\n",
    "## Data Parsing##\n",
    "\n",
    "In this lesson, you will learn about extracting information from\n",
    "structured data sets. This includes parsing data from XML formats such\n",
    "as HTML, which is the language in which web pages are written and\n",
    "stored. To do this you will learn about the BeautifulSoup parsing\n",
    "library and the libxml parsing engine. You also will review the basics\n",
    "of regular expressions, which can speed up the extraction of specific\n",
    "data from XML formatted files.\n",
    "\n",
    "### Objectives ###\n",
    "\n",
    "By the end of this lesson, you will be able to:\n",
    "\n",
    "- Understand how to use a data parsing library like BeautifulSoup.\n",
    "- Understand how to find and extract information from an XML format file\n",
    "- Understand how to extract data from a webpage.\n",
    "- Understand the document object model \n",
    "\n",
    "\n",
    "### Time Estimate ###\n",
    "\n",
    "Approximately 2 hours.\n",
    "\n",
    "### Readings ####\n",
    "\n",
    "#### Video\n",
    "\n",
    "[Week 14 Lesson 2 Video](https://mediaspace.illinois.edu/media/t/1_xnapdwvj/76031081)\n",
    "\n",
    "#### Required Readings\n",
    "\n",
    "- Course Jupyter Notebook on [Web Scraping](intro2ws.ipynb)\n",
    "- [BeautifulSoup](http://www.crummy.com/software/BeautifulSoup/bs4/doc/) documentation\n",
    "- [Scrapy](https://docs.scrapy.org/en/latest/intro/tutorial.html), a new web scraping framework in Python\n",
    "\n",
    "#### *Optional Additional Readings*####\n",
    "\n",
    "- A course [primer notebook](https://info490rb.studentspace.cs.illinois.edu/user-redirect/notebooks/info490-fa17-lessons/Week8/notebooks/intro2pandas.ipynb) on Pandas\n",
    "- A [web scraping](http://nbviewer.ipython.org/url/www.unc.edu/~ncaren/Lax-1.ipynb.json) in Python tutorial\n",
    "\n",
    "### Assessment ###\n",
    "\n",
    "When you have completed and worked through the above readings, please take the [Week 14 Lesson 2 Assessment][w14la]\n",
    "[w14la]: https://learn.illinois.edu/mod/quiz/view.php?id=2169200"
   ]
  }
 ],
 "metadata": {
  "kernelspec": {
   "display_name": "Python 3",
   "language": "python",
   "name": "python3"
  },
  "language_info": {
   "codemirror_mode": {
    "name": "ipython",
    "version": 3
   },
   "file_extension": ".py",
   "mimetype": "text/x-python",
   "name": "python",
   "nbconvert_exporter": "python",
   "pygments_lexer": "ipython3",
   "version": "3.6.1"
  }
 },
 "nbformat": 4,
 "nbformat_minor": 2
}
