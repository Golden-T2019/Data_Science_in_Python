{
 "cells": [
  {
   "cell_type": "markdown",
   "metadata": {},
   "source": [
    "# Week 14 Lesson 1 #\n",
    "\n",
    "## Pandas and Databases ##\n",
    "\n",
    "In this lesson, you will learn how to work with a SQL based database by\n",
    "using the Pandas Python library. Pandas simplifies many data tasks by\n",
    "hiding details that are not relevant for many projects. In this case,\n",
    "Pandas can hide many of the database interaction mechanisms to allow one\n",
    "to easily query, update, or insert new data into an existing database. \n",
    "\n",
    "### Objectives ###\n",
    "\n",
    "By the end of this lesson, you will be able to:\n",
    "\n",
    "- Understand the basic concepts involved in using a Pandas DataFrame to interact with a database.\n",
    "- Understand how to query data by using Pandas.\n",
    "- Understand how to update data by using Pandas.\n",
    "- Understand how to use Pandas to create and populate new database tables.\n",
    "\n",
    "### Time Estimate ###\n",
    "\n",
    "Approximately 1 hours.\n",
    "\n",
    "### Readings ####\n",
    "\n",
    "#### Video\n",
    "\n",
    "[Week 14 Lesson 1 Video](https://mediaspace.illinois.edu/media/t/1_engx65ao/76031081)\n",
    "\n",
    "#### Required Readings\n",
    "\n",
    "- Course [Jupyter Notebook](intro2pythondb.ipynb)\n",
    "\n",
    "#### *Optional Additional Readings*####\n",
    "\n",
    "- [Blog Post](http://pandas.pydata.org/pandas-docs/stable/comparison_with_sql.html) about Pandas and SQL\n",
    "\n",
    "### Assessment ###\n",
    "\n",
    "When you have completed and worked through the above readings, please take the [Week 14 Lesson 1 Assessment][w14la]\n",
    "[w14la]: https://learn.illinois.edu/mod/quiz/view.php?id=2169197"
   ]
  }
 ],
 "metadata": {
  "kernelspec": {
   "display_name": "Python 3",
   "language": "python",
   "name": "python3"
  },
  "language_info": {
   "codemirror_mode": {
    "name": "ipython",
    "version": 3
   },
   "file_extension": ".py",
   "mimetype": "text/x-python",
   "name": "python",
   "nbconvert_exporter": "python",
   "pygments_lexer": "ipython3",
   "version": "3.6.1"
  }
 },
 "nbformat": 4,
 "nbformat_minor": 2
}
