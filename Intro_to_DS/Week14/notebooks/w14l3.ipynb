{
 "cells": [
  {
   "cell_type": "markdown",
   "metadata": {},
   "source": [
    "# Week 14 Lesson 3 #\n",
    "\n",
    "## Working with Data ##\n",
    "\n",
    "In this lesson, you will review a worked example that demonstrates how\n",
    "to work with different data sets to make an interesting data\n",
    "visualization known as a choropleth. To do this we need to access web\n",
    "resources, parse an XML-based data format, extract meaningful data from\n",
    "a second web accessible resource, and combine it all into a new and\n",
    "interesting visualization.\n",
    "\n",
    "### Objectives ###\n",
    "\n",
    "By the end of this lesson, you will be able to:\n",
    "\n",
    "- Understand how to download and access web resources.\n",
    "- Understand how to use Pandas to access online data files.\n",
    "- Understand how to extract data from XML-based resources.\n",
    "- Understand how to create and display a Choropleth visualization.\n",
    "\n",
    "### Time Estimate ###\n",
    "\n",
    "Approximately 2 hours.\n",
    "\n",
    "### Readings ####\n",
    "\n",
    "#### Video\n",
    "\n",
    "[Week 14 Lesson 3 Video](https://mediaspace.illinois.edu/media/t/1_huhm3tok/76031081)\n",
    "\n",
    "#### Required Readings\n",
    "\n",
    "- Course Data [Choropleth Visualization](dawe.ipynb) Notebook\n",
    "- Python [Requests](http://docs.python-requests.org/en/latest/)\n",
    "\n",
    "#### *Optional Additional Readings*####\n",
    "\n",
    "- Choosing [Choropleth](http://colorbrewer2.org/) colors\n",
    "- [Bureau of Labor Statistics](http://www.bls.gov/lau/#tables)\n",
    "\n",
    "### Assessment ###\n",
    "\n",
    "When you have completed and worked through the above readings, please take the [Week 14 Lesson 3 Assessment][w14la]\n",
    "[w14la]: https://learn.illinois.edu/mod/quiz/view.php?id=2169203"
   ]
  }
 ],
 "metadata": {
  "kernelspec": {
   "display_name": "Python 3",
   "language": "python",
   "name": "python3"
  },
  "language_info": {
   "codemirror_mode": {
    "name": "ipython",
    "version": 3
   },
   "file_extension": ".py",
   "mimetype": "text/x-python",
   "name": "python",
   "nbconvert_exporter": "python",
   "pygments_lexer": "ipython3",
   "version": "3.6.1"
  }
 },
 "nbformat": 4,
 "nbformat_minor": 2
}
