{
 "cells": [
  {
   "cell_type": "markdown",
   "metadata": {},
   "source": [
    "# Week 15 Overview#\n",
    "\n",
    "![Blue Waters Supercomputer](images/bluewatersimage.jpg)\n",
    "\n",
    "## Introduction to High Performance Computing with Python ##\n",
    "\n",
    "In this week, you will have only one lesson, which introduces high\n",
    "performance computing with Python, including an introduction to the\n",
    "Python threading and multiprocessing libraries. We also will cover the\n",
    "IPython cluster model, as well as  review of several commercial and\n",
    "open-source libraries such as the mpi4py library.\n",
    "\n",
    "### Objectives ###\n",
    "\n",
    "##### By the end of this lesson, you should accomplish the following learning objectives:######\n",
    "\n",
    "- Understand the benefits of high performance computing\n",
    "- Understand how the Python threading library can be used in a Python program.\n",
    "- Understand how the Python multiprocessing library can be used in a Python program.\n",
    "- Understand how the iPython cluster model can be used in a Python program.\n",
    "\n",
    "### Activities and Assignments ###\n",
    "\n",
    "|Activities and Assignments | Time Estimate | Deadline* | Points|\n",
    "|:------| -----|-------|----------:|\n",
    "|**[Week 15 Introduction Video][w15v]**|10 Minutes| Monday | N/A |\n",
    "|**[Week 15 Lesson 1: Python: Introduction to HPC](notebooks/w15l1.ipynb)**| 2 Hours |Tuesday| 20|\n",
    "\n",
    "*Please note that unless otherwise noted, the due time is 6pm Central time!*\n",
    "\n",
    "----------\n",
    "[w15v]: https://mediaspace.illinois.edu/media/t/1_etoqxcon/76031081\n",
    "\n",
    "Photo Credit: Blue Waters Supercomputer. From http://gladiator.ncsa.illinois.edu/Images/bluewaters/timeline/bw_front.jpg. Accessed 3 August 2015."
   ]
  }
 ],
 "metadata": {
  "kernelspec": {
   "display_name": "Python 3",
   "language": "python",
   "name": "python3"
  },
  "language_info": {
   "codemirror_mode": {
    "name": "ipython",
    "version": 3
   },
   "file_extension": ".py",
   "mimetype": "text/x-python",
   "name": "python",
   "nbconvert_exporter": "python",
   "pygments_lexer": "ipython3",
   "version": "3.6.1"
  }
 },
 "nbformat": 4,
 "nbformat_minor": 2
}
