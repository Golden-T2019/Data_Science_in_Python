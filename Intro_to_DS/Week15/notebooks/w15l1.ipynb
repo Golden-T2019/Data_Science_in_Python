{
 "cells": [
  {
   "cell_type": "markdown",
   "metadata": {},
   "source": [
    "# Week 15 Lesson 1 #\n",
    "\n",
    "## Introduction to Python HPC ##\n",
    "\n",
    "In this lesson, you will learn about high performance computing by using\n",
    "the Python language. Specifically, you will learn about Python methods\n",
    "for threading, process control, the IPython server's parallel processing\n",
    "capabilities, and finally, third party tools that can accelerate your\n",
    "analysis code, including commercial libraries like Numba, and the open\n",
    "source mpi4py.\n",
    "\n",
    "### Objectives ###\n",
    "\n",
    "By the end of this lesson, you will be able to:\n",
    "\n",
    "- Understand the basic concepts behind optimizing Python programs.\n",
    "- Understand how the Python Threading library works.\n",
    "- Understand how the Python Multiprocessing library works.\n",
    "- Understand how the IPYthon cluster model works. \n",
    "\n",
    "### Time Estimate ###\n",
    "\n",
    "Approximately 2 hours.\n",
    "\n",
    "### Readings ####\n",
    "\n",
    "#### Video\n",
    "\n",
    "[Week 15 Lesson 1 Video](https://mediaspace.illinois.edu/media/t/1_3fsd2ecg/76031081)\n",
    "\n",
    "#### Required Readings\n",
    "\n",
    "- Course Python HPC [Notebook](pyhpc.ipynb)\n",
    "\n",
    "\n",
    "#### *Optional Additional Readings*####\n",
    "\n",
    "- MPI for Python [documentation](https://mpi4py.readthedocs.org/en/latest/)\n",
    "\n",
    "### Assessment ###\n",
    "\n",
    "When you have completed and worked through the above readings, please take the [Week 15 Lesson 1 Assessment][w15la]\n",
    "[w15la]: https://learn.illinois.edu/mod/quiz/view.php?id=2169206"
   ]
  }
 ],
 "metadata": {
  "kernelspec": {
   "display_name": "Python 3",
   "language": "python",
   "name": "python3"
  },
  "language_info": {
   "codemirror_mode": {
    "name": "ipython",
    "version": 3
   },
   "file_extension": ".py",
   "mimetype": "text/x-python",
   "name": "python",
   "nbconvert_exporter": "python",
   "pygments_lexer": "ipython3",
   "version": "3.6.1"
  }
 },
 "nbformat": 4,
 "nbformat_minor": 2
}
