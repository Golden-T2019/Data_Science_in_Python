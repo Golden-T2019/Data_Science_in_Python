{
 "cells": [
  {
   "cell_type": "markdown",
   "metadata": {},
   "source": [
    "# Week 1: Lesson 1\n",
    "\n",
    "-----\n",
    "\n",
    "## Intro to Data Science\n",
    "\n",
    "In this lesson you will learn about the history of Data Science and how Data Science, by nature, is a combination of many different disciplines.\n",
    "\n",
    "### Objectives\n",
    "\n",
    "By the end of this lesson, you will:\n",
    "\n",
    "- Know the basics about the origin, development, and popularization about Data Science.\n",
    "- Know which disciplines contribute to Data Science\n",
    "- Understand how different disciplines acquire, process, and understand data.\n",
    "\n",
    "You could share with the class via a Moodle Discussion Forum post how your discipline views _Data Science_.\n",
    "\n",
    "### Time Estimate\n",
    "\n",
    "Approximately 2 hours.\n",
    "\n",
    "### Readings\n",
    "\n",
    "#### Video\n",
    "\n",
    "[Week 1 Lesson 1 Video](https://mediaspace.illinois.edu/media/w1l1/1_cbz0z1go/76031081)\n",
    "\n",
    "#### Required Readings\n",
    "\n",
    "For both of these two readings, you should stop when you reach the _assignment/Exercise_ section.\n",
    "- Read the [Wikipedia article on A History of Data Science](https://en.wikibooks.org/wiki/Data_Science:_An_Introduction/A_History_of_Data_Science).\n",
    "- Read the [Wikipedia article on A Mash-up of Disciplines in Data Science](https://en.wikibooks.org/wiki/Data_Science:_An_Introduction/A_Mash-up_of_Disciplines).\n",
    "\n",
    "#### Optional Additional Readings\n",
    "\n",
    "- [Definitions of Data](https://en.wikibooks.org/wiki/Data_Science:_An_Introduction/Definitions_of_Data)\n",
    "\n",
    "### Assessment\n",
    "\n",
    "When you have completed and worked through the above readings, please take the [Week 1 Lesson 1 Assessment][QL].\n",
    "\n",
    "-----\n",
    "\n",
    "[QL]: https://learn.illinois.edu/mod/quiz/view.php?id=2169080"
   ]
  }
 ],
 "metadata": {
  "kernelspec": {
   "display_name": "Python 3",
   "language": "python",
   "name": "python3"
  },
  "language_info": {
   "codemirror_mode": {
    "name": "ipython",
    "version": 3
   },
   "file_extension": ".py",
   "mimetype": "text/x-python",
   "name": "python",
   "nbconvert_exporter": "python",
   "pygments_lexer": "ipython3",
   "version": "3.6.1"
  }
 },
 "nbformat": 4,
 "nbformat_minor": 2
}
