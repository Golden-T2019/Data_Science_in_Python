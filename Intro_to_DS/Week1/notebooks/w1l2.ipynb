{
 "cells": [
  {
   "cell_type": "markdown",
   "metadata": {},
   "source": [
    "# Week 1: Lesson 2\n",
    "\n",
    "-----\n",
    "\n",
    "## The Unix Shell\n",
    "\n",
    "In this lesson you will begin working at the Unix prompt in order to understand the bash shell, which is one of the more commonly used interfaces to Unix systems.\n",
    "\n",
    "### Objectives\n",
    "\n",
    "By the end of this lesson, you will be able to:\n",
    "\n",
    "- Understand the basic concepts behind the Unix operating system.\n",
    "- Understand how to work at the Unix command prompt.\n",
    "\n",
    "### Time Estimate\n",
    "\n",
    "Approximately 2 hours.\n",
    "\n",
    "### Readings\n",
    "\n",
    "#### Video\n",
    "\n",
    "[Week 1 Lesson 2 Video](https://mediaspace.illinois.edu/media/w1l2.mp4/1_dcdngdfb/76031081)\n",
    "\n",
    "#### Required Readings\n",
    "\n",
    "- Read chapters 1-2 from the free book [The Linux Command Line (PDF)](http://sourceforge.net/projects/linuxcommand/?source=dlp), Second Internet Edition, by William E. Shotts, Jr. \n",
    "- Follow along by entering the commands as directed into a terminal window on the course JupyterHub server.\n",
    "- Explore the INFO490 Course [Introduction to Unix](intro2unix.ipynb) Notebook\n",
    "\n",
    "#### Optional Additional Readings\n",
    "\n",
    "- [Guide to Unix/Why Unix-like](https://en.wikibooks.org/wiki/Guide_to_Unix/Why_Unix-like)\n",
    "- [Unix Tutorial for Beginners](https://www.cs.sfu.ca/~ggbaker/reference/unix/)\n",
    "- [Introduction to Linux: A Hands-on Guide](http://www.tldp.org/LDP/intro-linux/html/index.html)\n",
    "\n",
    "### Assessment ###\n",
    "\n",
    "When you have completed and worked through the above readings, please take the [Week 1 Lesson 2 Assessment][QL].\n",
    "\n",
    "-----\n",
    "\n",
    "[QL]: https://learn.illinois.edu/mod/quiz/view.php?id=2169083"
   ]
  }
 ],
 "metadata": {
  "kernelspec": {
   "display_name": "Python 3",
   "language": "python",
   "name": "python3"
  },
  "language_info": {
   "codemirror_mode": {
    "name": "ipython",
    "version": 3
   },
   "file_extension": ".py",
   "mimetype": "text/x-python",
   "name": "python",
   "nbconvert_exporter": "python",
   "pygments_lexer": "ipython3",
   "version": "3.6.1"
  }
 },
 "nbformat": 4,
 "nbformat_minor": 2
}
