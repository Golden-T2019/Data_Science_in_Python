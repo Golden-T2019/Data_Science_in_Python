{
 "cells": [
  {
   "cell_type": "markdown",
   "metadata": {},
   "source": [
    "# Week 1: Introduction to Unix\n",
    "\n",
    "### Objectives\n",
    "\n",
    "#### By the end of this lesson, you should be able to:\n",
    "\n",
    "- Know the basics about the origin of, and the disciplines that contribute to Data Science.\n",
    "- Understand how to work in a Unix Shell.\n",
    "- Understand the basic Unix file system and how to create, copy, move, and delete files and directories.\n",
    "\n",
    "### Activities and Assignments\n",
    "\n",
    "| Activities and Assignments               | Time Estimate | Deadline* | Points |\n",
    "| :--------------------------------------- | ------------- | --------- | -----: |\n",
    "| **[Week 1 Introduction Video][wv]**      | 10 Minutes    | Tuesday   |    N/A |\n",
    "| **[Week 1 Lesson 1: Intro to Data Science](notebooks/w1l1.ipynb)** | 2 Hours       | Thursday  |     20 |\n",
    "| **[Week 1 Lesson 2: The Unix Shell](notebooks/w1l2.ipynb)** | 2 Hours       | Thursday  |     20 |\n",
    "| **[Week 1 Lesson 3: The Unix File System](notebooks/w1l3.ipynb)** | 2 Hours       | Thursday  |     20 |\n",
    "| **[Week 1 Quiz][wq]**                    | 45 Minutes    | Friday    |     70 |\n",
    "\n",
    "*Please note that unless otherwise noted, the due time is 6pm Central time!\n",
    "\n",
    "----------\n",
    "\n",
    "[wv]: https://mediaspace.illinois.edu/media/w1ov.mp4/1_6v2g1vq8/76031081\n",
    "[wq]: https://learn.illinois.edu/mod/quiz/view.php?id=2169038"
   ]
  }
 ],
 "metadata": {
  "kernelspec": {
   "display_name": "Python 3",
   "language": "python",
   "name": "python3"
  },
  "language_info": {
   "codemirror_mode": {
    "name": "ipython",
    "version": 3
   },
   "file_extension": ".py",
   "mimetype": "text/x-python",
   "name": "python",
   "nbconvert_exporter": "python",
   "pygments_lexer": "ipython3",
   "version": "3.6.1"
  }
 },
 "nbformat": 4,
 "nbformat_minor": 2
}
