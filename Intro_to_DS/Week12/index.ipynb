{
 "cells": [
  {
   "cell_type": "markdown",
   "metadata": {},
   "source": [
    "# Week 12 Overview#\n",
    "\n",
    "![Relational Databases Comic](images/relational_databases.jpg)\n",
    "\n",
    "## Introduction to Data Persistence ##\n",
    "\n",
    "This week you will learn about relational database management systems\n",
    "(RDBMS), still the most popular data storage technology. You will learn\n",
    "SQL, the language by which database users interact with a relational\n",
    "database. To test database and SQL concepts, we will use the open source\n",
    "database system known as SQLite, specifically version 3 of the SQLite\n",
    "database known as sqlite3. Note, most of the documentation you will read\n",
    "and follow online will refer to running the sqlite program at the\n",
    "command line, you will run the sqlite3 program both from within a\n",
    "Jupyter Notebook and at the command line. Using SQLite, you will learn\n",
    "about SQL data definition language (DDL) functionality and SQL data\n",
    "manipulation language (DML) functionality.\n",
    "\n",
    "### Objectives ###\n",
    "\n",
    "##### By the end of this lesson, you should accomplish the following learning objectives:######\n",
    "\n",
    "- Understand the basic concepts behind a relational database system.\n",
    "- Understand how to create and use a SQLite database.\n",
    "- Understand how to use SQL to interact with a SQLite database.\n",
    "\n",
    "### Activities and Assignments ###\n",
    "\n",
    "|Activities and Assignments | Time Estimate | Deadline* | Points|\n",
    "|:------| -----|-------|----------:|\n",
    "|**[Week 12 Introduction Video][w12v]**|10 Minutes|Tuesday|NA|\n",
    "|**[Week 12 Lesson 1: Relational Databases](notebooks/w12l1.ipynb)**| 2 Hours |Thursday| 20|\n",
    "|**[Week 12 Lesson 2: SQL: Schema Manipulation](notebooks/w12l2.ipynb)**| 2 Hours | Thursday | 20 |\n",
    "|**[Week 12 Lesson 3: SQL: Data Manipulation](notebooks/w12l3.ipynb)**| 2 Hours | Thursday| 70 |\n",
    "|**[Week 12 Quiz][w12q]**| 45 Minutes | Friday | 70|\n",
    "|**Week 12 Assignment Submission**| 3 Hours | *The following*  Monday<br>(after the break) | 125 poitns from the Instructor<br>10 points from Peer grading | \n",
    "|**Week 12 Completion of Peer Review**| 3 Hours | *The following* Saturday<br>(after the break) | 15 | \n",
    "\n",
    "*Please note that unless otherwise noted, the due time is 6pm Central time!\n",
    "\n",
    "----------\n",
    "[w12v]: https://mediaspace.illinois.edu/media/t/1_wcd2iued/76031081\n",
    "[w12q]: https://learn.illinois.edu/mod/quiz/view.php?id=2169071\n",
    "\n",
    "Photo Credit: If Libraries were like relational databases by Brian Panulla. Created 31 December 2010. http://ghostednotes.com/2010/12/31/if-libraries-were-like-relational-databases. Accessed 3 August 2015"
   ]
  },
  {
   "cell_type": "code",
   "execution_count": null,
   "metadata": {
    "collapsed": true
   },
   "outputs": [],
   "source": []
  }
 ],
 "metadata": {
  "kernelspec": {
   "display_name": "Python 3",
   "language": "python",
   "name": "python3"
  },
  "language_info": {
   "codemirror_mode": {
    "name": "ipython",
    "version": 3
   },
   "file_extension": ".py",
   "mimetype": "text/x-python",
   "name": "python",
   "nbconvert_exporter": "python",
   "pygments_lexer": "ipython3",
   "version": "3.6.1"
  }
 },
 "nbformat": 4,
 "nbformat_minor": 2
}
