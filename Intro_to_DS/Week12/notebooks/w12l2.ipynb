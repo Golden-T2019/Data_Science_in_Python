{
 "cells": [
  {
   "cell_type": "markdown",
   "metadata": {},
   "source": [
    "# Week 12 Lesson 2 #\n",
    "\n",
    "## Using SQL for Schema Manipulation ##\n",
    "\n",
    "In this lesson, you will learn how to create and delete database and\n",
    "database schema. First, you will earn about basic SQL Syntax, including\n",
    "the allowed SQL data types. While this will focus on the Sqlite3 syntax\n",
    "and data types,  more general information will be conveyed. Next, you\n",
    "will learn how to create and delete databases. Next you will learn how\n",
    "to create database schema, including relational tables, and the columns\n",
    "that define the characteristics of those tables. This will also include\n",
    "a discussion of views, indices, and user defined functions. Finally,\n",
    "you will learn how to drop and alter existing tables.\n",
    "\n",
    "### Objectives ###\n",
    "\n",
    "By the end of this lesson, you will be able to:\n",
    "\n",
    "- Understand how to create and delete databases in SQLite.\n",
    "- Understand how to create and delete relational database tables by using SQLite.\n",
    "- Understand the creation and maintenance of relational database schema.\n",
    "- Understand the difference between relational database tables and views.\n",
    "\n",
    "### Time Estimate ###\n",
    "\n",
    "Approximately 2 hours.\n",
    "\n",
    "### Readings ####\n",
    "\n",
    "#### Video\n",
    "\n",
    "[Week 12 Lesson 2 Video](https://mediaspace.illinois.edu/media/t/1_wk2edipp/76031081)\n",
    "\n",
    "#### Required Readings\n",
    "\n",
    "- Introduction to [SQL DDL Notebook](intro2sqlddl.ipynb) \n",
    "\n",
    "#### *Optional Additional Readings*####\n",
    "\n",
    "- [Database and SQL Tutorial](http://www.tutorialspoint.com/sql/index.htm): From the SQL-Syntax page through the SQL-Drop Table page.\n",
    "- [SQLite Tutorial](http://www.tutorialspoint.com/sqlite/index.htm): From the SQLite-Syntax page through the SQLite-Drop Table page\n",
    "- [SQL Tutorial](http://www.w3schools.com/sql/)\n",
    "- [SQL Online Tutorial](http://sqlzoo.net/wiki/Main_Page)\n",
    "\n",
    "\n",
    "\n",
    "### Assessment ###\n",
    "\n",
    "When you have completed and worked through the above readings, please take the [Week 12 Lesson 2 Assessment][w12la]\n",
    "[w12la]: https://learn.illinois.edu/mod/quiz/view.php?id=2169182"
   ]
  }
 ],
 "metadata": {
  "kernelspec": {
   "display_name": "Python 3",
   "language": "python",
   "name": "python3"
  },
  "language_info": {
   "codemirror_mode": {
    "name": "ipython",
    "version": 3
   },
   "file_extension": ".py",
   "mimetype": "text/x-python",
   "name": "python",
   "nbconvert_exporter": "python",
   "pygments_lexer": "ipython3",
   "version": "3.6.1"
  }
 },
 "nbformat": 4,
 "nbformat_minor": 2
}
