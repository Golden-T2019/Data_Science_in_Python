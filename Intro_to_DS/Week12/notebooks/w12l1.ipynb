{
 "cells": [
  {
   "cell_type": "markdown",
   "metadata": {},
   "source": [
    "# Week 12 Lesson 1 #\n",
    "\n",
    "## Relational Database ##\n",
    "\n",
    "In this lesson, you will start learning about data persistence\n",
    "techniques by using Python. First, you will review using basic file I/O\n",
    "to save Python data. Next, you will learn about Pickling, a Python\n",
    "technique for saving and restoring data  by using a custom Python\n",
    "format. Third, you will learn about relational databases, including the\n",
    "basic relational database concepts such as database roles and the ACID\n",
    "test. Finally you will learn about the SQLite database that we will use\n",
    "to demonstrate relational database concept in this course.\n",
    "\n",
    "### Objectives ###\n",
    "\n",
    "By the end of this lesson, you will be able to:\n",
    "\n",
    "- Understand the concept of pickling data.\n",
    "- Understand relational database technology\n",
    "- Understand database roles.\n",
    "- Understand the ACID test. \n",
    "- Understand the basic concepts behind the Sqlite database\n",
    "\n",
    "### Time Estimate ###\n",
    "\n",
    "Approximately 2 hours.\n",
    "\n",
    "### Readings ####\n",
    "\n",
    "#### Video\n",
    "\n",
    "[Week 12 Lesson 1 Video](https://mediaspace.illinois.edu/media/t/1_7x6ek8e4/76031081)\n",
    "\n",
    "#### Required Readings\n",
    "\n",
    "- Introduction to [Data Persistence Notebook](intro2db.ipynb)\n",
    "\n",
    "#### *Optional Additional Readings*####\n",
    "\n",
    "- [Database and SQL Tutorial](http://www.tutorialspoint.com/sql/index.htm): From the SQL-Home page through the SQL-Databases page.\n",
    "- [SQLite Tutorial](http://www.tutorialspoint.com/sqlite/index.htm): From the SQLite-Home page through the SQLite-Commands page\n",
    "\n",
    "### Assessment ###\n",
    "\n",
    "When you have completed and worked through the above readings, please take the [Week 12 Lesson 1 Assessment][w12la]\n",
    "[w12la]: https://learn.illinois.edu/mod/quiz/view.php?id=2169179"
   ]
  }
 ],
 "metadata": {
  "kernelspec": {
   "display_name": "Python 3",
   "language": "python",
   "name": "python3"
  },
  "language_info": {
   "codemirror_mode": {
    "name": "ipython",
    "version": 3
   },
   "file_extension": ".py",
   "mimetype": "text/x-python",
   "name": "python",
   "nbconvert_exporter": "python",
   "pygments_lexer": "ipython3",
   "version": "3.6.1"
  }
 },
 "nbformat": 4,
 "nbformat_minor": 2
}
