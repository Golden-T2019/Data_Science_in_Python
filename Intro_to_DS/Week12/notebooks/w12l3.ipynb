{
 "cells": [
  {
   "cell_type": "markdown",
   "metadata": {},
   "source": [
    "# Week 12 Lesson 3 #\n",
    "\n",
    "## Using SQL for Data Manipulation ##\n",
    "\n",
    "In this lesson, you will learn how to add, change, delete, and select\n",
    "data by using the SQLite database. First, you will learn about the SQL\n",
    "INSERT command, which you will use to insert data into a SQLite\n",
    "database. Second, you will learn about the SQL SELECT query command,\n",
    "including the use of operators, expressions, and a WHERE clause to\n",
    "extract data from a SQLite database. Next you will learn about making\n",
    "more complex SQL queries by creating compound SQL statements with the\n",
    "AND and OR clauses. Next, you will learn about changing or deleting\n",
    "data from a SQLIte database by using the SQL UPDATE and DELETE commands.\n",
    "Finally, you will learn more advanced SQL commands to create more\n",
    "powerful queries for extracting, changing, or deleting data from a\n",
    "SQLite database. \n",
    "\n",
    "In this lesson, you can also try some of these SQL statements out on\n",
    "other databases by using the online SQL emulator located at\n",
    "[http://sqlzoo.net/wiki/SQL_Tutorial](http://sqlzoo.net/wiki/SQL_Tutorial).\n",
    "By changing the Engine drop-down box,\n",
    "you can choose to execute SQL against a MySQL, Oracle, SQL Server,\n",
    "PostgreSQL, Ingres, or DB2 database.\n",
    "\n",
    "### Objectives ###\n",
    "\n",
    "By the end of this lesson, you will be able to:\n",
    "\n",
    "- Understand how to insert data into a SQL database.\n",
    "- Understand how to extract data from a SQL database.\n",
    "- Understand how to change data in a SQL database.\n",
    "- Understand how to delete data in a SQL database.\n",
    "\n",
    "### Time Estimate ###\n",
    "\n",
    "Approximately 2 hours.\n",
    "\n",
    "### Readings ####\n",
    "\n",
    "#### Video\n",
    "\n",
    "[Week 12 Lesson 3 Video](https://mediaspace.illinois.edu/media/t/1_5njiwfi6/76031081)\n",
    "\n",
    "#### Required Readings\n",
    "\n",
    "- Introduction to [SQL DML Notebook](intro2sqldml.ipynb)\n",
    "\n",
    "#### *Optional Additional Readings*####\n",
    "\n",
    "- [Database and SQL Tutorial](http://www.tutorialspoint.com/sql/index.htm): From the SQL-Insert Query page through the SQL-Sorting Results page.\n",
    "- [SQLite Tutorial](http://www.tutorialspoint.com/sqlite/index.htm): From the SQLite-Insert Query page through the SQLite-Distinct page\n",
    "- [SQL Tutorial](http://www.w3schools.com/sql/)\n",
    "- [SQL Online Tutorial](http://sqlzoo.net/wiki/Main_Page)\n",
    "\n",
    "### Assessment ###\n",
    "\n",
    "When you have completed and worked through the above readings, please take the [Week 12 Lesson 3 Assessment][w12la]\n",
    "[w12la]: https://learn.illinois.edu/mod/quiz/view.php?id=2169185"
   ]
  }
 ],
 "metadata": {
  "kernelspec": {
   "display_name": "Python 3",
   "language": "python",
   "name": "python3"
  },
  "language_info": {
   "codemirror_mode": {
    "name": "ipython",
    "version": 3
   },
   "file_extension": ".py",
   "mimetype": "text/x-python",
   "name": "python",
   "nbconvert_exporter": "python",
   "pygments_lexer": "ipython3",
   "version": "3.6.1"
  }
 },
 "nbformat": 4,
 "nbformat_minor": 2
}
