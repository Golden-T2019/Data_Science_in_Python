{
 "cells": [
  {
   "cell_type": "markdown",
   "metadata": {},
   "source": [
    "# Week 10 Overview#\n",
    "\n",
    "## Introduction to Statistical Analysis ##\n",
    "\n",
    "This week you will learn about basic statistical analysis by using\n",
    "distribution functions and summary statistics. First, you will learn\n",
    "about representing data by a distribution, and how summary statistics\n",
    "can simplify this description. Next you will learn about more powerful\n",
    "distributions functions, including ones generated directly from the data\n",
    "like a probability mass function and a cumulative density function, as\n",
    "well as more commonly used theoretical distributions that can be used to\n",
    "approximate data. Finally, you will learn about visualization\n",
    "distributions by using matplotlib and seaborn.\n",
    "\n",
    "### Objectives ###\n",
    "\n",
    "##### By the end of this lesson, you should accomplish the following learning objectives:######\n",
    "\n",
    "- Understand the different summary statistics.\n",
    "- Understand how to create and use mass and density functions to represent data sets.\n",
    "- Understand how theoretical distributions can be used to approximate data sets.\n",
    "- Understand how to visualize distributions by using Python.\n",
    "\n",
    "### Activities and Assignments ###\n",
    "\n",
    "|Activities and Assignments | Time Estimate | Deadline* | Points|\n",
    "|:------| -----|-------|----------:|\n",
    "|**[Week 10 Introduction Video][w10v]**|10 Minutes|Tuesday|NA|\n",
    "|**[Week 10 Lesson 1: Statistics: Summary Measures](notebooks/w10l1.ipynb)**| 2 Hours |Thursday| 20|\n",
    "|**[Week 10 Lesson 2: Statistics: Distributions](notebooks/w10l2.ipynb)**| 2 Hours | Thursday | 20 |\n",
    "|**[Week 10 Lesson 3: Statistics: Visualization](notebooks/w10l3.ipynb)**| 2 Hours | Thursday| 20 |\n",
    "|**[Week 10 Quiz][w10q]**| 45 Minutes | Friday | 70|\n",
    "|**Week 10 Assignment Submission**| 3 Hours | *The following* Monday | 125 points from the Instructor<br>10 points of the grade from Peer grading | \n",
    "|**Week 10 Completion of Peer Review**| 3 Hours | *The following* Saturday | 15 | \n",
    "\n",
    "\n",
    "*Please note that unless otherwise noted, the due time is 6pm Central time!\n",
    "\n",
    "----------\n",
    "[w10v]: https://mediaspace.illinois.edu/media/t/1_66g9j1ut/76031081\n",
    "[w10q]: https://learn.illinois.edu/mod/quiz/view.php?id=2169065"
   ]
  }
 ],
 "metadata": {
  "kernelspec": {
   "display_name": "Python 3",
   "language": "python",
   "name": "python3"
  },
  "language_info": {
   "codemirror_mode": {
    "name": "ipython",
    "version": 3
   },
   "file_extension": ".py",
   "mimetype": "text/x-python",
   "name": "python",
   "nbconvert_exporter": "python",
   "pygments_lexer": "ipython3",
   "version": "3.6.1"
  }
 },
 "nbformat": 4,
 "nbformat_minor": 2
}
