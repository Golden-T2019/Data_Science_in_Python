{
 "cells": [
  {
   "cell_type": "markdown",
   "metadata": {},
   "source": [
    "# Week 10 Lesson 3 #\n",
    "\n",
    "## Visualizing distributions in Python ##\n",
    "\n",
    "In this lesson, you will learn to make and interpret more advanced data\n",
    "visualizations like  histograms by using MatPlotLib. Next you will learn\n",
    "about improving the appearance of data visualizations to better convey\n",
    "information, which we can easily do by using the Seaborn library.\n",
    "Finally, you will learn how to use Seaborn to make visually more\n",
    "appealing plots, how to use Kernel Density Estimation to improve\n",
    "histograms, and how to make box plots and violin plots.\n",
    "\n",
    "### Objectives ###\n",
    "\n",
    "By the end of this lesson, you will be able to:\n",
    "\n",
    "- Understand how to use Matplotlib to make and use Histograms.\n",
    "- Understand the importance of Beautiful Visualizations.\n",
    "- Understand how to use Seaborn to improve the appearance of a plot.\n",
    "- Understand how to make and use Box and Violin plots.\n",
    "- Understand how to use KDE to improve a Box plot.\n",
    "\n",
    "### Time Estimate ###\n",
    "\n",
    "Approximately 2 hours.\n",
    "\n",
    "### Readings ####\n",
    "\n",
    "#### Video\n",
    "\n",
    "[Week 10 Lesson 3 Video](https://mediaspace.illinois.edu/media/t/1_zpps0srx/76031081)\n",
    "\n",
    "#### Required Readings\n",
    "\n",
    "- Introduction to [Distribution visualizations](intro2dataviz.ipynb)\n",
    "- Using [Seaborn to plot distributions](http://seaborn.pydata.org/tutorial/distributions.html)\n",
    "- Demonstration of [how to improve a visualization](http://www.darkhorseanalytics.com/blog/data-looks-better-naked)\n",
    " \n",
    "#### Optional Additional Readings\n",
    "\n",
    "- Data [visualization in Python](http://work.thaslwanter.at/Stats/html/statsBasics.html#data-display)\n",
    "- Impressive [Visualizations](http://setosa.io/#/)\n",
    "\n",
    "\n",
    "### Assessment ###\n",
    "\n",
    "When you have completed and worked through the above readings, please take the [Week 10 Lesson 3 Assessment][w10l3a]\n",
    "\n",
    "[w10l3a]: https://learn.illinois.edu/mod/quiz/view.php?id=2169167"
   ]
  }
 ],
 "metadata": {
  "kernelspec": {
   "display_name": "Python 3",
   "language": "python",
   "name": "python3"
  },
  "language_info": {
   "codemirror_mode": {
    "name": "ipython",
    "version": 3
   },
   "file_extension": ".py",
   "mimetype": "text/x-python",
   "name": "python",
   "nbconvert_exporter": "python",
   "pygments_lexer": "ipython3",
   "version": "3.6.1"
  }
 },
 "nbformat": 4,
 "nbformat_minor": 2
}
