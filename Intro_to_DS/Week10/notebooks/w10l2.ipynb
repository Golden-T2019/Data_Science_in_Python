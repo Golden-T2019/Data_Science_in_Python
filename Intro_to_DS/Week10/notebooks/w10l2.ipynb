{
 "cells": [
  {
   "cell_type": "markdown",
   "metadata": {},
   "source": [
    "# Week 10 Lesson 2 #\n",
    "\n",
    "## Distribution Functions ##\n",
    "\n",
    "In this lesson, you will learn about the different types of distribution\n",
    "functions that can be used to represent a data set, including both\n",
    "discrete and continuous values. You will learn how to construct at\n",
    "distribution functions from a data set, and how to use this\n",
    "summarization to aid in the understanding of the data under analysis.\n",
    "\n",
    "\n",
    "### Objectives ###\n",
    "\n",
    "By the end of this lesson, you will be able to:\n",
    "\n",
    "- Understand probability mass functions and their use to represent discrete data.\n",
    "- Understand continous distribution function and how it can be used to infer relationships about data.\n",
    "- Understand the different distributions functions like Normal, Poisson, and Chi-Squared distribution.\n",
    "\n",
    "### Time Estimate ###\n",
    "\n",
    "Approximately 2 hours.\n",
    "\n",
    "### Readings ####\n",
    "\n",
    "#### Video\n",
    "\n",
    "[Week 10 Lesson 2 Video](https://mediaspace.illinois.edu/media/t/1_iu9nej7u/76031081)\n",
    "\n",
    "#### Required Readings\n",
    "\n",
    "In the Think Stats2 book, the author likes to hide details behind his\n",
    "custom Python code. We don't agree with this appraoch, especially when\n",
    "teaching the material. We encourage you to not use his code, but to use\n",
    "standard Python data structures (like a dictionary) to represent the\n",
    "distributions.\n",
    "\n",
    "- Chapter 3, Probability Mass Functions, from [Think Stats2](http://www.greenteapress.com/thinkstats2/html/thinkstats2004.html)\n",
    "- Chapter 4,  Cumulative Distribution Functions, from [Think Stats2](http://www.greenteapress.com/thinkstats2/html/thinkstats2005.html)\n",
    "- Short Section on Continuous Distribution Functions in [Introduction to Statistics](http://work.thaslwanter.at/Stats/html/statsDistributions.html#continuous-distribution-functions)\n",
    "\n",
    "#### *Optional Additional Readings*####\n",
    "\n",
    "- Introduction to [using distributions in Python](https://oneau.wordpress.com/2011/02/28/simple-statistics-with-scipy/)\n",
    "- [Distribution Chart](http://www.johndcook.com/blog/distribution_chart/)\n",
    "- Section on Distribution Functions in [Introduction to Statistics](http://work.thaslwanter.at/Stats/html/statsDistributions.html#distribution-functions)\n",
    "\n",
    "### Assessment ###\n",
    "\n",
    "When you have completed and worked through the above readings, please take the [Week 10 Lesson 2 Assessment][w10l2a]\n",
    "\n",
    "[w10l2a]: https://learn.illinois.edu/mod/quiz/view.php?id=2169164"
   ]
  }
 ],
 "metadata": {
  "kernelspec": {
   "display_name": "Python 3",
   "language": "python",
   "name": "python3"
  },
  "language_info": {
   "codemirror_mode": {
    "name": "ipython",
    "version": 3
   },
   "file_extension": ".py",
   "mimetype": "text/x-python",
   "name": "python",
   "nbconvert_exporter": "python",
   "pygments_lexer": "ipython3",
   "version": "3.6.1"
  }
 },
 "nbformat": 4,
 "nbformat_minor": 2
}
