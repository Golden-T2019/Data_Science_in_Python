{
 "cells": [
  {
   "cell_type": "markdown",
   "metadata": {},
   "source": [
    "# Week 10 Lesson 1 #\n",
    "\n",
    "## Summary Statistics ##\n",
    "\n",
    "In this lesson, you will learn about summary statistics like the mean,\n",
    "median, and mode. You also will learn about representing a set of data\n",
    "as a distribution and how the summary statistics are related to a\n",
    "distribution. \n",
    "\n",
    "### Objectives ###\n",
    "\n",
    "By the end of this lesson, you will be able to:\n",
    "\n",
    "- Understand the different summary statistics.\n",
    "- Understand how to compute the mean or average value for a data set.\n",
    "- Understand the concept of a Probability Density Function (PDF). \n",
    "- Understand the relationship between summary statistics like the mean and a distribution function.\n",
    "\n",
    "### Time Estimate ###\n",
    "\n",
    "Approximately 2 hours.\n",
    "\n",
    "### Readings ####\n",
    "\n",
    "#### Video\n",
    "\n",
    "[Week 10 Lesson 1 Video](https://mediaspace.illinois.edu/media/t/1_85tul6qg/76031081)\n",
    "\n",
    "#### Required Readings\n",
    "\n",
    "- Chapter 2, Distributions, from [Think Stats2](http://www.greenteapress.com/thinkstats2/html/thinkstats2003.html)\n",
    "- Section on Important presentation of Probability Densities in [Introduction to Statistics](http://work.thaslwanter.at/Stats/html/statsDistributions.html#other-important-presentations-of-probability-densities). Stop at the *Distribution Functions* Header.\n",
    "\n",
    "#### Optional Additional Readings\n",
    "\n",
    "- Chapter 1, Exploratory Data Analysis, from [Think Stats2](http://www.greenteapress.com/thinkstats2/html/thinkstats2002.html)\n",
    "\n",
    "### Assessment ###\n",
    "\n",
    "When you have completed and worked through the above readings, please take the [Week 10 Lesson 1 Assessment][w10l1a]\n",
    "\n",
    "[w10l1a]: https://learn.illinois.edu/mod/quiz/view.php?id=2169161"
   ]
  }
 ],
 "metadata": {
  "kernelspec": {
   "display_name": "Python 3",
   "language": "python",
   "name": "python3"
  },
  "language_info": {
   "codemirror_mode": {
    "name": "ipython",
    "version": 3
   },
   "file_extension": ".py",
   "mimetype": "text/x-python",
   "name": "python",
   "nbconvert_exporter": "python",
   "pygments_lexer": "ipython3",
   "version": "3.6.1"
  }
 },
 "nbformat": 4,
 "nbformat_minor": 2
}
