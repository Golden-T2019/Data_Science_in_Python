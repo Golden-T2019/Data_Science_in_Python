{
 "cells": [
  {
   "cell_type": "markdown",
   "metadata": {},
   "source": [
    "# Week 7 Overview#\n",
    "\n",
    "![conditional_risk comic from XKCD](images/conditional_risk.png)\n",
    "\n",
    "## Introduction to Visualization ##\n",
    "\n",
    "The lessons this week will focus on learning about data visualizations.\n",
    "First, you will learn how visualization masters enable others to _see_\n",
    "data. Next, you will start using a Jupyter notebook to make data\n",
    "visualizations. In particular, you will learn how to make general plots,\n",
    "and how to create and interpret scatter plots by using the Matplotlib \n",
    "and Seaborn libraries.\n",
    "\n",
    "### Objectives ###\n",
    "\n",
    "##### By the end of this lesson, you should accomplish the following learning objectives:######\n",
    "\n",
    "- Understand the power of strong visualizations\n",
    "- Understand how to use Matplotlib within a Jupyter notebook to create a new plot\n",
    "- Understand how to use the Seaborn library to improve the appearance of a Python plot.\n",
    "- Understand how to make scatter plots in Python\n",
    "- Understand how to use scatter plots to understand a data set\n",
    "\n",
    "\n",
    "### Activities and Assignments ###\n",
    "\n",
    "|Activities and Assignments | Time Estimate | Deadline* | Points|\n",
    "|:------| -----|-------|----------:|\n",
    "|**[Week 7 Introduction Video][w7v]**|15 Minutes|Tuesday|N/A|\n",
    "|**[Week 7 Lesson 1: Introduction to Data Visualizations](notebooks/w7l1.ipynb)**| 2 Hours |Thursday| 20|\n",
    "|**[Week 7 Lesson 2: Python: Plotting](notebooks/w7l2.ipynb)**| 3 Hours | Thursday | 20 |\n",
    "|**[Week 7 Lesson 3: Python: Data Plotting](notebooks/w7l3.ipynb)**| 3 Hours | Thursday| 20 |\n",
    "|**[Week 7 Quiz][w7q]**| 45 Minutes | Friday | 70|\n",
    "|**Week 7 Assignment Submission**| 3 Hours | *The following* Monday | 125 from the Instructor<br>10 from Peer grading | \n",
    "|**Week 7 Completion of Peer Review**| 1 Hour | *The following* Saturday | 15 | \n",
    "\n",
    "\n",
    "*Please note that unless otherwise noted, the due time is 6pm Central time!\n",
    "\n",
    "----------\n",
    "[w7v]: https://mediaspace.illinois.edu/media/t/0_ws8jodgw\n",
    "[w7q]: https://learn.illinois.edu/mod/quiz/view.php?id=2169056\n",
    "\n",
    "Photo Credit: [Conditional Risk](http://imgs.xkcd.com/comics/conditional_risk.png) by Randall Monroe. Accessed on 31 July 2015."
   ]
  }
 ],
 "metadata": {
  "kernelspec": {
   "display_name": "Python 3",
   "language": "python",
   "name": "python3"
  },
  "language_info": {
   "codemirror_mode": {
    "name": "ipython",
    "version": 3
   },
   "file_extension": ".py",
   "mimetype": "text/x-python",
   "name": "python",
   "nbconvert_exporter": "python",
   "pygments_lexer": "ipython3",
   "version": "3.6.1"
  }
 },
 "nbformat": 4,
 "nbformat_minor": 2
}
