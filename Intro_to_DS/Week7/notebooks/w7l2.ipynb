{
 "cells": [
  {
   "cell_type": "markdown",
   "metadata": {},
   "source": [
    "# Week 7 Lesson 2 #\n",
    "\n",
    "## Python: Plotting ##\n",
    "\n",
    "In this lesson, you will learn to work with Matplotlib, which is the\n",
    "standard plotting library for Python programs.  You will use a Jupyter\n",
    "notebook to explore the basic Matplotlib Python statements to make and\n",
    "annotate a simple plot. You also will be introduced to the Seaborn\n",
    "plotting library, which enhances the power of MatPlotlib by simplifying\n",
    "the creation of aesthetically attractive visualizations and introducing\n",
    "new plot types.\n",
    "\n",
    "### Objectives ###\n",
    "\n",
    "By the end of this lesson, you will be able to:\n",
    "\n",
    "- Understand how to use Matplotlib within a Jupyter notebook to make a simple, inline plot.\n",
    "- Understand how to use Matplotlib to label the plot axes and to apply a title to a plot\n",
    "- Understand how to use Matplotlib to change the plot limits to increase the impact of a plot.\n",
    "- Understand how to use Seaborn within a Jupyter Notebook.\n",
    "\n",
    "### Time Estimate ###\n",
    "\n",
    "Approximately 2 hours.\n",
    "\n",
    "### Readings ####\n",
    "\n",
    "#### Video\n",
    "\n",
    "[Week 7 Lesson 2 Video](https://mediaspace.illinois.edu/media/t/0_9hoo2mq1)\n",
    "\n",
    "#### Required Readings\n",
    "\n",
    "- Jupyter Notebook on [Python Plotting](intro2plotting.ipynb)\n",
    "\n",
    "#### Optional Additional Readings\n",
    "\n",
    "- Wikipedia article on [Plots][plt] which has a lot of information about different plot types.\n",
    "- [Matplotlib Tutorial](http://matplotlib.org/users/pyplot_tutorial.html)\n",
    "\n",
    "\n",
    "### Assessment ###\n",
    "\n",
    "When you have completed and worked through the above readings, please take the [Week 7 Lesson 2 Assessment](https://learn.illinois.edu/mod/quiz/view.php?id=2169137).\n",
    "\n",
    "-----\n",
    "[plt]: https://en.wikipedia.org/wiki/Plot_(graphics)"
   ]
  }
 ],
 "metadata": {
  "kernelspec": {
   "display_name": "Python 3",
   "language": "python",
   "name": "python3"
  },
  "language_info": {
   "codemirror_mode": {
    "name": "ipython",
    "version": 3
   },
   "file_extension": ".py",
   "mimetype": "text/x-python",
   "name": "python",
   "nbconvert_exporter": "python",
   "pygments_lexer": "ipython3",
   "version": "3.6.1"
  }
 },
 "nbformat": 4,
 "nbformat_minor": 2
}
