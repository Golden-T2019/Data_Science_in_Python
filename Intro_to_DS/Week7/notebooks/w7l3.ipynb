{
 "cells": [
  {
   "cell_type": "markdown",
   "metadata": {},
   "source": [
    "# Week 7 Lesson 3 #\n",
    "\n",
    "## Python: Data Plotting ##\n",
    "\n",
    "In this lesson, you will learn to make and interpret scatter plots by\n",
    "using Matplotlib. Scatter plots can highlight trends or correlations\n",
    "between two or more columns of a given data set.\n",
    "\n",
    "\n",
    "### Objectives ###\n",
    "\n",
    "By the end of this lesson, you will be able to:\n",
    "\n",
    "- Understand how to use Matplotlib to make a scatter plot.\n",
    "- Understand the difference between positive, negative, and null correlations.\n",
    "- Understand how to graphically identify outliers.\n",
    "- Understand how to overplot and label multiple columns on a single scatter plot.\n",
    "\n",
    "### Time Estimate ###\n",
    "\n",
    "Approximately 2 hours.\n",
    "\n",
    "### Readings ####\n",
    "\n",
    "#### Video\n",
    "\n",
    "[Week 7 Lesson 3 Video](https://mediaspace.illinois.edu/media/t/0_j3grwc3i)\n",
    "\n",
    "\n",
    "#### Required Readings\n",
    "\n",
    "- Jupyter Notebook on [Two-Dimensional Plotting](scatter-plots.ipynb)\n",
    "- Wikipedia article on [Scatter Plots](https://en.wikipedia.org/wiki/Scatter_plot)\n",
    "\n",
    "#### Optional Additional Readings\n",
    "\n",
    "- Wikipedia entry on [Anscombe's quartet](https://en.wikipedia.org/wiki/Anscombe%27s_quartet)\n",
    "\n",
    "### Assessment ###\n",
    "\n",
    "When you have completed and worked through the above readings, please take the [Week 7 Lesson 3 Assessment](https://learn.illinois.edu/mod/quiz/view.php?id=2169140)."
   ]
  }
 ],
 "metadata": {
  "kernelspec": {
   "display_name": "Python 3",
   "language": "python",
   "name": "python3"
  },
  "language_info": {
   "codemirror_mode": {
    "name": "ipython",
    "version": 3
   },
   "file_extension": ".py",
   "mimetype": "text/x-python",
   "name": "python",
   "nbconvert_exporter": "python",
   "pygments_lexer": "ipython3",
   "version": "3.6.1"
  }
 },
 "nbformat": 4,
 "nbformat_minor": 2
}
