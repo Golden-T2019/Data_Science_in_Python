{
 "cells": [
  {
   "cell_type": "markdown",
   "metadata": {},
   "source": [
    "# Week 7 Lesson 1 #\n",
    "\n",
    "## Introduction to Data Visualization ##\n",
    "\n",
    "In this lesson, you will learn about the art of making great\n",
    "visualization. While this might seem out of place, since we haven't\n",
    "actually shown how to make any visualizations, I want to start this week\n",
    "by introducing you to the ideas and results of those considered masters\n",
    "in the art of information visualization. \n",
    "\n",
    "\n",
    "### Objectives ###\n",
    "By the end of this lesson, you will be able to:\n",
    "\n",
    "- Understand the power of visualizations in conveying information.\n",
    "- Understand the importance of aesthetics in communicating data.\n",
    "- Understand the perils of presentation slides to communicate technical information.\n",
    "\n",
    "### Time Estimate ###\n",
    "\n",
    "Approximately 2 hours.\n",
    "\n",
    "### Readings ####\n",
    "\n",
    "#### Video\n",
    "\n",
    "[Week 7 Lesson 1 Video](https://mediaspace.illinois.edu/media/t/0_wrd9yoej)\n",
    "\n",
    "#### Required Readings\n",
    "\n",
    "- The Beauty of [Data Visualizations](http://www.ted.com/talks/david_mccandless_the_beauty_of_data_visualization)\n",
    "\n",
    "- On the [Perils of Powerpoint](http://www.edwardtufte.com/bboard/q-and-a-fetch-msg?msg_id=0001yB)\n",
    "\n",
    "- [Visualizing](http://www.ted.com/talks/hans_rosling_shows_the_best_stats_you_ve_ever_seen) Statistical Information\n",
    "\n",
    "#### Optional Additional Readings\n",
    "\n",
    "- The many wonderful articles at [Flowing Data](http://flowingdata.com)\n",
    "\n",
    "\n",
    "### Assessment ###\n",
    "\n",
    "When you have completed and worked through the above readings, please take the [Week 7 Lesson 1 Assessment](https://learn.illinois.edu/mod/quiz/view.php?id=2169134)."
   ]
  }
 ],
 "metadata": {
  "kernelspec": {
   "display_name": "Python 3",
   "language": "python",
   "name": "python3"
  },
  "language_info": {
   "codemirror_mode": {
    "name": "ipython",
    "version": 3
   },
   "file_extension": ".py",
   "mimetype": "text/x-python",
   "name": "python",
   "nbconvert_exporter": "python",
   "pygments_lexer": "ipython3",
   "version": "3.6.1"
  }
 },
 "nbformat": 4,
 "nbformat_minor": 2
}
