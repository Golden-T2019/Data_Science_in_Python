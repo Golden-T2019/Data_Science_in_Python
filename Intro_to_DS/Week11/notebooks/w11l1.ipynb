{
 "cells": [
  {
   "cell_type": "markdown",
   "metadata": {},
   "source": [
    "# Week 11 Lesson 1 #\n",
    "\n",
    "## Functional Programming ##\n",
    "\n",
    "In this lesson, you will learn about functional programming, in which\n",
    "functions operator on data without _side effects_. In this programming\n",
    "paradigm data is transformed from one state to another by the\n",
    "application of programs. This paradigm can produce high performance\n",
    "since the functions can be vectorized over the data. Python, while not\n",
    "strictly a functional programming language, does provide considerable\n",
    "support for this programming paradigm. Learning functional programming\n",
    "techniques in Python can, there fore, improve your ability to write\n",
    "optimized applications.\n",
    "\n",
    "### Objectives ###\n",
    "\n",
    "By the end of this lesson, you will be able to:\n",
    "\n",
    "- Understand the basic concepts of functional programming.\n",
    "- Understand how applying functions directly to data structures can improve code performance.\n",
    "- Understand how to use a numpy ufuncs.\n",
    "- Understand how to use Pandas apply.\n",
    "\n",
    "### Time Estimate ###\n",
    "\n",
    "Approximately 2 hours.\n",
    "\n",
    "### Readings ####\n",
    "\n",
    "#### Video\n",
    "\n",
    "[Week 11 Lesson 1 Video](https://mediaspace.illinois.edu/media/t/1_wykekh59/76031081)\n",
    "\n",
    "#### Required Readings\n",
    "\n",
    "- Python [HowTo article](https://docs.python.org/dev/howto/functional.html#functional-programming-howto) on Functional Programming. Stop when you reach the _Iterator_ subsection.\n",
    "\n",
    "- Numpy [ufunc](http://docs.scipy.org/doc/numpy/reference/ufuncs.html) discussion, stop after _Broadcasting_ section.\n",
    "\n",
    "- Available [numpy ufunc list](http://docs.scipy.org/doc/numpy/reference/ufuncs.html#available-ufuncs).\n",
    "\n",
    "- Pandas [apply](http://pandas.pydata.org/pandas-docs/stable/10min.html?highlight=apply#apply) method.\n",
    "\n",
    "- Pandas [apply method](http://pandas.pydata.org/pandas-docs/stable/generated/pandas.DataFrame.apply.html) api.\n",
    "\n",
    "#### *Optional Additional Readings*####\n",
    "\n",
    "- [Function application and mapping section](http://proquest.safaribooksonline.com.proxy2.library.illinois.edu/book/programming/python/9781491957653/5dot2-essential-functionality/pandas_apply_html) in Python for data analysis.\n",
    "- Python for Data Analysis [Advanced ufunc usage](http://proquest.safaribooksonline.com.proxy2.library.illinois.edu/book/programming/python/9781491957653/advanced-numpy/ufunc_advanced_html) discussion.\n",
    "\n",
    "### Assessment ###\n",
    "\n",
    "When you have completed and worked through the above readings, please take the [Week 11 Lesson 1 Assessment][w11la]\n",
    "[w11la]: https://learn.illinois.edu/mod/quiz/view.php?id=2169170"
   ]
  }
 ],
 "metadata": {
  "kernelspec": {
   "display_name": "Python 3",
   "language": "python",
   "name": "python3"
  },
  "language_info": {
   "codemirror_mode": {
    "name": "ipython",
    "version": 3
   },
   "file_extension": ".py",
   "mimetype": "text/x-python",
   "name": "python",
   "nbconvert_exporter": "python",
   "pygments_lexer": "ipython3",
   "version": "3.6.1"
  }
 },
 "nbformat": 4,
 "nbformat_minor": 2
}
