{
 "cells": [
  {
   "cell_type": "markdown",
   "metadata": {},
   "source": [
    "# Week 11 Lesson 3 #\n",
    "\n",
    "## Functional Programing in Python, Part II ##\n",
    "\n",
    "In this lesson, you will learn an alternative approach to functional\n",
    "programming in Python, that is specifically encouraged in Python3,\n",
    "iterators and comprehensions. First, you will learn about list\n",
    "comprehensions, which are an easy way to construct lists of items.\n",
    "Second, you will learn about iterators, which enable functional\n",
    "programming by simplifying the process of moving through items of data\n",
    "in a collection, like a list. Finally, you will learn moe about these\n",
    "constructs through a worked file system example.\n",
    "\n",
    "### Objectives ###\n",
    "\n",
    "By the end of this lesson, you will be able to:\n",
    "\n",
    "- Understand the iterator concept and how they can be broadly applied.\n",
    "- Understand how to use a list comprehension to make a new list.\n",
    "- Understand how to use an if clause in a list comprehension.\n",
    "- Understand other comprehensions like dictionary or set.\n",
    "\n",
    "### Time Estimate ###\n",
    "\n",
    "Approximately 3 hours.\n",
    "\n",
    "### Readings ####\n",
    "\n",
    "#### Video\n",
    "\n",
    "[Week 11 Lesson 3 Video](https://mediaspace.illinois.edu/media/t/1_4792xekx/76031081)\n",
    "\n",
    "\n",
    "#### Required Readings\n",
    "\n",
    "- [Python Tutorial](https://docs.python.org/3/tutorial/datastructures.html#list-comprehensions) on list comprehensions\n",
    "\n",
    "- Python [HowTo article](https://docs.python.org/3/howto/functional.html#iterators) on Functional Programming. \n",
    "Stop when you reach the _Generator_ subsection.\n",
    "\n",
    "- [Using List Comprehensions](http://getpython3.com/diveintopython3/comprehensions.html)\n",
    "\n",
    "#### *Optional Additional Readings*####\n",
    "\n",
    "- [Python List Comprehension](http://www.python-course.eu/python3_list_comprehension.php) tutorial.\n",
    "\n",
    "- Python [HowTo article](https://docs.python.org/3/howto/functional.html#generators) on Functional Programming. \n",
    "To master FP concepts in Python3, I would encourage you to read the rest of this HowTo.\n",
    "\n",
    "\n",
    "### Assessment ###\n",
    "\n",
    "When you have completed and worked through the above readings, please take the [Week 11 Lesson 3 Assessment][w11la]\n",
    "[w11la]: https://learn.illinois.edu/mod/quiz/view.php?id=2169176"
   ]
  }
 ],
 "metadata": {
  "kernelspec": {
   "display_name": "Python 3",
   "language": "python",
   "name": "python3"
  },
  "language_info": {
   "codemirror_mode": {
    "name": "ipython",
    "version": 3
   },
   "file_extension": ".py",
   "mimetype": "text/x-python",
   "name": "python",
   "nbconvert_exporter": "python",
   "pygments_lexer": "ipython3",
   "version": "3.6.1"
  }
 },
 "nbformat": 4,
 "nbformat_minor": 2
}
