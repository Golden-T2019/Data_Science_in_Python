{
 "cells": [
  {
   "cell_type": "markdown",
   "metadata": {},
   "source": [
    "# Week 11 Lesson 2 #\n",
    "\n",
    "## Functional Programming in Python ##\n",
    "\n",
    "In this lesson, you will learn how to apply functional programming\n",
    "within Python. First you will learn about employing the map, filter, and\n",
    "reduce methods. Second, you will learn about lambda functions, which are\n",
    "small, anonymous functions, that can simplify many functional\n",
    "programming tasks. Note that many of the readings use Python2, so keep\n",
    "that in mind when trying these concepts out in Python3 (for example, use\n",
    "the `print` function, not the `print` statement, and the `reduce` function\n",
    "is now in the `itertools` module).\n",
    "\n",
    "\n",
    "### Objectives ###\n",
    "\n",
    "By the end of this lesson, you will be able to:\n",
    "\n",
    "- Understand the `map` function and how to use it effectively.\n",
    "- Understand the `filter` function and how to use it effectively.\n",
    "- Understand the `reduce` function and how to use it effectively.\n",
    "- Understand lambda functions and how to use them for functional programming.\n",
    "\n",
    "### Time Estimate ###\n",
    "\n",
    "Approximately 2 hours.\n",
    "\n",
    "### Readings ####\n",
    "\n",
    "#### Video\n",
    "\n",
    "[Week 11 Lesson 2 Video](https://mediaspace.illinois.edu/media/t/1_zc7yl3l7/76031081)\n",
    "\n",
    "#### Required Readings\n",
    "\n",
    "- [Functional programming](http://maryrosecook.com/blog/post/a-practical-introduction-to-functional-programming) in Python2.\n",
    "\n",
    "- [Lambda functions](http://www.python-course.eu/python3_lambda.php) in Python.\n",
    "\n",
    "#### *Optional Additional Readings*####\n",
    "\n",
    "- [Functional Programming in Python](http://www.alan-g.me.uk/tutor/tutfctnl.htm) article (don't worry yet\n",
    "about comprehensions).\n",
    "\n",
    "- Old article on Functional Programming in Python [Part 1](http://www.ibm.com/developerworks/linux/library/l-prog/index.html)\n",
    "and [Part 2](http://www.ibm.com/developerworks/linux/library/l-prog2/index.html).\n",
    "Note that are using Python2.\n",
    "\n",
    "### Assessment ###\n",
    "\n",
    "When you have completed and worked through the above readings, please take the [Week 11 Lesson 2 Assessment][w11la]\n",
    "[w11la]: https://learn.illinois.edu/mod/quiz/view.php?id=2169173"
   ]
  }
 ],
 "metadata": {
  "kernelspec": {
   "display_name": "Python 3",
   "language": "python",
   "name": "python3"
  },
  "language_info": {
   "codemirror_mode": {
    "name": "ipython",
    "version": 3
   },
   "file_extension": ".py",
   "mimetype": "text/x-python",
   "name": "python",
   "nbconvert_exporter": "python",
   "pygments_lexer": "ipython3",
   "version": "3.6.1"
  }
 },
 "nbformat": 4,
 "nbformat_minor": 2
}
