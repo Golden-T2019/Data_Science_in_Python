{
 "cells": [
  {
   "cell_type": "markdown",
   "metadata": {},
   "source": [
    "# Week 11 Overview#\n",
    "\n",
    "## Functional Programming ##\n",
    "\n",
    "In this week, you will learn about functional programming. This\n",
    "programming paradigm employs functions to change the state of data,\n",
    "where the functions process input data and produce outputs, without\n",
    "changing the state of the rest of the program. Functional programming\n",
    "can result in high performance computations for certain types of\n",
    "problems, and can, therefore, be a useful skill to possess.\n",
    "\n",
    "### Objectives ###\n",
    "\n",
    "##### By the end of this lesson, you should accomplish the following learning objectives:######\n",
    "\n",
    "- Understand the basic concepts behind functional programming.\n",
    "- Understand how to employ the `map`, `filter`, and `reduce` methods.\n",
    "- Understand how to write and use lambda functions.\n",
    "- Understand comprehensions and iterators.\n",
    "\n",
    "### Activities and Assignments ###\n",
    "\n",
    "|Activities and Assignments | Time Estimate | Deadline* | Points|\n",
    "|:------| -----|-------|----------:|\n",
    "|**[Week 11 Introduction Video][w11v]**|10 Minutes|Tuesday|NA|\n",
    "|**[Week 11 Lesson 1: Functional Programming](notebooks/w11l1.ipynb)**| 2 Hours |Thursday| 20|\n",
    "|**[Week 11 Lesson 2: Functional Programming in Python, Part I](notebooks/w11l2.ipynb)**| 2 Hours | Thursday | 20 |\n",
    "|**[Week 11 Lesson 3: Functional Programming in Python, Part II](notebooks/w11l3.ipynb)**| 3 Hours | Thursday| 20 |\n",
    "|**[Week 11 Quiz][w11q]**| 45 Minutes | Friday | 70|\n",
    "|**Week 11 Assignment Submission**| 3 Hours | *The following* Monday | 125 points from the Instructor<br> 10 points from Peer grading | \n",
    "|**Week 11 Completion of Peer Review**| 3 Hours | *The following* Saturday | 15 | \n",
    "\n",
    "*Please note that unless otherwise noted, the due time is 6pm Central time!\n",
    "\n",
    "----------\n",
    "[w11v]: https://mediaspace.illinois.edu/media/t/1_vspfkoil/76031081\n",
    "[w11q]: https://learn.illinois.edu/mod/quiz/view.php?id=2169068"
   ]
  }
 ],
 "metadata": {
  "kernelspec": {
   "display_name": "Python 3",
   "language": "python",
   "name": "python3"
  },
  "language_info": {
   "codemirror_mode": {
    "name": "ipython",
    "version": 3
   },
   "file_extension": ".py",
   "mimetype": "text/x-python",
   "name": "python",
   "nbconvert_exporter": "python",
   "pygments_lexer": "ipython3",
   "version": "3.6.1"
  }
 },
 "nbformat": 4,
 "nbformat_minor": 2
}
