{
 "cells": [
  {
   "cell_type": "markdown",
   "metadata": {},
   "source": [
    "# Week 6 Lesson 3 #\n",
    "\n",
    "## Unix Text Processing ##\n",
    "\n",
    "In this lesson, you will learn about text processing within Unix.  This will involve first learning about various way to sort through and get rid of redundant lines of text. Next, we will progress on to learning different ways to remove and merge lines of text.  Then, we will find ways to compare and join files, as well as apply patches to a file.  Finally, we will cover the functionality of `tr`, `sed`, and `aspell`.\n",
    "\n",
    "### Objectives ###\n",
    "\n",
    "By the end of this lesson, you will be able to:\n",
    "\n",
    "- Understand how to sort through lines of text and report differences of files through the use of `sort` and `uniq`, `comm`, and `diff`.\n",
    "- Understand how to modify lines of text and files using `cut`, `paste`, `join`, and `patch`.\n",
    "- Understand how to use `tr`, `sed`, and `aspell` to transform and check through lines of text.\n",
    "\n",
    "### Time Estimate ###\n",
    "\n",
    "Approximately 2 hours.\n",
    "\n",
    "### Readings ####\n",
    "\n",
    "#### Video\n",
    "\n",
    "[Week 6 Lesson 3 Video](https://mediaspace.illinois.edu/media/t/1_cwlgqaw8)\n",
    "\n",
    "#### Required Readings\n",
    "\n",
    "- Chapter 20 of [The Linux Command Line(PDF)](http://sourceforge.net/projects/linuxcommand/?source=dlp) and try to follow allong with the examples\n",
    "\n",
    "### Assessment ###\n",
    "\n",
    "When you have completed and worked through the above readings, please take the [Week 6 Lesson 3 Assessment](https://learn.illinois.edu/mod/quiz/view.php?id=2169131)"
   ]
  }
 ],
 "metadata": {
  "kernelspec": {
   "display_name": "Python 3",
   "language": "python",
   "name": "python3"
  },
  "language_info": {
   "codemirror_mode": {
    "name": "ipython",
    "version": 3
   },
   "file_extension": ".py",
   "mimetype": "text/x-python",
   "name": "python",
   "nbconvert_exporter": "python",
   "pygments_lexer": "ipython3",
   "version": "3.6.1"
  }
 },
 "nbformat": 4,
 "nbformat_minor": 2
}
