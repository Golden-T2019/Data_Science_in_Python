{
 "cells": [
  {
   "cell_type": "markdown",
   "metadata": {},
   "source": [
    "# Week 6 Lesson 1 #\n",
    "\n",
    "## Unix: Regular Expressions & Commands ##\n",
    "\n",
    "In this lesson, you will learn about regular expressions within a Unix-like environment.\n",
    "\n",
    "### Objectives ###\n",
    "\n",
    "By the end of this lesson, you will be able to:\n",
    "\n",
    "- Understand and be able to utilize regular expressions to better streamline searches through text.\n",
    "- Utilize `grep` options.\n",
    "- Utilize metacharacters and literal characters for `grep` searches.\n",
    "\n",
    "### Time Estimate ###\n",
    "\n",
    "Approximately 2 hours.\n",
    "\n",
    "### Readings ####\n",
    "\n",
    "#### Video\n",
    "\n",
    "[Week 6 Lesson 1 Video](https://mediaspace.illinois.edu/media/t/1_qjw6ql3e)\n",
    "\n",
    "#### Required Readings\n",
    "\n",
    "- Chapter 19 of [The Linux Command Line(PDF)](http://sourceforge.net/projects/linuxcommand/?source=dlp) and try to follow allong with the examples\n",
    "\n",
    "#### Optional Additional Readings\n",
    "\n",
    "- Chapter 6 of [Unix and Linux: Visual Quickstart Guide, Fifth Edition](http://proquest.safaribooksonline.com.proxy2.library.illinois.edu/book/operating-systems-and-server-administration/unix/9780133793871)\n",
    "- Chapter 8 of [Beginning Unix](http://proquest.safaribooksonline.com.proxy2.library.illinois.edu/book/operating-systems-and-server-administration/unix/9780764579943)\n",
    "- Chapter 5 of [Think Unix](http://proquest.safaribooksonline.com.proxy2.library.illinois.edu/book/operating-systems-and-server-administration/unix/078972376x)\n",
    "\n",
    "\n",
    "### Assessment ###\n",
    "\n",
    "When you have completed and worked through the above readings, please take the [Week 6 Lesson 1 Assessment](https://learn.illinois.edu/mod/quiz/view.php?id=2169125)"
   ]
  }
 ],
 "metadata": {
  "kernelspec": {
   "display_name": "Python 3",
   "language": "python",
   "name": "python3"
  },
  "language_info": {
   "codemirror_mode": {
    "name": "ipython",
    "version": 3
   },
   "file_extension": ".py",
   "mimetype": "text/x-python",
   "name": "python",
   "nbconvert_exporter": "python",
   "pygments_lexer": "ipython3",
   "version": "3.6.1"
  }
 },
 "nbformat": 4,
 "nbformat_minor": 2
}
