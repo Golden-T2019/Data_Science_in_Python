{
 "cells": [
  {
   "cell_type": "markdown",
   "metadata": {},
   "source": [
    "# Week 6 Lesson 2 #\n",
    "\n",
    "## Python Regular Expressions ##\n",
    "\n",
    "In this lesson, you will learn about Python regular expressions and how to use the `re` library in Python. \n",
    "\n",
    "### Objectives ###\n",
    "\n",
    "By the end of this lesson, you will be able to:\n",
    "\n",
    "- Understand how to use the `sub`, `search`, and `compile` functions within the re library.\n",
    "- Understand how to structure verbose regular expressions.\n",
    "- Understand how to effectively specify the position and structure of the string you are searching for by using `\\b`, `^`, `$`, `\\d`, `\\D`, `?`, `*`, `+`, `{n,m}`, `(a|b)`, etc.\n",
    "\n",
    "### Time Estimate ###\n",
    "\n",
    "Approximately 2 hours.\n",
    "\n",
    "### Readings ####\n",
    "\n",
    "#### Video\n",
    "\n",
    "[Week 6 Lesson 2 Video](https://mediaspace.illinois.edu/media/t/1_wnzlxw82)\n",
    "\n",
    "#### Required Readings\n",
    "\n",
    "- Dive into Python3 [Regular Expressions (Chapter 5)](http://www.diveintopython3.net/regular-expressions.html).\n",
    "\n",
    "#### Optional Additional Readings\n",
    "\n",
    "- Google Developer [Python Regular\n",
    "Expressions](https://developers.google.com/edu/python/regular-expressions)  (Note this was written for Python2, so be aware of the\n",
    "differences).\n",
    "\n",
    "\n",
    "### Assessment ###\n",
    "\n",
    "When you have completed and worked through the above readings, please take the [Week 6 Lesson 2 Assessment](https://learn.illinois.edu/mod/quiz/view.php?id=2169128)"
   ]
  }
 ],
 "metadata": {
  "kernelspec": {
   "display_name": "Python 3",
   "language": "python",
   "name": "python3"
  },
  "language_info": {
   "codemirror_mode": {
    "name": "ipython",
    "version": 3
   },
   "file_extension": ".py",
   "mimetype": "text/x-python",
   "name": "python",
   "nbconvert_exporter": "python",
   "pygments_lexer": "ipython3",
   "version": "3.6.1"
  }
 },
 "nbformat": 4,
 "nbformat_minor": 2
}
