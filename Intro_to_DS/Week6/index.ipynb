{
 "cells": [
  {
   "cell_type": "code",
   "execution_count": 4,
   "metadata": {},
   "outputs": [
    {
     "data": {
      "text/plain": [
       "'SPAM jihn'"
      ]
     },
     "execution_count": 4,
     "metadata": {},
     "output_type": "execute_result"
    }
   ],
   "source": [
    "import re\n",
    "\n",
    "s = \"spam jihn\"\n",
    "\n",
    "re.sub(r'\\bspam\\b', 'SPAM', s)\n",
    "\n"
   ]
  },
  {
   "cell_type": "markdown",
   "metadata": {},
   "source": [
    "# Week 6 Overview#\n",
    "\n",
    "![XKCD Extrapolating](images/regular_expressions.png)\n",
    "\n",
    "## Regular Expressions and Text Processing ##\n",
    "\n",
    "In this week, you will begin to use Python and Unix to learn about regular expressions and their associated commands so that you can search through text more effectively.  To finish up, you will learn about Unix text processing so that you can better modify and glean information from lines and files of text.\n",
    "\n",
    "### Objectives ###\n",
    "\n",
    "##### By the end of this lesson, you should accomplish the following learning objectives:######\n",
    "\n",
    "- Understand how to use the sub, search, and compile functions within the re library.\n",
    "- Understand how to effectively specify the position and structure of the string you are searching for by using `\\b`, `^`, `$`, `\\d`, `\\D`, `?`, `*`, `+`, `{n,m}`, `(a|b)`, etc.\n",
    "- Understand how to sort through lines of text and report differences of files through the use of `sort` and `uniq`, `comm`, and `diff`.\n",
    "- Understand how to modify lines of text and files using `cut`, `paste`, `join`, and `patch`.\n",
    "\n",
    "\n",
    "### Activities and Assignments ###\n",
    "\n",
    "|Activities and Assignments | Time Estimate | Deadline* | Points|\n",
    "|:------| -----|-------|----------:|\n",
    "|**[Week 6 Introduction Video][w6v]**|15 Minutes|Tuesday|N/A|\n",
    "|**[Week 6 Lesson 1:Unix: Regular Expressions & Commands](notebooks/w6l1.ipynb)**| 2 Hours |Thursday| 20|\n",
    "|**[Week 6 Lesson 2:Python: Regular Expressions](notebooks/w6l2.ipynb)**| 3 Hours | Thursday | 20 |\n",
    "|**[Week 6 Lesson 3:Unix Text Processing](notebooks/w6l3.ipynb)**| 3 Hours | Thursday| 20 |\n",
    "|**[Week 6 Quiz][w6q]**| 45 Minutes | Friday | 70|\n",
    "|**Week 6 Assignment Submission**| 3 Hours | *The following* Monday | 125 from the Instructor<br>10 from Peer grading | \n",
    "|**Week 6 Completion of Peer Review**| 1 hour | *The following* Saturday | 15 | \n",
    "\n",
    "*Please note that unless otherwise noted, the due time is 6pm Central time!\n",
    "\n",
    "----------\n",
    "[w6q]: https://learn.illinois.edu/mod/quiz/view.php?id=2169053\n",
    "[w6v]: https://mediaspace.illinois.edu/media/t/1_yg20vcil/76031081\n",
    "\n",
    "Photo Credit: [Regular Expressions Comic](http://xkcd.com/208/) by Randall Monroe. Accessed on the 23 of September."
   ]
  }
 ],
 "metadata": {
  "kernelspec": {
   "display_name": "Python 3",
   "language": "python",
   "name": "python3"
  },
  "language_info": {
   "codemirror_mode": {
    "name": "ipython",
    "version": 3
   },
   "file_extension": ".py",
   "mimetype": "text/x-python",
   "name": "python",
   "nbconvert_exporter": "python",
   "pygments_lexer": "ipython3",
   "version": "3.6.1"
  }
 },
 "nbformat": 4,
 "nbformat_minor": 2
}
