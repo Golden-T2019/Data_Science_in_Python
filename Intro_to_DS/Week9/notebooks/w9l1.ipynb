{
 "cells": [
  {
   "cell_type": "markdown",
   "metadata": {},
   "source": [
    "# Week 9 Lesson 1 #\n",
    "## Text Data Formats ##\n",
    "\n",
    "In this lesson, you will learn about the two different kinds of text files by writing the airport data to both a delimiter separated file and a fixed-width format file.\n",
    "\n",
    "### Objectives ###\n",
    "\n",
    "By the end of this lesson, you will be able to:\n",
    "\n",
    "- Understand how to read and write a delimiter separated file.\n",
    "- Understand how to read and write a fixed width format file.\n",
    "\n",
    "\n",
    "### Time Estimate ###\n",
    "\n",
    "Approximately 2 hours.\n",
    "\n",
    "### Readings ####\n",
    "\n",
    "#### Video\n",
    "\n",
    "[Week 9 Lesson 1 Video](https://mediaspace.illinois.edu/media/t/0_4b3on2qm)\n",
    "\n",
    "#### Required Readings\n",
    "\n",
    "- Course [Jupyter Notebook](text-dataformat.ipynb) on text data formats\n",
    "\n",
    "- The [Delimiter](https://en.wikipedia.org/wiki/Delimiter-separated_values) Separated Value format\n",
    "- The [Comma](https://en.wikipedia.org/wiki/Comma-separated_values) Separated Value format\n",
    "\n",
    "#### *Optional Additional Readings*####\n",
    "\n",
    "- The [W3C Working group](http://www.w3.org/2013/csvw/wiki/Main_Page) document repository for CSV.\n",
    "\n",
    "### Assessment ###\n",
    "\n",
    "When you have completed and worked through the above readings, please take the [Week 9 Lesson 1 Assessment](https://learn.illinois.edu/mod/quiz/view.php?id=2169152)."
   ]
  }
 ],
 "metadata": {
  "kernelspec": {
   "display_name": "Python 3",
   "language": "python",
   "name": "python3"
  },
  "language_info": {
   "codemirror_mode": {
    "name": "ipython",
    "version": 3
   },
   "file_extension": ".py",
   "mimetype": "text/x-python",
   "name": "python",
   "nbconvert_exporter": "python",
   "pygments_lexer": "ipython3",
   "version": "3.6.1"
  }
 },
 "nbformat": 4,
 "nbformat_minor": 2
}
