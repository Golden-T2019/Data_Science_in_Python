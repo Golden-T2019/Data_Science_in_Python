{
 "cells": [
  {
   "cell_type": "markdown",
   "metadata": {},
   "source": [
    "# Week 9 Lesson 3 #\n",
    "\n",
    "## XML Data Format ##\n",
    "\n",
    "In this lesson, you will learn about what the eXtensible Markup Language (XML) Data format is, how to parse a document, and how to read and write an XML file.\n",
    "\n",
    "### Objectives ###\n",
    "\n",
    "By the end of this lesson, you will be able to:\n",
    "\n",
    "- Understand how to read and write an XML formatted file.\n",
    "\n",
    "### Time Estimate ###\n",
    "\n",
    "Approximately 2 hours.\n",
    "\n",
    "#### Video\n",
    "\n",
    "[Week 9 Lesson 3 Video](https://mediaspace.illinois.edu/media/t/0_u2krcngs)\n",
    "\n",
    "#### Required Readings ####\n",
    "\n",
    "- Course [Jupyter Notebook](xml-dataformat.ipynb) on XML Data Formats\n",
    "\n",
    "- The [XML](https://en.wikipedia.org/wiki/XML) Document format\n",
    "\n",
    "\n",
    "#### *Optional Additional Readings*####\n",
    "\n",
    "- The [XML](http://www.w3.org/XML/) format \n",
    "\n",
    "- The [SVG](https://en.wikipedia.org/wiki/Scalable_Vector_Graphics)\n",
    "format (an XML-based image specification)\n",
    "\n",
    "- The [HTML](https://en.wikipedia.org/wiki/HTML) format (an XML-based\n",
    "document specification).\n",
    "\n",
    "### Assessment ###\n",
    "\n",
    "When you have completed and worked through the above readings, please take the [Week 9 Lesson 3 Assessment](https://learn.illinois.edu/mod/quiz/view.php?id=2169158)."
   ]
  }
 ],
 "metadata": {
  "kernelspec": {
   "display_name": "Python 3",
   "language": "python",
   "name": "python3"
  },
  "language_info": {
   "codemirror_mode": {
    "name": "ipython",
    "version": 3
   },
   "file_extension": ".py",
   "mimetype": "text/x-python",
   "name": "python",
   "nbconvert_exporter": "python",
   "pygments_lexer": "ipython3",
   "version": "3.6.1"
  }
 },
 "nbformat": 4,
 "nbformat_minor": 2
}
