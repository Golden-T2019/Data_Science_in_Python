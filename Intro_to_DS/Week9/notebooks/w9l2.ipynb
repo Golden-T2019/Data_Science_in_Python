{
 "cells": [
  {
   "cell_type": "markdown",
   "metadata": {},
   "source": [
    "# Week 9 Lesson 2 #\n",
    "\n",
    "## JSON Data Format ##\n",
    "\n",
    "In this lesson, you will learn about creating, and reading from a JavaScript Object Notation (JSON) file.\n",
    "\n",
    "### Objectives ###\n",
    "\n",
    "By the end of this lesson, you will be able to:\n",
    "\n",
    "- Understand how to read and write a JSON format file.\n",
    "\n",
    "\n",
    "### Time Estimate ###\n",
    "\n",
    "Approximately 2 hours.\n",
    "\n",
    "#### Video\n",
    "\n",
    "[Week 9 Lesson 2 Video](https://mediaspace.illinois.edu/media/t/0_9vijfpya)\n",
    "\n",
    "#### Required Readings ####\n",
    "\n",
    "- Course [Jupyter Notebook](json-dataformats.ipynb) on JSON Data Formats\n",
    "\n",
    "- The [JSON](https://en.wikipedia.org/wiki/JSON) Document format\n",
    "\n",
    "#### *Optional Additional Readings*####\n",
    "\n",
    "- The [JSON](http://json.org/) format\n",
    "\n",
    "- Storing big data in a [JSON](http://smallworldbigdata.com/tag/json/) like format.\n",
    "\n",
    "### Assessment ###\n",
    "\n",
    "When you have completed and worked through the above readings, please take the [Week 9 Lesson 2 Assessment](https://learn.illinois.edu/mod/quiz/view.php?id=2169155)."
   ]
  }
 ],
 "metadata": {
  "kernelspec": {
   "display_name": "Python 3",
   "language": "python",
   "name": "python3"
  },
  "language_info": {
   "codemirror_mode": {
    "name": "ipython",
    "version": 3
   },
   "file_extension": ".py",
   "mimetype": "text/x-python",
   "name": "python",
   "nbconvert_exporter": "python",
   "pygments_lexer": "ipython3",
   "version": "3.6.1"
  }
 },
 "nbformat": 4,
 "nbformat_minor": 2
}
