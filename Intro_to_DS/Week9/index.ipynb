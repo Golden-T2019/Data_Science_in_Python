{
 "cells": [
  {
   "cell_type": "markdown",
   "metadata": {},
   "source": [
    "# Week 9 Overview#\n",
    "\n",
    "![Data Processing Comic](images/BBQ.gif)\n",
    "\n",
    "## Introduction to Data Formats ##\n",
    "\n",
    "In this week, you will learn about different data formats. First we will discuss the text data format, which will include the `.csv` and `.txt` files. Next, we will discuss JSON files. Finally, we will discuss XML files and how to read and write them.\n",
    "\n",
    "### Objectives ###\n",
    "\n",
    "##### By the end of this lesson, you should accomplish the following learning objectives:######\n",
    "\n",
    "- Understand how to read and write and XML formatted file.\n",
    "- Understand how to read and write a CSV file.\n",
    "- Understand how to read and write a JSON file.\n",
    "\n",
    "### Activities and Assignments ###\n",
    "\n",
    "|Activities and Assignments | Time Estimate | Deadline* | Points|\n",
    "|:------| -----|-------|----------:|\n",
    "|**[Week 9 Introduction Video][w9v]**|15 Minutes|Tuesday|N/A|\n",
    "|**[Week 9 Lesson 1: Data Format: Text](notebooks/w9l1.ipynb)**| 2 Hours |Thursday| 20|\n",
    "|**[Week 9 Lesson 2: Data Format: JSON](notebooks/w9l2.ipynb)**| 2 Hours | Thursday | 20 |\n",
    "|**[Week 9 Lesson 3: Data Format: XML](notebooks/w9l3.ipynb)**| 2 Hours | Thursday| 20 |\n",
    "|**[Week 9 Quiz][w9q]**| 45 Minutes | Friday | 70|\n",
    "|**Week 9 Assignment Submission**| 3 Hours | *The following* Monday | 125 from the Instructor<br>10 from Peer grading | \n",
    "|**Week 9 Completion of Peer Review**| 1 Hour | *The following* Saturday | 15 | \n",
    "\n",
    "*Please note that unless otherwise noted, the due time is 6pm Central time!\n",
    "\n",
    "----------\n",
    "[w9v]: https://mediaspace.illinois.edu/media/t/0_a75v0t65\n",
    "[w9q]: https://learn.illinois.edu/mod/quiz/view.php?id=2169062\n",
    "\n",
    "\n",
    "Photo Credit: Data Processing Center.  By Harley Schwadron. From cartoonstock.com.  Accessed 3 August 2015.\n"
   ]
  }
 ],
 "metadata": {
  "kernelspec": {
   "display_name": "Python 3",
   "language": "python",
   "name": "python3"
  },
  "language_info": {
   "codemirror_mode": {
    "name": "ipython",
    "version": 3
   },
   "file_extension": ".py",
   "mimetype": "text/x-python",
   "name": "python",
   "nbconvert_exporter": "python",
   "pygments_lexer": "ipython3",
   "version": "3.6.1"
  }
 },
 "nbformat": 4,
 "nbformat_minor": 2
}
