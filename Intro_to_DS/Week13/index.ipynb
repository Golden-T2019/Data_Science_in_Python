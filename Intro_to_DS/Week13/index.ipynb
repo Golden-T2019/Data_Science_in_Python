{
 "cells": [
  {
   "cell_type": "markdown",
   "metadata": {},
   "source": [
    "# Week 13 Overview#\n",
    "\n",
    "## Object Oriented Programming (OOP) ##\n",
    "\n",
    "In this week, you will learn about object oriented programming and how\n",
    "to use this programming paradigm by using the Python programming\n",
    "language. Specifically, you will learn how to create new data types in\n",
    "Python by using a `class`, how to control access to the attributes of\n",
    "this new data type by using _methods_, and how to leverage existing\n",
    "objects through inheritance.\n",
    "\n",
    "### Objectives ###\n",
    "\n",
    "##### By the end of this lesson, you should accomplish the following learning objectives:######\n",
    "\n",
    "- Understand the basic principles behind object oriented programming.\n",
    "- Understand how to create and use classes in Python.\n",
    "- Understand how to control access to class data via methods.\n",
    "\n",
    "### Activities and Assignments ###\n",
    "\n",
    "|Activities and Assignments | Time Estimate | Deadline* | Points|\n",
    "|:------| -----|-------|----------:|\n",
    "|**[Week 13 Introduction Video][w13v]**|10 Minutes|Tuesday|NA|\n",
    "|**[Week 13 Lesson 1: Object Oriented Programming](notebooks/w13l1.ipynb)**| 1 Hour |Thursday| 20|\n",
    "|**[Week 13 Lesson 2: Python: Introduction to OOP](notebooks/w13l2.ipynb)**| 3 Hours | Thursday | 20 |\n",
    "|**[Week 13 Lesson 3: Python: OOP](notebooks/w13l3.ipynb)**| 3 Hours | Thursday| 70 |\n",
    "|**[Week 13 Quiz][w13q]**| 45 Minutes | Friday | 70|\n",
    "|**Week 13 Assignment Submission**| 3 Hours | *The following*  Monday | 125 points from the Instructor<br>10 points from Peer grading | \n",
    "|**Week 13 Completion of Peer Review**| 3 Hours | *The following* Saturday | 15 | \n",
    "\n",
    "*Please note that unless otherwise noted, the due time is 6pm Central time!*\n",
    "\n",
    "----------\n",
    "[w13v]: https://mediaspace.illinois.edu/media/t/1_32tbe0em/76031081\n",
    "[w13q]: https://learn.illinois.edu/mod/quiz/view.php?id=2169074"
   ]
  }
 ],
 "metadata": {
  "kernelspec": {
   "display_name": "Python 3",
   "language": "python",
   "name": "python3"
  },
  "language_info": {
   "codemirror_mode": {
    "name": "ipython",
    "version": 3
   },
   "file_extension": ".py",
   "mimetype": "text/x-python",
   "name": "python",
   "nbconvert_exporter": "python",
   "pygments_lexer": "ipython3",
   "version": "3.6.1"
  }
 },
 "nbformat": 4,
 "nbformat_minor": 2
}
