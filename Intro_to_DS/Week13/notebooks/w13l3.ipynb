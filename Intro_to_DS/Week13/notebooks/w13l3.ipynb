{
 "cells": [
  {
   "cell_type": "markdown",
   "metadata": {},
   "source": [
    "# Week 13 Lesson 3 #\n",
    "\n",
    "## Object Oriented Programming in Python ##\n",
    "\n",
    "In this lesson, you will learn about more advanced object oriented\n",
    "programming concepts and how to use them effectively by using the Python\n",
    "programming language. This includes understanding the concept of classes\n",
    "as interfaces and specific implementations of an interface. The use of\n",
    "methods to encapsulate the state of an object, and finally the use of\n",
    "inheritance to build object oriented hierarchies.\n",
    "\n",
    "### Objectives ###\n",
    "\n",
    "By the end of this lesson, you will be able to:\n",
    "\n",
    "- Understand the concept of class methods.\n",
    "- Understand how to define an interface.\n",
    "- Understand how to create a succesful implementation of an interface.\n",
    "- Understand how to use inheritance to construct object hierarchies.\n",
    "- Understand the benefits of using encapsulation.\n",
    "\n",
    "### Time Estimate ###\n",
    "\n",
    "Approximately 3 hours.\n",
    "\n",
    "### Readings ###\n",
    "\n",
    "#### Video\n",
    "\n",
    "[Week 13 Lesson 3 Video](https://mediaspace.illinois.edu/media/t/1_0w32kz3z/76031081)\n",
    "\n",
    "#### Required Readings\n",
    "\n",
    "- Chapter 17 from [Think Python2](http://www.greenteapress.com/thinkpython2/html/thinkpython2018.html)\n",
    "- Chapter 18 from [Think Python2](http://www.greenteapress.com/thinkpython2/html/thinkpython2019.html)\n",
    "\n",
    "#### *Optional Additional Readings*####\n",
    "\n",
    "- [Improve your Python: OOP](https://www.jeffknupp.com/blog/2014/06/18/improve-your-python-python-classes-and-object-oriented-programming/) (starting from the Inheritance heading).\n",
    "- [OOP Section](http://anandology.com/python-practice-book/object_oriented_programming.html) in the Python Practice Book (from section _4.3 Inheritance_ onward).\n",
    "- Tutorialspoint [Python Object Oriented](http://www.tutorialspoint.com/python/python_classes_objects.htm) lesson (from _Class Inheritance_ onward)\n",
    "\n",
    "### Assessment ###\n",
    "\n",
    "When you have completed and worked through the above readings, please take the [Week 13 Lesson 3 Assessment][w13la]\n",
    "[w13la]: https://learn.illinois.edu/mod/quiz/view.php?id=2169194"
   ]
  }
 ],
 "metadata": {
  "kernelspec": {
   "display_name": "Python 3",
   "language": "python",
   "name": "python3"
  },
  "language_info": {
   "codemirror_mode": {
    "name": "ipython",
    "version": 3
   },
   "file_extension": ".py",
   "mimetype": "text/x-python",
   "name": "python",
   "nbconvert_exporter": "python",
   "pygments_lexer": "ipython3",
   "version": "3.6.1"
  }
 },
 "nbformat": 4,
 "nbformat_minor": 2
}
