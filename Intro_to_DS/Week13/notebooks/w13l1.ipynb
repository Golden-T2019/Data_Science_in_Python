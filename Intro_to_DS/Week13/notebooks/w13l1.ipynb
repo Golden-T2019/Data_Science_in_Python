{
 "cells": [
  {
   "cell_type": "markdown",
   "metadata": {},
   "source": [
    "# Week 13 Lesson 1 #\n",
    "\n",
    "## Introduction to Object Oriented Programming ##\n",
    "\n",
    "In this lesson, you will learn about object oriented programming (OOP),\n",
    "a paradigm in which new data types are created by using classes and\n",
    "access to the data in these new data types can be controlled by using\n",
    "methods. This enables a programmer to encapsulate the state of a system\n",
    "to minimize unintentional side effects, and to (potentially) improve\n",
    "performance. Existing classes can be extended by using inheritance, and\n",
    "class hierarchies can be dynamically created to support polymorphism.\n",
    "\n",
    "### Objectives ###\n",
    "\n",
    "By the end of this lesson, you will be able to:\n",
    "\n",
    "- Understand the the fundamental concepts behind object oriented programming.\n",
    "- Understand how OOP can be used to create new data types.\n",
    "- Understand the concepts of encapsulation, polymorphism, and inheritance.\n",
    "\n",
    "### Time Estimate ###\n",
    "\n",
    "Approximately 1 hour.\n",
    "\n",
    "### Readings ####\n",
    "\n",
    "#### Video\n",
    "\n",
    "[Week 13 Lesson 1 Video](https://mediaspace.illinois.edu/media/t/1_h15mt9tb/76031081)\n",
    "\n",
    "#### Required Readings\n",
    "\n",
    "- [What is an Object?](http://docs.oracle.com/javase/tutorial/java/concepts/object.html) from Oracle Corp.\n",
    "- [What is OOP?](http://java.about.com/od/objectorientedprogramming/a/introobjects.htm)\n",
    "- [Python OOP\n",
    "Tutorial](http://www.python-course.eu/python3_object_oriented_programming.php), stop at the Methods heading\n",
    "(you can continue beyond this in Lessons 2 & 3).\n",
    "\n",
    "#### *Optional Additional Readings*####\n",
    "\n",
    "- [Wikipedia article on OOP](https://en.wikipedia.org/wiki/Object-oriented_programming)\n",
    "\n",
    "### Assessment ###\n",
    "\n",
    "When you have completed and worked through the above readings, please take the [Week 13 Lesson 1 Assessment][w13la].\n",
    "\n",
    "[w13la]: https://learn.illinois.edu/mod/quiz/view.php?id=2169188"
   ]
  }
 ],
 "metadata": {
  "kernelspec": {
   "display_name": "Python 3",
   "language": "python",
   "name": "python3"
  },
  "language_info": {
   "codemirror_mode": {
    "name": "ipython",
    "version": 3
   },
   "file_extension": ".py",
   "mimetype": "text/x-python",
   "name": "python",
   "nbconvert_exporter": "python",
   "pygments_lexer": "ipython3",
   "version": "3.6.1"
  }
 },
 "nbformat": 4,
 "nbformat_minor": 2
}
