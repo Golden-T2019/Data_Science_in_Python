{
 "cells": [
  {
   "cell_type": "markdown",
   "metadata": {},
   "source": [
    "# Week 13 Lesson 2 #\n",
    "\n",
    "## Introduction to Object Oriented Programming in Python ##\n",
    "\n",
    "In this lesson, you will learn about implementing object oriented\n",
    "programming concepts in Python. First, you will learn how to create a\n",
    "`class` in Python, how to add class documentation strings, how to add\n",
    "class attributes, and how to pass use class instances with general\n",
    "functions. Next, you will learn about integrating classes more fully\n",
    "within functions, how to support modification, and how to perform\n",
    "prototyping.\n",
    "\n",
    "\n",
    "### Objectives ###\n",
    "\n",
    "By the end of this lesson, you will be able to:\n",
    "\n",
    "- Understand how to create a `class` in Python.\n",
    "- Understand how to initialize an object in Python\n",
    "- Understand how to use classes to define new data types\n",
    "- Understand ho to use these new data types within Python functions \n",
    "\n",
    "### Time Estimate ###\n",
    "\n",
    "Approximately 3 hours.\n",
    "\n",
    "### Readings ####\n",
    "\n",
    "#### Video\n",
    "\n",
    "[Week 13 Lesson 2 Video](https://mediaspace.illinois.edu/media/t/1_n84o9hdx/76031081)\n",
    "\n",
    "#### Required Readings\n",
    "\n",
    "- Chapter 15 from [Think Python2](http://www.greenteapress.com/thinkpython2/html/thinkpython2016.html)\n",
    "- Chapter 16 from [Think Python2](http://www.greenteapress.com/thinkpython2/html/thinkpython2017.html)\n",
    "\n",
    "#### *Optional Additional Readings*####\n",
    "\n",
    "- [Improve your Python: OOP](https://www.jeffknupp.com/blog/2014/06/18/improve-your-python-python-classes-and-object-oriented-programming/) (Stopping at the Inheritance heading).\n",
    "- [OOP Section](http://anandology.com/python-practice-book/object_oriented_programming.html) in the Python Practice Book (up to section _4.3 Inheritance_).\n",
    "- Tutorialspoint [Python Object Oriented](http://www.tutorialspoint.com/python/python_classes_objects.htm) lesson (stop at _Class Inheritance_)\n",
    "\n",
    "### Assessment ###\n",
    "\n",
    "When you have completed and worked through the above readings, please take the [Week 13 Lesson 2 Assessment][w13la].\n",
    "\n",
    "[w13la]: https://learn.illinois.edu/mod/quiz/view.php?id=2169191"
   ]
  }
 ],
 "metadata": {
  "kernelspec": {
   "display_name": "Python 3",
   "language": "python",
   "name": "python3"
  },
  "language_info": {
   "codemirror_mode": {
    "name": "ipython",
    "version": 3
   },
   "file_extension": ".py",
   "mimetype": "text/x-python",
   "name": "python",
   "nbconvert_exporter": "python",
   "pygments_lexer": "ipython3",
   "version": "3.6.1"
  }
 },
 "nbformat": 4,
 "nbformat_minor": 2
}
