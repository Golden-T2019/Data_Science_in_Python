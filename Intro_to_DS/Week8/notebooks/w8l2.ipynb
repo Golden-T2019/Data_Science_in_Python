{
 "cells": [
  {
   "cell_type": "markdown",
   "metadata": {},
   "source": [
    "# Week 8 Lesson 2 #\n",
    "\n",
    "## Introduction to Pandas: Data Access and Selection##\n",
    "\n",
    "In this lesson, you will learn about the Pandas library. Pandas is a\n",
    "Python library that can simplify data analysis tasks. If you know R, you\n",
    "will find many familiar concepts in Pandas. By using Pandas, you can\n",
    "more easily manipulate data by using column labels, you can identify and\n",
    "handle missing data, and you can quickly merge or join data sets.\n",
    "\n",
    "### Objectives ###\n",
    "By the end of this lesson, you will be able to:\n",
    "\n",
    "- Understand the basic components in the Pandas library\n",
    "- Understand how to use a DataFrame\n",
    "- Understand how to read and write data between Pandas data structures and different types of files\n",
    "- Understand how to manipulate large data sets by column labels\n",
    "\n",
    "### Time Estimate ###\n",
    "\n",
    "Approximately 2 hours.\n",
    "\n",
    "### Readings ####\n",
    "\n",
    "#### Video\n",
    "\n",
    "[Week 8 Lesson 2 Video](https://mediaspace.illinois.edu/media/t/1_doqvsnop)\n",
    "\n",
    "#### Required Readings\n",
    "\n",
    "- [Introduction to Pandas](intro2pandas.ipynb) Jupyter Notebook\n",
    "- [Quick overview](http://pandas.pydata.org/pandas-docs/stable/overview.html) of Pandas\n",
    "- Pandas in [Ten Minutes](http://pandas.pydata.org/pandas-docs/stable/10min.html)\n",
    "- [Pandas Tutorial](https://github.com/jvns/pandas-cookbook) Chapters 1-2\n",
    "\n",
    "#### *Optional Additional Readings*####\n",
    "\n",
    "- Another [Pandas Tutorial](http://www.gregreda.com/2013/10/26/intro-to-pandas-data-structures/)\n",
    "\n",
    "### Assessment ###\n",
    "\n",
    "When you have completed and worked through the above readings, please take the [Week 8 Lesson 2 Assessment](https://learn.illinois.edu/mod/quiz/view.php?id=2169146)."
   ]
  }
 ],
 "metadata": {
  "kernelspec": {
   "display_name": "Python 3",
   "language": "python",
   "name": "python3"
  },
  "language_info": {
   "codemirror_mode": {
    "name": "ipython",
    "version": 3
   },
   "file_extension": ".py",
   "mimetype": "text/x-python",
   "name": "python",
   "nbconvert_exporter": "python",
   "pygments_lexer": "ipython3",
   "version": "3.6.1"
  }
 },
 "nbformat": 4,
 "nbformat_minor": 2
}
