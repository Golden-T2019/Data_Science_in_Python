{
 "cells": [
  {
   "cell_type": "markdown",
   "metadata": {},
   "source": [
    "# Week 8 Lesson 1 #\n",
    "\n",
    "## Introduction to Numpy ##\n",
    "\n",
    "In this lesson, you will learn to work with the Numpy library, which\n",
    "brings fast numerical arrays and matrices to the Python programming\n",
    "language. You will learn how to create numnpy arrays, how to quantify\n",
    "the basic details about an existing array, how to index and slice these\n",
    "arrays, and how to apply (universal) functions to array data quickly.\n",
    "Finally, you will learn how to change the shape of an array, and how to\n",
    "make shallow and deep copies of an array.\n",
    "\n",
    "### Objectives ###\n",
    "\n",
    "By the end of this lesson, you will be able to:\n",
    "\n",
    "- Understand how to create and use a Numpy array.\n",
    "- Understand how to index into and slice a Numpy array.\n",
    "- Understand what a ufunc is and how to apply them to a Numpy array.\n",
    "- Understand how to modify and copy a Numpy array.\n",
    "\n",
    "### Time Estimate ###\n",
    "\n",
    "Approximately 3 hours.\n",
    "\n",
    "### Readings ####\n",
    "\n",
    "#### Video\n",
    "\n",
    "[Week 8 Lesson 1 Video](https://mediaspace.illinois.edu/media/t/1_r5xheqtr)\n",
    "\n",
    "\n",
    "#### Required Readings\n",
    "\n",
    "- [Introduction to Numpy](intro2numpy.ipynb) Jupyter Notebook\n",
    "- [Numpy Tutorial](https://docs.scipy.org/doc/numpy/user/quickstart.html) (up to and including *Copies and Views*)\n",
    "\n",
    "#### Optional Additional Readings\n",
    "\n",
    "- Numpy [Cookbook](http://scipy-cookbook.readthedocs.io/)\n",
    "- Short [Numpy Overview](http://nbviewer.ipython.org/github/WeatherGod/AnatomyOfMatplotlib/blob/master/AnatomyOfMatplotlib-Part0-Intro2NumPy.ipynb)\n",
    "\n",
    "\n",
    "### Assessment ###\n",
    "\n",
    "When you have completed and worked through the above readings, please take the [Week 8 Lesson 1 Assessment](https://learn.illinois.edu/mod/quiz/view.php?id=2169143)."
   ]
  }
 ],
 "metadata": {
  "kernelspec": {
   "display_name": "Python 3",
   "language": "python",
   "name": "python3"
  },
  "language_info": {
   "codemirror_mode": {
    "name": "ipython",
    "version": 3
   },
   "file_extension": ".py",
   "mimetype": "text/x-python",
   "name": "python",
   "nbconvert_exporter": "python",
   "pygments_lexer": "ipython3",
   "version": "3.6.1"
  }
 },
 "nbformat": 4,
 "nbformat_minor": 2
}
