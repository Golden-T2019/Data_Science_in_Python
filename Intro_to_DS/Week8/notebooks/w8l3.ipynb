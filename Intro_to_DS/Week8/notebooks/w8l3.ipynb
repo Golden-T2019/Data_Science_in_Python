{
 "cells": [
  {
   "cell_type": "markdown",
   "metadata": {},
   "source": [
    "# Week 8 Lesson 3 #\n",
    "\n",
    "## Introduction to Pandas: Data Manipulation and Analysis##\n",
    "\n",
    "In this lesson, you will learn more advanced functionality within the\n",
    "Pandas library. Specifically you will learn about combining data from\n",
    "different Pandas DataFrames, efficiently selecting data from Pandas\n",
    "DataFrames, and how to use Pandas to clean data before subsequent\n",
    "analysis.\n",
    "\n",
    "\n",
    "#### Objectives ###\n",
    "\n",
    "By the end of this lesson, you will be able to:\n",
    "\n",
    "- Understand how to quickly filter data in a Pandas DataFrame\n",
    "- Understand how use the Pandas GroupBy and Aggregate functionality.\n",
    "- Understand how combine data from different Pandas data structures\n",
    "- Understand how to manipulate character data by using Pandas\n",
    "- Understand how to clean up data sources by using Pandas\n",
    "\n",
    "\n",
    "### Time Estimate ###\n",
    "\n",
    "Approximately 2 hours.\n",
    "\n",
    "### Readings ####\n",
    "\n",
    "#### Video\n",
    "\n",
    "[Week 8 Lesson 3](https://mediaspace.illinois.edu/media/t/1_94ce9h1a)\n",
    "\n",
    "#### Required Readings\n",
    "\n",
    "- [Pandas Tutorial](https://github.com/jvns/pandas-cookbook) Chapters 3-7\n",
    "\n",
    "#### Optional Additional Readings\n",
    "\n",
    "- [Python for Data Analysis](http://proquest.safaribooksonline.com.proxy2.library.illinois.edu/book/programming/python/9781449323592/firstchapter)\n",
    "\n",
    "### Assessment ###\n",
    "\n",
    "When you have completed and worked through the above readings, please take the [Week 8 Lesson 3 Assessment](https://learn.illinois.edu/mod/quiz/view.php?id=2169149).\n"
   ]
  }
 ],
 "metadata": {
  "kernelspec": {
   "display_name": "Python 3",
   "language": "python",
   "name": "python3"
  },
  "language_info": {
   "codemirror_mode": {
    "name": "ipython",
    "version": 3
   },
   "file_extension": ".py",
   "mimetype": "text/x-python",
   "name": "python",
   "nbconvert_exporter": "python",
   "pygments_lexer": "ipython3",
   "version": "3.6.1"
  }
 },
 "nbformat": 4,
 "nbformat_minor": 2
}
