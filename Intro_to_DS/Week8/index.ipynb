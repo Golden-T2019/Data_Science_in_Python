{
 "cells": [
  {
   "cell_type": "markdown",
   "metadata": {},
   "source": [
    "# Week 8 Overview#\n",
    "\n",
    "![Pandas logo](images/pandas_logo.png)\n",
    "\n",
    "## Introduction to Data Analysis in Python##\n",
    "\n",
    "In this week, you will learn to perform basic data analysis by using the\n",
    "Python programming language. To simplify data analysis tasks when\n",
    "working with Python we will first learn how to create and use fast\n",
    "numerical arrays and matrices in Python by using the numpy library.\n",
    "Numpy arrays underlie many of the Python data science software stack,\n",
    "and thus understanding them can improve your overall efficacy. Next you\n",
    "will be introduced to the Pandas library. Pandas introduces several new\n",
    "data structures into the Python language, including the Series and the\n",
    "DataFrame, both of which allow you to access data by a column label in\n",
    "the same manner you used numerical indices with a NumPy array. Pandas\n",
    "goes beyond this to allow you to select, aggregate and filter data by\n",
    "using expressions when slicing data from a Pandas data structure.\n",
    "\n",
    "### Objectives ###\n",
    "\n",
    "##### By the end of this lesson, you should accomplish the following learning objectives:######\n",
    "\n",
    "- Understand how to use the Numpy library to perform fast array and matrix operations\n",
    "- Understand how to use the Pandas library to read and write structured data into a Python program.\n",
    "- Understand how to use a Pandas DataFrame to select, group, and filter data.\n",
    "\n",
    "### Activities and Assignments ###\n",
    "\n",
    "|Activities and Assignments | Time Estimate | Deadline* | Points|\n",
    "|:------| -----|-------|----------:|\n",
    "|**[Week 8 Introduction Video][w8v]**|15 Minutes|Tuesday|N/A|\n",
    "|**[Week 8 Lesson 1: Python: Introduction to Numpy](notebooks/w8l1.ipynb)**| 3 Hours |Thursday| 20|\n",
    "|**[Week 8 Lesson 2: Python: Introduction to Pandas](notebooks/w8l2.ipynb)**| 3 Hours | Thursday | 20 |\n",
    "|**[Week 8 Lesson 3: Python: Pandas DataFrame](notebooks/w8l3.ipynb)**| 2 Hours | Thursday| 20 |\n",
    "|**[Week 8 Quiz][w8q]**| 45 Minutes | Friday | 70|\n",
    "|**Week 8 Assignment Submission**| 3 Hours | *The following* Monday | 125 from the Instructor<br>10 from Peer grading | \n",
    "|**Week 8 Completion of Peer Review**| 1 Hour | *The following* Saturday | 15 | \n",
    "\n",
    "\n",
    "*Please note that unless otherwise noted, the due time is 6pm Central time!\n",
    "\n",
    "----------\n",
    "[w8v]: https://mediaspace.illinois.edu/media/t/1_c1xf7pwh\n",
    "[w8q]: https://learn.illinois.edu/mod/quiz/view.php?id=2169059\n",
    "\n",
    "Photo Credit: Pandas Logo, From pandas.pydata.org. Accessed 3 August 2015.\n"
   ]
  }
 ],
 "metadata": {
  "kernelspec": {
   "display_name": "Python 3",
   "language": "python",
   "name": "python3"
  },
  "language_info": {
   "codemirror_mode": {
    "name": "ipython",
    "version": 3
   },
   "file_extension": ".py",
   "mimetype": "text/x-python",
   "name": "python",
   "nbconvert_exporter": "python",
   "pygments_lexer": "ipython3",
   "version": "3.6.1"
  }
 },
 "nbformat": 4,
 "nbformat_minor": 2
}
