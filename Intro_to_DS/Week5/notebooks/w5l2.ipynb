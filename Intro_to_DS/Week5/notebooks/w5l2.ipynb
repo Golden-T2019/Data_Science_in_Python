{
 "cells": [
  {
   "cell_type": "markdown",
   "metadata": {},
   "source": [
    "# Week 5 Lesson 2 #\n",
    "\n",
    "## Working with the Underlying File System ##\n",
    "\n",
    "In this lesson, you will learn how to write Python programs that run at\n",
    "a command prompt and you will learn to work with files from within a\n",
    "Python program. This includes opening and closing files, and reading and\n",
    "writing data to files. You also will learn about streams and character\n",
    "encoding and working with compressed files. Finally, you will learn\n",
    "about working with directories and file metadata.\n",
    "\n",
    "### Objectives ###\n",
    "\n",
    "By the end of this lesson, you will be able to:\n",
    "\n",
    "- Write and execute a complete Python program.\n",
    "- Open and close a file from a Python program.\n",
    "- Read and write data from within a Python program.\n",
    "- Work with the file system by using Python.\n",
    "\n",
    "### Time Estimate ###\n",
    "\n",
    "Approximately 2 hours.\n",
    "\n",
    "### Readings ####\n",
    "\n",
    "#### Video\n",
    "\n",
    "[Week 5 Lesson 2 Video](https://mediaspace.illinois.edu/media/t/1_pely39hq)\n",
    "\n",
    "#### Required Readings\n",
    "\n",
    "- [Python File Input/Output Notebook](pyfileio.ipynb)\n",
    "- Chapters 1 and 11 from [Dive Into Python](http://www.diveintopython3.net/index.html)\n",
    "\n",
    "#### Optional Additional Readings\n",
    "\n",
    "- Chapter 14 [Think Python](http://greenteapress.com/thinkpython2/html/index.html)\n",
    "\n",
    "### Assessment ###\n",
    "\n",
    "When you have completed and worked through the above readings, please take the [Week 5 Lesson 2 Assessment](https://learn.illinois.edu/mod/quiz/view.php?id=2169119)."
   ]
  }
 ],
 "metadata": {
  "kernelspec": {
   "display_name": "Python 3",
   "language": "python",
   "name": "python3"
  },
  "language_info": {
   "codemirror_mode": {
    "name": "ipython",
    "version": 3
   },
   "file_extension": ".py",
   "mimetype": "text/x-python",
   "name": "python",
   "nbconvert_exporter": "python",
   "pygments_lexer": "ipython3",
   "version": "3.6.1"
  }
 },
 "nbformat": 4,
 "nbformat_minor": 2
}
