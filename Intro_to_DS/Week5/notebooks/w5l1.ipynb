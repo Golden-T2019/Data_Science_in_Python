{
 "cells": [
  {
   "cell_type": "markdown",
   "metadata": {},
   "source": [
    "# Week 5 Lesson 1 #\n",
    "\n",
    "## Unix: Networking and Basic Commands ##\n",
    "\n",
    "In this lesson, you will learn the basics of networking commands,\n",
    "searching for files, and archiving within Unix-like environments.\n",
    "\n",
    "### Objectives ###\n",
    "By the end of this lesson, you will:\n",
    "\n",
    "- Understand and be able to use simple networking commands, such as `ping`, `netstat`, `ftp`, `wget`, etc.\n",
    "- Be able to explain what the following terms mean: IP address, host and domain name, and URI.\n",
    "- Understand how to search for files using locate and find, and also learn other commands associated with finding files: `xargs`, `touch`, and `stat`.\n",
    "- Understand how to utilize the archiving commands for Unix-like environments: `gzip`, `bzip2`, `tar`, `zip`, `rsync`, etc.\n",
    "\n",
    "### Time Estimate ###\n",
    "\n",
    "Approximately 2 hours.\n",
    "\n",
    "### Readings ####\n",
    "\n",
    "#### Video\n",
    "\n",
    "[Week 5 Lesson 1 Video](https://mediaspace.illinois.edu/media/t/1_7guml958)\n",
    "\n",
    "#### Required Readings\n",
    "\n",
    "- [Unix Networking Notebook](unixnetwork.ipynb)\n",
    "- Chapters 16-18 from [The Linux Command Line (PDF)](http://sourceforge.net/projects/linuxcommand/?source=dlp) and follow along by entering the commands as directed into a terminal window on our course server.\n",
    "\n",
    "#### Optional Additional Readings\n",
    "\n",
    "-  Chapter 7, 16, and 25 of [Practical Unix](http://proquest.safaribooksonline.com.proxy2.library.illinois.edu/book/operating-systems-and-server-administration/unix/078972250x)\n",
    "\n",
    "### Assessment ###\n",
    "\n",
    "When you have completed and worked through the above readings, please take the [Week 5 Lesson 1 Assessment](https://learn.illinois.edu/mod/quiz/view.php?id=2169116)."
   ]
  }
 ],
 "metadata": {
  "kernelspec": {
   "display_name": "Python 3",
   "language": "python",
   "name": "python3"
  },
  "language_info": {
   "codemirror_mode": {
    "name": "ipython",
    "version": 3
   },
   "file_extension": ".py",
   "mimetype": "text/x-python",
   "name": "python",
   "nbconvert_exporter": "python",
   "pygments_lexer": "ipython3",
   "version": "3.6.1"
  }
 },
 "nbformat": 4,
 "nbformat_minor": 2
}
