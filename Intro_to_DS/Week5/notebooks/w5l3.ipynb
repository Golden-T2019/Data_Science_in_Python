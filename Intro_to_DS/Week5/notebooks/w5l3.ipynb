{
 "cells": [
  {
   "cell_type": "markdown",
   "metadata": {},
   "source": [
    "# Week 5 Lesson 3 #\n",
    "\n",
    "## Python Network programming ##\n",
    "\n",
    "In this lesson, you will learn about using Python's Requests library, which allows users to interact with the network. In addition, you will also learn about what sockets are, what they are made of, and how a server and a client deal with sockets.\n",
    "\n",
    "### Objectives ###\n",
    "\n",
    "By the end of this lesson, you will be able to:\n",
    "\n",
    "- Know the basic steps for that the server and client undergo they are using sockets\n",
    "- Understand the anatomy and definition of a socket.\n",
    "- Use basic Requests library functions.\n",
    "\n",
    "\n",
    "### Time Estimate ###\n",
    "\n",
    "Approximately 2 hours.\n",
    "\n",
    "### Readings ####\n",
    "\n",
    "#### Video\n",
    "\n",
    "[Week 5 Lesson 3 Video](https://mediaspace.illinois.edu/media/t/1_3rg10gpx)\n",
    "\n",
    "#### Required Readings\n",
    "\n",
    "- [Network Programming with Python](http://courses.cs.washington.edu/courses/cse142/12au/explorations/network%20programming/NetworkProgrammingWithPython.pdf) lecture slides.\n",
    "- [Requests](http://docs.python-requests.org/en/latest/user/quickstart/) Library documentation.\n",
    "\n",
    "#### Optional Additional Readings\n",
    "\n",
    "- Chapter 11 [Python Cookbook](http://proquest.safaribooksonline.com.proxy2.library.illinois.edu/book/programming/python/9781449357337/firstchapter#X2ludGVybmFsX0h0bWxWaWV3P3htbGlkPTk3ODE0NDkzNTczMzclMkZjaDExX2h0bWwmcXVlcnk9Y29uZGl0aW9uYWwlMjBzdGF0ZW1lbnRz)\n",
    "\n",
    "\n",
    "### Assessment ###\n",
    "\n",
    "When you have completed and worked through the above readings, please take the [Week 5 Lesson 3 Assessment](https://learn.illinois.edu/mod/quiz/view.php?id=2169122)."
   ]
  }
 ],
 "metadata": {
  "kernelspec": {
   "display_name": "Python 3",
   "language": "python",
   "name": "python3"
  },
  "language_info": {
   "codemirror_mode": {
    "name": "ipython",
    "version": 3
   },
   "file_extension": ".py",
   "mimetype": "text/x-python",
   "name": "python",
   "nbconvert_exporter": "python",
   "pygments_lexer": "ipython3",
   "version": "3.6.1"
  }
 },
 "nbformat": 4,
 "nbformat_minor": 2
}
