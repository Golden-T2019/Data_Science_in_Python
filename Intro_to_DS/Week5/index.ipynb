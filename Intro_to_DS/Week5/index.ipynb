{
 "cells": [
  {
   "cell_type": "markdown",
   "metadata": {},
   "source": [
    "# Week 5 Overview#\n",
    "\n",
    "![XKCD sustainability comic](images/xkcd_sustainable.png)\n",
    "\n",
    "## Networking and File Input/Output ##\n",
    "\n",
    "The lessons this week will focus on learning how to use: networking commands inside of Unix, such as `ping`, `netstat`, etc.; archiving/compression commands in Unix; and commands used to find files using given criteria.  Next, we will go on to learn about writing and executing a complete program, how to open and close files, and file input/output all in Python.  Finally, we will touch on the Requests library inside of Python, as well as go over what network programming in Python requires.  \n",
    "\n",
    "\n",
    "### Objectives ###\n",
    "\n",
    "##### By the end of this lesson, you should accomplish the following learning objectives:######\n",
    "\n",
    "- Write and execute a complete Python program that has the ability to open a file, write or read into it, and then close the file.\n",
    "- Understand and be able to use simple networking commands, searching commands, and archiving commands in Unix, such as `ping`, `netstat`, `ftp`, `wget`, `xargs`, `touch`, and `stat`, and `gzip`, `bzip2`, `tar`, `zip`, `rsync`, etc.\n",
    "- Understand what network programming in Python requires.\n",
    "\n",
    "\n",
    "### Activities and Assignments ###\n",
    "\n",
    "|Activities and Assignments | Time Estimate | Deadline* | Points|\n",
    "|:------| -----|-------|----------:|\n",
    "|**[Week 5 Introduction Video][w5v]**|15 Minutes|Tuesday|N/A|\n",
    "|**[Week 5 Lesson 1: Unix: Networking and Basic Commands](notebooks/w5l1.ipynb)**| 2 Hours |Thursday| 20|\n",
    "|**[Week 5 Lesson 2: Working with the Underlying File System](notebooks/w5l2.ipynb)**| 3 Hours | Thursday | 20 |\n",
    "|**[Week 5 Lesson 3: Python: Network Programming](notebooks/w5l3.ipynb)**| 3 Hours | Thursday| 20 |\n",
    "|**[Week 5 Quiz][w5q]**| 45 Minutes | Friday | 70|\n",
    "|**Week 5 Assignment Submission**| 3 Hours | *The following*  Monday | 125 from the Instructor<br>10 from Peer grading | \n",
    "|**Week 5 Completion of Peer Review**| 1 Hour | *The following* Saturday | 15 | \n",
    "\n",
    "\n",
    "*Please note that unless otherwise noted, the due time is 6pm Central time!*\n",
    "\n",
    "----------\n",
    "[w5q]: https://learn.illinois.edu/mod/quiz/view.php?id=2169050\n",
    "[w5v]: https://mediaspace.illinois.edu/media/t/1_fd2206v7\n",
    "\n",
    "Photo Credit: [Sustainable Comic](http://imgs.xkcd.com/comics/sustainable.png) by Randall Monroe, Accessed on 31 July 2015."
   ]
  }
 ],
 "metadata": {
  "kernelspec": {
   "display_name": "Python 3",
   "language": "python",
   "name": "python3"
  },
  "language_info": {
   "codemirror_mode": {
    "name": "ipython",
    "version": 3
   },
   "file_extension": ".py",
   "mimetype": "text/x-python",
   "name": "python",
   "nbconvert_exporter": "python",
   "pygments_lexer": "ipython3",
   "version": "3.6.1"
  }
 },
 "nbformat": 4,
 "nbformat_minor": 2
}
