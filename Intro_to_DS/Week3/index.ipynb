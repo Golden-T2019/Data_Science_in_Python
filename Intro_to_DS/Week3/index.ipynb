{
 "cells": [
  {
   "cell_type": "markdown",
   "metadata": {},
   "source": [
    "# Week 3 Overview\n",
    "\n",
    "![python logo](images/python-logo.png)\n",
    "\n",
    "## A Further Exploration into the Python Programming Language and Unix ##\n",
    "\n",
    "This week you will begin to learn how to use the Python programming\n",
    "language to write simple programs, and you will also learn about\n",
    "permissions and controlling processes within Unix-like Systems. First,\n",
    "you will learn about permission-related commands within Unix-like\n",
    "systems, such as chmod, umask, su, sudo, chown, and chgrp. Second, you\n",
    "will learn how to control processes within Unix-like systems through\n",
    "commands including top, ps, jobs, bg, fg, kill, killall, and shutdown.\n",
    "Third, you will learn how to perform various function calls within\n",
    "Python, as well as create your own functions. Finally, you will learn\n",
    "how to create conditional statements, value-returning functions and\n",
    "iterating statements.\n",
    "\n",
    "### Objectives ###\n",
    "\n",
    "##### By the end of this lesson, you should be able to:######\n",
    "\n",
    "- Know how to utilize various permissions-based commands, such as id, umask, sudo, etc. \n",
    "- Understand how to use various process-based commands, such as ps, top, bg, kill, etc.\n",
    "- Be able to define new functions in Python.\n",
    "\n",
    "### Activities and Assignments ###\n",
    "\n",
    "|Activities and Assignments | Time Estimate | Deadline* | Points|\n",
    "|:------| -----|-------|----------:|\n",
    "|**[Week 3 Introduction Video][wv]** |15 Minutes|Tuesday|N/A|\n",
    "|**[Week 3 Lesson 1: Unix File System & Processes](notebooks/w3l1.ipynb)**| 2 Hours |Thursday| 20|\n",
    "|**[Week 3 Lesson 2: Python: Functions](notebooks/w3l2.ipynb)**| 3 Hours | Thursday | 20 |\n",
    "|**[Week 3 Lesson 3: Python: Conditional Statements & Iteration](notebooks/w3l3.ipynb)**| 3 Hours | Thursday| 20 |\n",
    "|**[Week 3 Quiz][wq]**| 45 Minutes | Friday | 70|\n",
    "|**Week 3 Assignment Submission**| 3 Hours |  *The following* Monday | 125 from the Instructor<br>10 from Peer grading | \n",
    "|**Week 3 Completion of Peer Review**| 1 Hour | *The following* Saturday | 15 | \n",
    "\n",
    "*Please note that unless otherwise noted, the due time is 6pm Central time!*\n",
    "\n",
    "----------\n",
    "[wv]: https://mediaspace.illinois.edu/media/w3ov/1_yzde39ub\n",
    "[wq]: https://learn.illinois.edu/mod/quiz/view.php?id=2169044\n",
    "\n",
    " \n",
    "Photo Credit: Python Logo. Created 2001, Python.org, Accessed 31 July 2015."
   ]
  }
 ],
 "metadata": {
  "kernelspec": {
   "display_name": "Python 3",
   "language": "python",
   "name": "python3"
  },
  "language_info": {
   "codemirror_mode": {
    "name": "ipython",
    "version": 3
   },
   "file_extension": ".py",
   "mimetype": "text/x-python",
   "name": "python",
   "nbconvert_exporter": "python",
   "pygments_lexer": "ipython3",
   "version": "3.6.1"
  }
 },
 "nbformat": 4,
 "nbformat_minor": 2
}
