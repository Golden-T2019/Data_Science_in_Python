{
 "cells": [
  {
   "cell_type": "markdown",
   "metadata": {},
   "source": [
    "# Week 3 Lesson 1 #\n",
    "\n",
    "## Unix File System & Processes ##\n",
    "\n",
    "In this lesson, you will learn more details about how Unix-like systems deal with user permissions and how to diagnose, control, and possibly terminate unresponsive programs.\n",
    "\n",
    "### Objectives###\n",
    "By the end of this lesson, you will:\n",
    "\n",
    "- Understand how the permissions system imparts system security.\n",
    "- Know how to utilize various permissions-based commands, such as `id`, `umask`, `sudo`, etc. \n",
    "- Understand how to use various process-based commands, such as `ps`, `top`, `bg`, `kill`, etc.\n",
    "\n",
    "\n",
    "### Time Estimate ###\n",
    "Approximately 2 hours.\n",
    "\n",
    "### Readings ###\n",
    "\n",
    "#### Video\n",
    "\n",
    "[Week 3 Lesson 1 Video](https://mediaspace.illinois.edu/media/w3l1/1_xdppjjtq)\n",
    "\n",
    "#### Required Readings\n",
    "\n",
    "- Read chapters 9-10 from the free book [The Linux Command Line (PDF)](http://sourceforge.net/projects/linuxcommand/?source=dlp) and follow along by entering the commands as directed into a terminal window within your virtual machine.\n",
    "\n",
    "#### Optional Additional Readings\n",
    "\n",
    "- Wikipedia article covering [malware](http://en.wikipedia.org/wiki/Malware)\n",
    "- Chapters 2.16 and 2.17 of [How Linux Works](http://proquest.safaribooksonline.com.proxy2.library.illinois.edu/book/programming/linux/9781457185519), which covers permissions and processes.\n",
    "- Chapter 2.7 of [The Linux Programming Interface](http://proquest.safaribooksonline.com.proxy2.library.illinois.edu/book/programming/linux/9781593272203) which covers processes.\n",
    "\n",
    "\n",
    "### Assessment ###\n",
    "\n",
    "When you have completed and worked through the above readings, please take the [Week 3 Lesson 1 Assessment][la]\n",
    "\n",
    "[la]: https://learn.illinois.edu/mod/quiz/view.php?id=2169098"
   ]
  }
 ],
 "metadata": {
  "kernelspec": {
   "display_name": "Python 3",
   "language": "python",
   "name": "python3"
  },
  "language_info": {
   "codemirror_mode": {
    "name": "ipython",
    "version": 3
   },
   "file_extension": ".py",
   "mimetype": "text/x-python",
   "name": "python",
   "nbconvert_exporter": "python",
   "pygments_lexer": "ipython3",
   "version": "3.6.1"
  }
 },
 "nbformat": 4,
 "nbformat_minor": 2
}
