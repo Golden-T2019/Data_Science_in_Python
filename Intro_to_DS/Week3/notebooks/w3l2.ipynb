{
 "cells": [
  {
   "cell_type": "markdown",
   "metadata": {},
   "source": [
    "# Week 3 Lesson 2 #\n",
    "## Python: Functions ##\n",
    "\n",
    "In this lesson you will learn about how to call built-in Python\n",
    "functions, as well as how to create your own functions.  Additionally,\n",
    "you will learn some fundamental concepts that you should implement in\n",
    "the functions that you define: generalization and encapsulation.\n",
    "\n",
    "### Objectives ###\n",
    "\n",
    "By the end of this lesson, you will be able to:\n",
    "\n",
    "- Perform a python function call.\n",
    "- Know the difference between different types of functions.\n",
    "- Be able to define new functions.\n",
    "- Understand how simple for loops work.\n",
    "- Understand why generalization should be used.\n",
    "\n",
    "### Time Estimate ###\n",
    "\n",
    "Approximately 2 hours.\n",
    "\n",
    "### Readings ####\n",
    "\n",
    "#### Video\n",
    "\n",
    "[Week 3 Lesson 2 Video](https://mediaspace.illinois.edu/media/w3l2/1_p01ig69j)\n",
    "\n",
    "#### Required Readings\n",
    "\n",
    "- Read Chapters 3-4 in [Think Python](http://greenteapress.com/thinkpython2/html/index.html) and try some of the exercises shown in those two chapters.\n",
    "- Python [Functions](functionpy.ipynb) Notebook.\n",
    "\n",
    "#### Optional Additional Readings\n",
    "\n",
    "- [Google Developers Python Setup Guidelines](https://developers.google.com/edu/python/set-up) on starting a Python interpreter or running a Python program at the command line. Note that in this course, the JupyterHub server comes preinstalled with the latest version of Python3, as that is the future of the language. For the most part, there are no major differences that you will notice (the Python texts you will read are for Python 3), but since some optional readings still use Python 2, I want to make this point.\n",
    "- [Discussion of Differences between Python 2 and Python 3](http://python3porting.com/intro.html), and a shorter [List of Changes from Python 2 to Python 3](http://inventwithpython.com/appendixa.html).\n",
    "- Python website tutorial for [Python 2](https://docs.python.org/2.7/tutorial/index.html) and [Python 3](https://docs.python.org/3.6/tutorial/index.html).\n",
    "\n",
    "### Assessment ###\n",
    "\n",
    "When you have completed and worked through the above readings, please take the [Week 3 Lesson 2 Assessment][la]\n",
    "\n",
    "[la]: https://learn.illinois.edu/mod/quiz/view.php?id=2169101"
   ]
  }
 ],
 "metadata": {
  "kernelspec": {
   "display_name": "Python 3",
   "language": "python",
   "name": "python3"
  },
  "language_info": {
   "codemirror_mode": {
    "name": "ipython",
    "version": 3
   },
   "file_extension": ".py",
   "mimetype": "text/x-python",
   "name": "python",
   "nbconvert_exporter": "python",
   "pygments_lexer": "ipython3",
   "version": "3.6.1"
  }
 },
 "nbformat": 4,
 "nbformat_minor": 2
}
