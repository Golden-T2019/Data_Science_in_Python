{
 "cells": [
  {
   "cell_type": "markdown",
   "metadata": {},
   "source": [
    "# Week 3 Lesson 3 #\n",
    "\n",
    "## Python: Conditional Statements & Iteration ##\n",
    "\n",
    "In this lesson, you will focus on the details of writing and using\n",
    "functions in a Python program (we will stay within the Jupyter notebook,\n",
    "primarily, although you can experiment with writing and executing Python\n",
    "programs in a file). First, you will learn about conditional\n",
    "programming. Next, you will learn how to write a function that returns\n",
    "one or more values. Finally, you will learn about iteration and\n",
    "algorithm design. \n",
    "\n",
    "### Objectives ###\n",
    "\n",
    "By the end of this lesson, you will be able to:\n",
    "\n",
    "- Write and use conditional statements in Python.\n",
    "- Write Python functions that return data.\n",
    "- Write and use iteration statements in Python.\n",
    "\n",
    "### Time Estimate ###\n",
    "\n",
    "Approximately 2 hours.\n",
    "\n",
    "### Readings ####\n",
    "\n",
    "#### Video\n",
    "\n",
    "[Week 3 Lesson 3 Video](https://mediaspace.illinois.edu/media/w3l3/1_32lazu3n)\n",
    "\n",
    "#### Required Readings\n",
    "\n",
    "- Chapters 5-7 in [Think Python](http://greenteapress.com/thinkpython2/html/index.html).\n",
    "- Python [Flow Control](flowcontrolpy.ipynb) Notebook.\n",
    "\n",
    "#### Optional Readings ##\n",
    "\n",
    "- Chapter 5 of [Python Essentials](http://proquest.safaribooksonline.com.proxy2.library.illinois.edu/book/programming/python/9781784390341/python-essentials/ch05_html#X2ludGVybmFsX0h0bWxWaWV3P3htbGlkPTk3ODE3ODQzOTAzNDElMkZjaDA1X2h0bWwmcXVlcnk9Y29uZGl0aW9uYWwlMjBzdGF0ZW1lbnRz), which deals with Logic, Comparisons and Conditions.\n",
    "- Chapter 2 of [Automate the Boring Stuff with Python](http://proquest.safaribooksonline.com.proxy2.library.illinois.edu/book/programming/python/9781457189906)\n",
    " \n",
    "### Assessment ###\n",
    "\n",
    "When you have completed and worked through the above readings, please take the [Week 3 Lesson 3 Assessment][la]\n",
    "\n",
    "[la]: https://learn.illinois.edu/mod/quiz/view.php?id=2169104"
   ]
  }
 ],
 "metadata": {
  "kernelspec": {
   "display_name": "Python 3",
   "language": "python",
   "name": "python3"
  },
  "language_info": {
   "codemirror_mode": {
    "name": "ipython",
    "version": 3
   },
   "file_extension": ".py",
   "mimetype": "text/x-python",
   "name": "python",
   "nbconvert_exporter": "python",
   "pygments_lexer": "ipython3",
   "version": "3.6.1"
  }
 },
 "nbformat": 4,
 "nbformat_minor": 2
}
