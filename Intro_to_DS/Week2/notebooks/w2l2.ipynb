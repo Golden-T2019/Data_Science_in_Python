{
 "cells": [
  {
   "cell_type": "markdown",
   "metadata": {},
   "source": [
    "# Week 2 Lesson 2#\n",
    "\n",
    "## Introduction to the Jupyter notebook ##\n",
    "\n",
    "In this lesson, you will learn how to work with an Jupyter (or IPython) Notebook from within our course JupyterHub server. You will first learn how to view notebooks online, before executing notebooks on the server. Next you will learn how to enter basic Python commands in the notebook and execute them. Finally, you will learn about IPython magic commands and how they can give you access to the underlying operating system and increased functionality.\n",
    "\n",
    "### Objectives ###\n",
    "\n",
    "By the end of this lesson, you will be able to:\n",
    "\n",
    "- Execute Python commands in a Jupyter notebook.\n",
    "- Understand basic IPython magic command syntax.\n",
    "\n",
    "### Time Estimate ###\n",
    "\n",
    "Approximately 2 hours.\n",
    "\n",
    "### Readings ####\n",
    "\n",
    "#### Video\n",
    "\n",
    "[Week 2 Lesson 2 Video](https://mediaspace.illinois.edu/media/W/1_n1fdrylr/76031081)\n",
    "\n",
    "#### Required Readings\n",
    "\n",
    "- [Introduction to the Jupyter Notebook](intro2nb.ipynb)\n",
    "- [Introduction to Markdown Notebook](intro2md.ipynb)\n",
    "- View other notebooks on [nbviewer](http://nbviewer.jupyter.org/) website.\n",
    "\n",
    "#### Optional Additional Readings\n",
    "\n",
    "- The Berkeley python Bootcamp [IPython Notebook](http://nbviewer.ipython.org/github/profjsb/python-bootcamp/blob/master/Lectures/04_IPythonNotebookIntroduction/IPython+-+beyond+plain+Python.ipynb).\n",
    "  - First, view this online at the provided link\n",
    "  - Second, download the notebook (via download icon in the upper right)\n",
    "  - Third, upload this notebook to your Docker ipython server and run the commands interactively.\n",
    "- Read about how to write [Markdown formatted](http://nbviewer.ipython.org/github/profjsb/python-bootcamp/blob/master/Lectures/04_IPythonNotebookIntroduction/Markdown%20Cells.ipynb) IPython cells.\n",
    "- Learn about [IPython extensions](https://github.com/ipython-contrib/IPython-notebook-extensions).\n",
    "- Learn more about the basics of iPython in Chapter 1 of [IPython Interactive Computing and Visualization Cookbook](http://proquest.safaribooksonline.com.proxy2.library.illinois.edu/book/programming/python/9781783284818)\n",
    "\n",
    "### Assessment ###\n",
    "\n",
    "When you have completed and worked through the above readings, please take the [Week 2 Lesson 2 Assessment][WA].\n",
    "\n",
    "[WA]: https://learn.illinois.edu/mod/quiz/view.php?id=2169092"
   ]
  }
 ],
 "metadata": {
  "kernelspec": {
   "display_name": "Python 3",
   "language": "python",
   "name": "python3"
  },
  "language_info": {
   "codemirror_mode": {
    "name": "ipython",
    "version": 3
   },
   "file_extension": ".py",
   "mimetype": "text/x-python",
   "name": "python",
   "nbconvert_exporter": "python",
   "pygments_lexer": "ipython3",
   "version": "3.6.1"
  }
 },
 "nbformat": 4,
 "nbformat_minor": 2
}
