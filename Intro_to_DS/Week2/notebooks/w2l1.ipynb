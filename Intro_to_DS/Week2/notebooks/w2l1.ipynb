{
 "cells": [
  {
   "cell_type": "markdown",
   "metadata": {},
   "source": [
    "# Week 2 Lesson 1 #\n",
    "\n",
    "## Basic Unix Concepts ##\n",
    "\n",
    "In this lesson, you will learn more details about how Unix-like operating systems operate.\n",
    "\n",
    "### Objectives###\n",
    "By the end of this lesson, you will:\n",
    "\n",
    "- Understand how to utilize various Unix commands.\n",
    "- Know the difference between the four different types of commands.\n",
    "- Be able to find a command's documentation.\n",
    "- Understand the input/output redirection process and commands for Unix.\n",
    "- Understand some of the inner-workings of the shell, such as expansion and quoting.\n",
    "- Get to know some of the more advanced keyboard tricks, such as command line editing, completion, and using history.\n",
    "\n",
    "### Time Estimate ###\n",
    "Approximately 2 hours.\n",
    "\n",
    "### Readings ###\n",
    "\n",
    "#### Video\n",
    "\n",
    "[Week 2 Lesson 1 Video](https://mediaspace.illinois.edu/media/w2l1/1_pde7mapc/76031081)\n",
    "\n",
    "#### Required Readings\n",
    "\n",
    "- Read chapters 5-8 from the free book [The Linux Command Line (PDF)](http://sourceforge.net/projects/linuxcommand/?source=dlp) and follow along by entering the commands as directed into a terminal window within your virtual machine.\n",
    "\n",
    "#### Optional Additional Readings\n",
    "\n",
    "- Chapter 6 of [Beginning Unix](http://proquest.safaribooksonline.com.proxy2.library.illinois.edu/book/operating-systems-and-server-administration/unix/9780764579943/6-unix-commands-in-depth/13_chap06_html#X2ludGVybmFsX0h0bWxWaWV3P3htbGlkPTk3ODA3NjQ1Nzk5NDMlMkYxM19jaGFwMDZfaHRtbCZxdWVyeT0=)\n",
    "\n",
    "\n",
    "### Assessment ###\n",
    "\n",
    "When you have completed and worked through the above readings, please take the [Week 2 Lesson 1 Assessment](https://learn.illinois.edu/mod/quiz/view.php?id=2169089)."
   ]
  }
 ],
 "metadata": {
  "kernelspec": {
   "display_name": "Python 3",
   "language": "python",
   "name": "python3"
  },
  "language_info": {
   "codemirror_mode": {
    "name": "ipython",
    "version": 3
   },
   "file_extension": ".py",
   "mimetype": "text/x-python",
   "name": "python",
   "nbconvert_exporter": "python",
   "pygments_lexer": "ipython3",
   "version": "3.6.1"
  }
 },
 "nbformat": 4,
 "nbformat_minor": 2
}
