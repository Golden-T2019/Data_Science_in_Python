{
 "cells": [
  {
   "cell_type": "markdown",
   "metadata": {},
   "source": [
    "# Week 2 Lesson 3 #\n",
    "\n",
    "## Introduction to Python ##\n",
    "\n",
    "In this lesson, you will learn about the basics of python terminology, and the difference between various kinds of errors you will encounter through coding in Python.  Next, you will explore the various data types found in Python and learn how to apply simple operations (such as addition, subtraction, etc.) to Python variables.\n",
    "\n",
    "\n",
    "### Objectives###\n",
    "By the end of this lesson, you will:\n",
    "\n",
    "- Know basic python terminology, such as input, output, debugging, etc.\n",
    "- Know the difference between the different types of errors.\n",
    "- Use the Python interpreter.\n",
    "- Describe the basic data types provided by the Python language.\n",
    "- Perform basic operations on Python variables.\n",
    "\n",
    "### Time Estimate ###\n",
    "Approximately 2 hours.\n",
    "\n",
    "### Readings ###\n",
    "\n",
    "#### Video\n",
    "\n",
    "[Week 2 Lesson 3 Video](https://mediaspace.illinois.edu/media/w2l3/1_jd6jvyp0/76031081)\n",
    "\n",
    "#### Required Readings\n",
    "\n",
    "- [Introduction to the Python Programming Language](intro2py.ipynb)\n",
    "- Read Chapters 1-2 in [Think Python](http://greenteapress.com/thinkpython2/html/index.html).\n",
    "- Try out Python commands and code snippets in a new Jupyter Notebook.\n",
    "\n",
    "#### Optional Additional Readings\n",
    "\n",
    "- Several free books, mostly written for Python 2:\n",
    "\t- [Open Tech School's Introduction to Programming with Python](http://opentechschool.github.io/python-beginners/en/index.html)\n",
    "\t- [Invent with Python](http://inventwithpython.com/)\n",
    "\t- [Learn Python The Hard Way, 3rd Edition](http://learnpythonthehardway.org/book/)\n",
    "\t- [A Byte of Python](http://www.ibiblio.org/g2swap/byteofpython/read/)\n",
    "\n",
    "\n",
    "### Assessment ###\n",
    "\n",
    "When you have completed and worked through the above readings, please take the [Week 2 Lesson 3 Assessment](https://learn.illinois.edu/mod/quiz/view.php?id=2169095)."
   ]
  }
 ],
 "metadata": {
  "kernelspec": {
   "display_name": "Python 3",
   "language": "python",
   "name": "python3"
  },
  "language_info": {
   "codemirror_mode": {
    "name": "ipython",
    "version": 3
   },
   "file_extension": ".py",
   "mimetype": "text/x-python",
   "name": "python",
   "nbconvert_exporter": "python",
   "pygments_lexer": "ipython3",
   "version": "3.6.1"
  }
 },
 "nbformat": 4,
 "nbformat_minor": 2
}
