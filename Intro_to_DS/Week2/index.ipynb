{
 "cells": [
  {
   "cell_type": "markdown",
   "metadata": {},
   "source": [
    "# Week 2 Overview #\n",
    "\n",
    "![Command line image](images/command-line.png)\n",
    "## Introduction to Basic Data Science ##\n",
    "\n",
    "In this week, you will first be delving further into Unix concepts, such\n",
    "as commands, input/output redirection, and the unix shell.  Secondly,\n",
    "you will be learning about Jupyter Notebooks and how to utilize them in\n",
    "this course.  Finally, you will be going through the basics of the\n",
    "Python language and learning about different types of Python errors,\n",
    "different data types within Python, as well as how to do simple\n",
    "manipulations of Python variables.\n",
    "\n",
    "### Objectives ###\n",
    "\n",
    "##### By the end of this lesson, you should be able to: ######\n",
    "\n",
    "- Understand how to utilize various Unix commands.\n",
    "- Execute Python commands in a Jupyter notebook.\n",
    "- Know basic Python terminology, such as input, output, debugging, etc.\n",
    "- Perform basic operations on Python variables.\n",
    "\n",
    "### Activities and Assignments ###\n",
    "\n",
    "|Activities and Assignments | Time Estimate | Deadline* | Points|\n",
    "|:------| -----|-------|----------:|\n",
    "|**[Week 2 Introduction Video][wv]** | 10 Minutes | Tuesday |N/A|\n",
    "|**[Week 2 Lesson 1: Basic Unix Concepts](notebooks/w2l1.ipynb)**| 3 Hours |Thursday| 20|\n",
    "|**[Week 2 Lesson 2: Introduction to the Jupyter notebook](notebooks/w2l2.ipynb)**| 2 Hours | Thursday | 20 |\n",
    "|**[Week 2 Lesson 3: Introduction to Python](notebooks/w2l3.ipynb)**| 2 Hours | Thursday| 20 |\n",
    "|**[Week 2 Quiz][wq]**| 45 Minutes | Friday | 70|\n",
    "|**Week 2 Assignment Submission to Instructor and for [Peer Grading][pg]**| 3 Hours | *The following* Monday | 125 from the Instructor<br>10 from Peer grading | \n",
    "|**Week 2 Completion of Peer Review**| 1 Hour | *The following* Saturday | 15 | \n",
    "\n",
    "*Please note that unless otherwise noted, the due time is 6pm Central time!*\n",
    "\n",
    "----------\n",
    "[wq]: https://learn.illinois.edu/mod/quiz/view.php?id=2169041\n",
    "[wv]: https://mediaspace.illinois.edu/media/W2ov/1_vetkzrib/76031081\n",
    "[pg]: https://info490rb.studentspace.cs.illinois.edu/user/info490/notebooks/info490-fa17-readonly/help/peer_grading_instruct.ipynb\n",
    "\n",
    "Photo Credit: Command Line Screen Shot by Jim Hoskins. 27 Sept. 2012. http://blog.teamtreehouse.com/introduction-to-the-mac-os-x-command-line. 31 July 2015"
   ]
  }
 ],
 "metadata": {
  "kernelspec": {
   "display_name": "Python 3",
   "language": "python",
   "name": "python3"
  },
  "language_info": {
   "codemirror_mode": {
    "name": "ipython",
    "version": 3
   },
   "file_extension": ".py",
   "mimetype": "text/x-python",
   "name": "python",
   "nbconvert_exporter": "python",
   "pygments_lexer": "ipython3",
   "version": "3.6.1"
  }
 },
 "nbformat": 4,
 "nbformat_minor": 2
}
