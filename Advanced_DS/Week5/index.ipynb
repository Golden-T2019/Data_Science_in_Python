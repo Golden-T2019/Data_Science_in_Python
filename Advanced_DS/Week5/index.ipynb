{
 "cells": [
  {
   "cell_type": "markdown",
   "metadata": {},
   "source": [
    "# Week 5: Fundamental Probabilistic Algorithms\n",
    "\n",
    "This week starts by discussing practical machine learning workflows that are deployed in production environments, which emphasizes the big picture view of machine learning. Next this week introduces two additional fundamental algorithms: naive Bayes and Gaussian Processes.  These algorithms both have foundations in probability theory but operate under very different assumptions. Naive Bayes is generally used for classification tasks, while Gaussian Processes are generally used for regression tasks. This week also discusses practical issues in constructing machine learning workflows.\n",
    "\n",
    "\n",
    "## Learning Objectives\n",
    "\n",
    "#### By the end of this week, you should be able to:\n",
    "\n",
    "- describe the steps required to build a production machine learning workflow,\n",
    "- describe the basic concepts behind the naive Bayes and Gaussian process algorithms, and\n",
    "- apply the naive Bayes and Gaussian process algorithms to machine learning challenges by writing Python analysis scripts that use the scikit learn library.\n",
    "\n",
    "### Activities and Assignments\n",
    "\n",
    "| Activities and Assignments               | Time Estimate | Deadline* | Points |\n",
    "| :--------------------------------------- | ------------- | --------- | -----: |\n",
    "| **[Week 5 Overview Video][wv]**      | 10 Minutes    | Tuesday |    N/A |\n",
    "| **[Week 5 Lesson 1: Machine Learning Workflows][nb1]** | 1 Hour   | Thursday  |     N/A |\n",
    "| **[Week 5 Lesson 2: Introduction to Naive Bayes][nb2]** | 2 Hours | Thursday  |     N/A |\n",
    "| **[Week 5 Lesson 3: Introduction to Gaussian Processes][nb3]** | 2 Hours | Thursday  |     N/A |\n",
    "| **[Week 5 Quiz][wq]**                    | 20 Minutes    | Friday    |    60  |\n",
    "| **[Week 5 Assignment][ma]**         | 2 Hours   | Monday    |    120  |\n",
    "\n",
    "*Please note that unless otherwise noted, the due time is 6pm Central time!\n",
    "\n",
    "----------\n",
    "\n",
    "[nb1]: notebooks/w5l1.ipynb\n",
    "[nb2]: notebooks/w5l2.ipynb\n",
    "[nb3]: notebooks/w5l3.ipynb\n",
    "\n",
    "[ma]: https://info490rb.studentspace.cs.illinois.edu/user/info490/notebooks/info490-sp18-assignments/week05\n",
    "\n",
    "[wv]: https://mediaspace.illinois.edu/media/t/1_dd6hdjcy\n",
    "[wq]: https://learn.illinois.edu/mod/quiz/view.php?id=2483970"
   ]
  },
  {
   "cell_type": "markdown",
   "metadata": {
    "deletable": false,
    "editable": false
   },
   "source": [
    "**&copy; 2017: Robert J. Brunner at the University of Illinois.**\n",
    "\n",
    "This notebook is released under the [Creative Commons license CC BY-NC-SA 4.0][ll]. Any reproduction, adaptation, distribution, dissemination or making available of this notebook for commercial use is not allowed unless authorized in writing by the copyright holder.\n",
    "\n",
    "[ll]: https://creativecommons.org/licenses/by-nc-sa/4.0/legalcode "
   ]
  }
 ],
 "metadata": {
  "kernelspec": {
   "display_name": "Python 3",
   "language": "python",
   "name": "python3"
  },
  "language_info": {
   "codemirror_mode": {
    "name": "ipython",
    "version": 3
   },
   "file_extension": ".py",
   "mimetype": "text/x-python",
   "name": "python",
   "nbconvert_exporter": "python",
   "pygments_lexer": "ipython3",
   "version": "3.6.1"
  }
 },
 "nbformat": 4,
 "nbformat_minor": 2
}
