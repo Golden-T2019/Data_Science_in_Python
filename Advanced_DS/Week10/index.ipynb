{
 "cells": [
  {
   "cell_type": "markdown",
   "metadata": {},
   "source": [
    "# Week 10: Natural Language Processing\n",
    "\n",
    "In this module, we will delve more deeply into natural language processing (NLP), which enables more complex analyses of text data. First, we will begin to perform NLP by moving beyond simple word tokenization to look at other methods for parsing text documents. This will lead into the concepts of chunking and tagging, which will enable us to label the part of speech for the words in a document. In addition, we can identify named entities, such as a person, location, or organization within a text document. Next, we introduce the concept of topic modeling, which is an unsupervised learning approach to quantifying the topics, or concepts, that make up different documents within a corpus. Finally, we will learn about  semantic analysis and how the word vector space model that is used by the _word2vec_ algorithm enables meaning to be extracted from text documents.\n",
    "\n",
    "## Learning Objectives\n",
    "\n",
    "#### By the end of this module, you should be able to:\n",
    "\n",
    "- explain the basic concepts of part of speech tagging and named entity recognition,\n",
    "- articulate the basic concepts of topic modeling,\n",
    "- describe the basic concepts of semantic analysis, and\n",
    "- to apply these concepts within a Python application.\n",
    "\n",
    "### Activities and Assignments\n",
    "\n",
    "| Activities and Assignments               | Time Estimate | Deadline* | Points |\n",
    "| :--------------------------------------- | ------------- | --------- | -----: |\n",
    "| **[Week 10 Overview Video][wv]**      | 10 Minutes    | Tuesday |    N/A |\n",
    "| **[Week 10 Lesson 1: Introduction to NLP: Basic Concepts][nb2]** | 2 Hours | Thursday  |     N/A |\n",
    "| **[Week 10 Lesson 2: Introduction to NLP: Topic Modeling][nb3]** | 2 Hours | Thursday  |     N/A |\n",
    "| **[Week 10 Lesson 3: Introduction to NLP: Semantic Analysis][nb4]** | 2 Hours   | Thursday  |   N/A |\n",
    "| **[Week 10 Quiz][wq]**               | 20 Minutes    | Friday    |    60  |\n",
    "| **[Week 10 Assignment][ma]**         | 2 hours    | Monday    |    120  |\n",
    "\n",
    "*Please note that unless otherwise noted, the due time is 6pm Central time!\n",
    "\n",
    "----------\n",
    "\n",
    "[nb2]: notebooks/w10l1.ipynb\n",
    "[nb3]: notebooks/w10l2.ipynb\n",
    "[nb4]: notebooks/w10l3.ipynb\n",
    "\n",
    "[ma]: https://info490rb.studentspace.cs.illinois.edu/user/info490/notebooks/info490-sp18-assignments/week10\n",
    "\n",
    "[wv]: https://mediaspace.illinois.edu/media/t/1_p5k23yof/80455691\n",
    "[wq]: https://learn.illinois.edu/mod/quiz/view.php?id=2484045"
   ]
  }
 ],
 "metadata": {
  "kernelspec": {
   "display_name": "Python 3",
   "language": "python",
   "name": "python3"
  },
  "language_info": {
   "codemirror_mode": {
    "name": "ipython",
    "version": 3
   },
   "file_extension": ".py",
   "mimetype": "text/x-python",
   "name": "python",
   "nbconvert_exporter": "python",
   "pygments_lexer": "ipython3",
   "version": "3.6.1"
  }
 },
 "nbformat": 4,
 "nbformat_minor": 2
}
