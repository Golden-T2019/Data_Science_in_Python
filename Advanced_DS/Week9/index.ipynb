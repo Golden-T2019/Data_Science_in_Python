{
 "cells": [
  {
   "cell_type": "markdown",
   "metadata": {},
   "source": [
    "# Week 9: Introduction to Text Analytics\n",
    "\n",
    "In this module, you will start applying your new machine learning skills to real world problems. First, you will review the process by which textual data is converted into numerical data that can be processed by a computer. Along with this are a number of new concepts that focus on manipulating these data to generate improved machine learning predictions. Finally, we will apply machine learning algorithms including classification, dimensional reduction, and clustering to text data.\n",
    "\n",
    "\n",
    "## Learning Objectives\n",
    "\n",
    "#### By the end of this module, you should be able to:\n",
    "\n",
    "- articulate the basic concepts of tokenizing a text document including word counts, bag of words, stop words, TF-IDF, stemming, and n-grams,\n",
    "- explain the basic principles of text classification, including for sentiment analysis, and\n",
    "- apply advanced text mining approaches such as dimensional reduction, clustering, and parameter grid search by using Python.\n",
    "\n",
    "### Activities and Assignments\n",
    "\n",
    "| Activities and Assignments               | Time Estimate | Deadline* | Points |\n",
    "| :--------------------------------------- | ------------- | --------- | -----: |\n",
    "| **[Week 9 Overview Video][wv]**      | 10 Minutes    | Tuesday  |    N/A |\n",
    "| **[Week 9 Lesson 1: Introduction to Text Analytics][nb2]** | 2 Hours | Thursday  |     N/A |\n",
    "| **[Week 9 Lesson 2: Introduction to Text Classification][nb3]** | 2 Hours | Thursday  |     N/A |\n",
    "| **[Week 9 Lesson 3: Introduction to Text Mining][nb4]** | 2 Hours   | Thursday  |     N/A |\n",
    "| **[Week 9 Quiz][wq]**                    | 20 Minutes    | Friday    |     60|\n",
    "| **[Week 9 Assignment][ma]**                    | 2 hours   | (following) Monday    |  120 |\n",
    "\n",
    "*Please note that unless otherwise noted, the due time is 6pm Central time!\n",
    "\n",
    "----------\n",
    "\n",
    "[nb2]: notebooks/w9l1.ipynb\n",
    "[nb3]: notebooks/w9l2.ipynb\n",
    "[nb4]: notebooks/w9l3.ipynb\n",
    "\n",
    "[ma]: https://info490rb.studentspace.cs.illinois.edu/user/info490/notebooks/info490-sp18-assignments/week09\n",
    "\n",
    "[wv]: https://mediaspace.illinois.edu/media/t/1_4knriclw/80455691\n",
    "[wq]: https://learn.illinois.edu/mod/quiz/view.php?id=2484030"
   ]
  }
 ],
 "metadata": {
  "kernelspec": {
   "display_name": "Python 3",
   "language": "python",
   "name": "python3"
  },
  "language_info": {
   "codemirror_mode": {
    "name": "ipython",
    "version": 3
   },
   "file_extension": ".py",
   "mimetype": "text/x-python",
   "name": "python",
   "nbconvert_exporter": "python",
   "pygments_lexer": "ipython3",
   "version": "3.6.1"
  }
 },
 "nbformat": 4,
 "nbformat_minor": 2
}
