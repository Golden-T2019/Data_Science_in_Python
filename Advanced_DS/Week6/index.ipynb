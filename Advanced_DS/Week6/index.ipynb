{
 "cells": [
  {
   "cell_type": "markdown",
   "metadata": {},
   "source": [
    "# Week 6: Feature Engineering\n",
    "\n",
    "This week introduces an important concept in machine learning, the selection of the actual features that will be used by a machine learning algorithm. Along with data cleaning, this step in the data analytics process is extremely important, yet it is often overlooked as a method for improving the overall performance of an analysis. This week beings with a discussion of ethics in machine learning, in large part because the selection of features can have (sometimes) non-obvious impacts on the final performance of an algorithm. This can be important when machine learning is applied to data in a regulated industry or when the improper application of an algorithm might lead to discrimination. The rest of this week introduces different techniques for either selecting the best features in a data set, or the construction of new features from the existing set of features.\n",
    "\n",
    "## Learning Objectives\n",
    "\n",
    "#### By the end of this week, you should be able to:\n",
    "\n",
    "- articulate how machine learning might make _ethical_ mistakes,\n",
    "- indicate how machine learning models can be constructed to avoid making ethical mistakes,\n",
    "- understand the importance of including _ethics_ in artificial intelligence that will increasingly affect our everyday lives,\n",
    "- perform feature selection in data analytics scripts written in Python that use the scikit learn module,\n",
    "- perform dimensional reduction by using the scikit learn module, and\n",
    "- apply manifold learning to reduce the number of features in a large data set.\n",
    "\n",
    "### Activities and Assignments\n",
    "\n",
    "| Activities and Assignments               | Time Estimate | Deadline* | Points |\n",
    "| :--------------------------------------- | ------------- | --------- | -----: |\n",
    "| **[Week 6 Overview Video][wv]**        | 10 Minutes    | Tuesday   |    N/A |\n",
    "| **[Week 6 Lesson 1: Introduction to Feature Selection][nb1]** | 2 Hours       | Thursday  |    N/A |\n",
    "| **[Week 6 Lesson 2: Introduction to Dimensional Reduction][nb2]** | 2 Hours       | Thursday  |    N/A |\n",
    "| **[Week 6 Lesson 3: Introduction to Manifold Learning][nb3]** | 2 Hours       | Thursday  |    N/A |\n",
    "| **[Week 6 Quiz][wq]**                  | 20 Minutes    | Friday    |     60 |\n",
    "| **[Week 6 Assignment][ma]**            | 2 hours        | Monday   |    120 |\n",
    "\n",
    "\n",
    "*Please note that unless otherwise noted, the due time is 6pm Central time!\n",
    "\n",
    "----------\n",
    "\n",
    "[nb1]: notebooks/w6l1.ipynb\n",
    "[nb2]: notebooks/w6l2.ipynb\n",
    "[nb3]: notebooks/w6l3.ipynb\n",
    "\n",
    "[ma]: https://info490rb.studentspace.cs.illinois.edu/user/info490/notebooks/info490-sp18-assignments/week06\n",
    "\n",
    "[wv]: https://mediaspace.illinois.edu/media/t/1_9adle1ys\n",
    "[wq]: https://learn.illinois.edu/mod/quiz/view.php?id=2483985"
   ]
  },
  {
   "cell_type": "markdown",
   "metadata": {
    "deletable": false,
    "editable": false
   },
   "source": [
    "**&copy; 2017: Robert J. Brunner at the University of Illinois.**\n",
    "\n",
    "This notebook is released under the [Creative Commons license CC BY-NC-SA 4.0][ll]. Any reproduction, adaptation, distribution, dissemination or making available of this notebook for commercial use is not allowed unless authorized in writing by the copyright holder.\n",
    "\n",
    "[ll]: https://creativecommons.org/licenses/by-nc-sa/4.0/legalcode "
   ]
  }
 ],
 "metadata": {
  "kernelspec": {
   "display_name": "Python 3",
   "language": "python",
   "name": "python3"
  },
  "language_info": {
   "codemirror_mode": {
    "name": "ipython",
    "version": 3
   },
   "file_extension": ".py",
   "mimetype": "text/x-python",
   "name": "python",
   "nbconvert_exporter": "python",
   "pygments_lexer": "ipython3",
   "version": "3.6.1"
  }
 },
 "nbformat": 4,
 "nbformat_minor": 2
}
