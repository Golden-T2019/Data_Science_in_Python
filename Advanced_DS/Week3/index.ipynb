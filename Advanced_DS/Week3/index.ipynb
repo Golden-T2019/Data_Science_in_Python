{
 "cells": [
  {
   "cell_type": "markdown",
   "metadata": {},
   "source": [
    "# Week 3: Practical Concepts in Machine Learning\n",
    "\n",
    "This week introduces several important and practical concepts in machine learning. First, you will learn about the challenges inherent in applying data analytics (and machine learning in particular) to real world data sets. This also introduces several methodologies that you may encounter in the future that dictate how to approach, tackle, and deploy data analytic solutions. Next, you will learn about a powerful technique to combine the predictions from many weak learners to make a better prediction via a process known as ensemble learning. Specifically, this week will introduce two of the most popular ensemble learning techniques: bagging and boosting and demonstrate how to employ them in a Python data analytics script. Finally, the concept of a machine learning pipeline is introduced, which encapsulates the process of creating, deploying, and reusing machine learning models.\n",
    "\n",
    "## Learning Objectives\n",
    "\n",
    "#### By the end of this week, you should be able to:\n",
    "\n",
    "- articulate the differences between performing data analytics in this course and the real-world,\n",
    "- understand the basic concepts behind ensemble learning, bagging, and boosting,\n",
    "- develop a data analytics script that employs ensemble learning in a Python script by using the scikit learn module, and\n",
    "- construct a machine learning pipeline by using the scikit learn module.\n",
    "\n",
    "### Activities and Assignments\n",
    "\n",
    "| Activities and Assignments               | Time Estimate | Deadline* | Points |\n",
    "| :--------------------------------------- | ------------- | --------- | -----: |\n",
    "| **[Week 3 Overview Video][wv]**      | 10 Minutes    | Tuesday |    N/A |\n",
    "| **[Week 3 Lesson 1: Introduction to Bagging][nb1]** | 2 Hours | Thursday  |     N/A |\n",
    "| **[Week 3 Lesson 2: Introduction to Boosting][nb2]** | 2 Hours | Thursday  |     N/A |\n",
    "| **[Week 3 Lesson 3: Introduction to Pipelines][nb3]** | 2 Hours   | Thursday  |   N/A |\n",
    "| **[Week 3 Quiz][wq]**                    | 20 Minutes    | Friday    |    60  |\n",
    "| **[Week 3 Assignment][ma]**         | 2 Hours   | Monday    |    120  |\n",
    "\n",
    "*Please note that unless otherwise noted, the due time is 6pm Central time!\n",
    "\n",
    "----------\n",
    "\n",
    "[nb1]: notebooks/w3l1.ipynb\n",
    "[nb2]: notebooks/w3l2.ipynb\n",
    "[nb3]: notebooks/w3l3.ipynb\n",
    "\n",
    "[ma]: https://info490rb.studentspace.cs.illinois.edu/user/info490/notebooks/info490-sp18-assignments/week03\n",
    "\n",
    "[wv]: https://mediaspace.illinois.edu/media/t/1_ramy1d8m\n",
    "[wq]: https://learn.illinois.edu/mod/quiz/view.php?id=2483940"
   ]
  },
  {
   "cell_type": "markdown",
   "metadata": {
    "deletable": false,
    "editable": false
   },
   "source": [
    "**&copy; 2017: Robert J. Brunner at the University of Illinois.**\n",
    "\n",
    "This notebook is released under the [Creative Commons license CC BY-NC-SA 4.0][ll]. Any reproduction, adaptation, distribution, dissemination or making available of this notebook for commercial use is not allowed unless authorized in writing by the copyright holder.\n",
    "\n",
    "[ll]: https://creativecommons.org/licenses/by-nc-sa/4.0/legalcode "
   ]
  }
 ],
 "metadata": {
  "kernelspec": {
   "display_name": "Python 3",
   "language": "python",
   "name": "python3"
  },
  "language_info": {
   "codemirror_mode": {
    "name": "ipython",
    "version": 3
   },
   "file_extension": ".py",
   "mimetype": "text/x-python",
   "name": "python",
   "nbconvert_exporter": "python",
   "pygments_lexer": "ipython3",
   "version": "3.6.1"
  }
 },
 "nbformat": 4,
 "nbformat_minor": 2
}
