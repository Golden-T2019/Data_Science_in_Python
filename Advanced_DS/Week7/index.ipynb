{
 "cells": [
  {
   "cell_type": "markdown",
   "metadata": {},
   "source": [
    "# Week 7: Introduction to Clustering\n",
    "\n",
    "This week introduces clustering, where data points are assigned to larger groups of points based on some specific property, such as spatial distance or the local density of points. While humans often find clusters visually with ease in a given data sets, computationally the problem is more challenging. This week starts by exploring the basic ideas behind this unsupervised learning technique, as well as different areas that clustering can be used by businesses. Next, one of the most popular clustering techniques, K-means, is introduced. Next the density-based DB-SCAN technique is introduced. This week concludes by introducing the mixture models technique for probabilistically assigning points to clusters.\n",
    "\n",
    "\n",
    "## Learning Objectives\n",
    "\n",
    "#### By the end of this week, you should be able to:\n",
    "\n",
    "- articulate that basic concepts behind clustering and provide examples where it is commonly used by businesses,\n",
    "- understand the basic concepts of the K-means, DB-SCAN, and mixture model clustering techniques, and\n",
    "- employ these algorithms within a Python data analytics script by using the scikit learn module.\n",
    "\n",
    "### Activities and Assignments\n",
    "\n",
    "| Activities and Assignments               | Time Estimate | Deadline* | Points |\n",
    "| :--------------------------------------- | ------------- | --------- | -----: |\n",
    "| **[Week 7 Overview Video][wv]**      | 10 Minutes    | Tuesday |    N/A |\n",
    "| **[Week 7 Lesson 1: Introduction to Spatial Clustering][nb1]** | 2 Hours | Thursday  |     N/A |\n",
    "| **[Week 7 Lesson 2: Introduction to Density-Based Clustering][nb2]** | 2 Hours | Thursday  |     N/A |\n",
    "| **[Week 7 Lesson 3: Introduction to Mixture Models][nb3]** | 2 Hours | Thursday  |     N/A |\n",
    "| **[Week 7 Quiz][wq]**                    | 20 Minutes    | Friday    |    60  |\n",
    "| **[Week 7 Assignment][ma]**         | 2 Hours   | Monday    |    120  |\n",
    "\n",
    "*Please note that unless otherwise noted, the due time is 6pm Central time!\n",
    "\n",
    "----------\n",
    "\n",
    "[nb1]: notebooks/w7l1.ipynb\n",
    "[nb2]: notebooks/w7l2.ipynb\n",
    "[nb3]: notebooks/w7l3.ipynb\n",
    "\n",
    "[ma]: https://info490rb.studentspace.cs.illinois.edu/user/info490/notebooks/info490-sp18-assignments/week07\n",
    "\n",
    "[wv]: https://mediaspace.illinois.edu/media/t/1_j5kk4kgs\n",
    "[wq]: https://learn.illinois.edu/mod/quiz/view.php?id=2484000"
   ]
  },
  {
   "cell_type": "markdown",
   "metadata": {
    "deletable": false,
    "editable": false
   },
   "source": [
    "**&copy; 2017: Robert J. Brunner at the University of Illinois.**\n",
    "\n",
    "This notebook is released under the [Creative Commons license CC BY-NC-SA 4.0][ll]. Any reproduction, adaptation, distribution, dissemination or making available of this notebook for commercial use is not allowed unless authorized in writing by the copyright holder.\n",
    "\n",
    "[ll]: https://creativecommons.org/licenses/by-nc-sa/4.0/legalcode "
   ]
  }
 ],
 "metadata": {
  "kernelspec": {
   "display_name": "Python 3",
   "language": "python",
   "name": "python3"
  },
  "language_info": {
   "codemirror_mode": {
    "name": "ipython",
    "version": 3
   },
   "file_extension": ".py",
   "mimetype": "text/x-python",
   "name": "python",
   "nbconvert_exporter": "python",
   "pygments_lexer": "ipython3",
   "version": "3.6.1"
  }
 },
 "nbformat": 4,
 "nbformat_minor": 2
}
