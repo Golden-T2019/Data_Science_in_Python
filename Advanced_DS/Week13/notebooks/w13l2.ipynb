{
 "cells": [
  {
   "cell_type": "markdown",
   "metadata": {},
   "source": [
    "# Week 13: Lesson 2\n",
    "\n",
    "-----\n",
    "\n",
    "## Introduction to Markov Chains & MCMC\n",
    "\n",
    "In this lesson, we introduce Markov chains, a simple technique to model systems that change state with well-define probabilities. Specifically, a Markov chain is memoryless, which means the transition is independent of previous steps. A Markov chain model can be used to predict the state of a system under uncertainty, and forms the basis for more powerful modeling techniques, such as hidden Markov models, that extend this approach to individual components within the overall system. Next, we introduce Markov chain Monte Carlo (MCMC), a technique to generate samples from (potentially) complex distributions. Monte Carlo techniques have been used for many years to numerically evaluate a function by using random sampling (e.g., numerical integration). Markov chain Monte Carlo extends these ideas to use a Markov chain to sample from a distribution that we wish to numerically evaluate, and we use Monte Carlo to perform the numerical evaluation. \n",
    "\n",
    "### Objectives\n",
    "\n",
    "By the end of this lesson, you will be able to \n",
    "\n",
    "- articulate the fundamental concepts behind a Markov chain,\n",
    "- explain how a Markov chain can be used to model a simple system, and\n",
    "- construct and evaluate a simple Markov chain model.\n",
    "- explain how a Monte Carlo approach can be used to performa  numerically integration,\n",
    "- articulate the basic concepts behind Markov chain Monte Carlo, and\n",
    "- perform a simple MCMC estimation by using the PyMC3 library.\n",
    "\n",
    "### Time Estimate\n",
    "\n",
    "Approximately 2 hours.\n",
    "\n",
    "### Activities\n",
    "\n",
    "Video: Watch the [Introduction to Markov Chains][lv] video, which will discuss Markov chains and how they can be used to model a simple system that changes over time.\n",
    "\n",
    "Video: Watch the [Introduction to Markov Chain Monte Carlo][lv2] video, which will introduce MCMC and demonstrate how it can be used to compute model quantities from a distribution.\n",
    "\n",
    "Reading: Article presenting a simplified introduction to [Markov chains][mc] from AnalyticsVidhya  \n",
    "Reading: A visual introduction to [Markov chains][vmc]  from Setosa\n",
    "\n",
    "Reading: An introduction to [MCMC][jcmcmc] from John Cook  \n",
    "Reading: An overview of [MCMC sampling][twmcmc] from Thomas Wiecki\n",
    "\n",
    "Notebook: Read and complete the practice exercises in the [Introduction to Markov Chains][intro2mc] notebook.  \n",
    "\n",
    "Notebook: Read and complete the practice exercises in the [Introduction to Markov Chain Monte Carlo][intro2mcmc] notebook.\n",
    "\n",
    "------\n",
    "\n",
    "[mc]: https://www.analyticsvidhya.com/blog/2014/07/markov-chain-simplified/\n",
    "[vmc]: http://setosa.io/ev/markov-chains/\n",
    "\n",
    "[lv]: https://mediaspace.illinois.edu/media/t/1_5uvyfmwh/80455691\n",
    "\n",
    "[intro2mc]: intro2mc.ipynb\n",
    "\n",
    "[jcmcmc]: https://www.johndcook.com/blog/2016/01/23/introduction-to-mcmc/\n",
    "\n",
    "[twmcmc]: http://twiecki.github.io/blog/2015/11/10/mcmc-sampling/\n",
    "\n",
    "\n",
    "[lv2]: https://mediaspace.illinois.edu/media/t/1_ztsbx709/80455691\n",
    "\n",
    "[intro2mcmc]: intro2mcmc.ipynb"
   ]
  }
 ],
 "metadata": {
  "kernelspec": {
   "display_name": "Python 3",
   "language": "python",
   "name": "python3"
  },
  "language_info": {
   "codemirror_mode": {
    "name": "ipython",
    "version": 3
   },
   "file_extension": ".py",
   "mimetype": "text/x-python",
   "name": "python",
   "nbconvert_exporter": "python",
   "pygments_lexer": "ipython3",
   "version": "3.6.1"
  }
 },
 "nbformat": 4,
 "nbformat_minor": 2
}
