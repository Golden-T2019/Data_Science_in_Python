{
 "cells": [
  {
   "cell_type": "markdown",
   "metadata": {},
   "source": [
    "# Week 13: Introduction to Probabilistic Analysis\n",
    "\n",
    "This module introduces basic concepts in probabilistic analysis. First, we learn how quantifying uncertainty can improve the decision making process, which can lead to strategic advantages. Second, we introduce Bayesian statistics, which provides a natural framework to include uncertainty when statistically modeling a system. Third, we introduce Markov chains, which can be used to evaluate a system that transitions between states in a memoryless manner. Next, we introduce Markov chain Monte Carlo, which is a technique for numerically evaluating functions, such as integrals of probability distributions. Finally, we will introduce probabilistic programming, which employs MCMC to determine model parameters when performing Bayesian Model fitting.\n",
    "\n",
    "## Learning Objectives\n",
    "\n",
    "#### By the end of this module, you should be able to:\n",
    "\n",
    "- explain the importance of including uncertainty in the decision making process,\n",
    "- articulate the basic tenets of Bayesian statistics,\n",
    "- construct a Bayesian model for a simple system, \n",
    "- create a Markov chain to model a system,\n",
    "- apply Markov chain Monte Carlo to compute model parameters under uncertainty.\n",
    "- articulate the basic concepts of probabilistic programming,\n",
    "\n",
    "### Activities and Assignments\n",
    "\n",
    "| Activities and Assignments               | Time Estimate | Deadline* | Points |\n",
    "| :--------------------------------------- | ------------- | --------- | -----: |\n",
    "| **[Week 13 Overview Video][wv]**      | 10 Minutes    | Tuesday  |    N/A |\n",
    "| **[Week 13 Lesson 1: Introduction to Bayesian Statistics][nb2]** | 1 Hour | Thursday  |     N/A |\n",
    "| **[Week 13 Lesson 2: Introduction to Markov Chains & MCMC][nb3]** | 2 Hours | Thursday  |     N/A |\n",
    "| **[Week 13 Lesson 3: Introduction to Probabilistic Programming][nb4]** | 2 Hours   | Thursday  |     N/A |\n",
    "| **[Week 13 Quiz][wq]**                    | 20 Minutes    | Friday    |     60|\n",
    "| **[Week 13 Assignment][ma]**                    | 2 hours   | (following) Monday    |  120 |\n",
    "\n",
    "*Please note that unless otherwise noted, the due time is 6pm Central time!\n",
    "\n",
    "----------\n",
    "\n",
    "[nb2]: notebooks/w13l1.ipynb\n",
    "[nb3]: notebooks/w13l2.ipynb\n",
    "[nb4]: notebooks/w13l3.ipynb\n",
    "\n",
    "[ma]: https://info490rb.studentspace.cs.illinois.edu/user/info490/notebooks/info490-sp18-assignments/week13\n",
    "\n",
    "[wv]: https://mediaspace.illinois.edu/media/t/1_9ygtydjp/80455691\n",
    "[wq]: https://learn.illinois.edu/mod/quiz/view.php?id=2484090"
   ]
  }
 ],
 "metadata": {
  "kernelspec": {
   "display_name": "Python 3",
   "language": "python",
   "name": "python3"
  },
  "language_info": {
   "codemirror_mode": {
    "name": "ipython",
    "version": 3
   },
   "file_extension": ".py",
   "mimetype": "text/x-python",
   "name": "python",
   "nbconvert_exporter": "python",
   "pygments_lexer": "ipython3",
   "version": "3.6.1"
  }
 },
 "nbformat": 4,
 "nbformat_minor": 2
}
