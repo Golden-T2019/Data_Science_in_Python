{
 "cells": [
  {
   "cell_type": "markdown",
   "metadata": {},
   "source": [
    "# Week 15: Advanced Machine Learning\n",
    "\n",
    "This week we introduce advanced concepts in machine learning. First, we introduce one of the most interesting machine learning algorithms, a neural network, which employs concepts form biology to enable a machine to make predictions, Finally, we will introduce deep learning. Deep learning has become an incredibly popular form of machine learning that generally leveraged some type of neural network to learn from data in order to make predictions. While neural networks have been around for some time, deep learning is fairly new, and has found applications in many areas, especially image processing and natural language processing.\n",
    "\n",
    "## Learning Objectives\n",
    "\n",
    "#### By the end of this module, you should be able to:\n",
    "\n",
    "- explain the basic concepts of a neural network,\n",
    "- articulate how deep learning is similar and different than a neural network, and\n",
    "- apply these algorithms by using Python.\n",
    "\n",
    "### Activities and Assignments\n",
    "\n",
    "| Activities and Assignments               | Time Estimate | Deadline* | Points |\n",
    "| :--------------------------------------- | ------------- | --------- | -----: |\n",
    "| **[Week 15 Overview Video][wv]**      | 10 Minutes    | Tuesday |    N/A |\n",
    "| **[Week 15 Lesson 1: Introduction to Neural Networks][nb3]** | 2 Hours | Thursday  |     N/A |\n",
    "| **[Week 15 Lesson 2: Introduction to Deep Learning][nb4]** | 2 Hours   | Thursday  |   N/A |\n",
    "\n",
    "\n",
    "*Please note that unless otherwise noted, the due time is 6pm Central time!\n",
    "\n",
    "----------\n",
    "\n",
    "[nb3]: notebooks/w15l1.ipynb\n",
    "[nb4]: notebooks/w15l2.ipynb\n",
    "\n",
    "[ma]: https://info490rb.studentspace.cs.illinois.edu/user/info490/notebooks/info490-sp18-assignments/week15\n",
    "\n",
    "[wv]: https://mediaspace.illinois.edu/media/t/1_avij89s6/80455691\n",
    "[wq]: https://learn.illinois.edu/mod/quiz/view.php?id=2677011"
   ]
  }
 ],
 "metadata": {
  "kernelspec": {
   "display_name": "Python 3",
   "language": "python",
   "name": "python3"
  },
  "language_info": {
   "codemirror_mode": {
    "name": "ipython",
    "version": 3
   },
   "file_extension": ".py",
   "mimetype": "text/x-python",
   "name": "python",
   "nbconvert_exporter": "python",
   "pygments_lexer": "ipython3",
   "version": "3.6.1"
  }
 },
 "nbformat": 4,
 "nbformat_minor": 2
}
