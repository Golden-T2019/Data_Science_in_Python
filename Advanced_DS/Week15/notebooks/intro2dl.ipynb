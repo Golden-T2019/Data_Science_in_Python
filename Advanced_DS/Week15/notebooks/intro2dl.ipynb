{
 "cells": [
  {
   "cell_type": "markdown",
   "metadata": {},
   "source": [
    "# Introduction to Deep Learning\n",
    "\n",
    "-----"
   ]
  },
  {
   "cell_type": "markdown",
   "metadata": {},
   "source": [
    "In this notebook, we introduce deep learning by analyzing a familiar data set, the handwritten digit data we have classified earlier in this course by using a variety of methods. Deep learning is a vast and growing subject, thus in one lesson (and corresponding notebook) we will not be able to cover the full range of topics or techniques. Instead, in this notebook, we focus on actually building and applying deep learning models to a data set. We will use the [Keras][kdl] deep learning framework in this Notebook since it is simple to apply and follows a scikit learn interface (create estimator, fit, and predict). \n",
    "\n",
    "To get started, we will first read in the digit data, before splitting the data into a training and testing data sets. Finally, we will flatten the data to simplify the application of a simple deep learning model.  \n",
    "\n",
    "-----\n",
    "[kdl]: http://keras.io"
   ]
  },
  {
   "cell_type": "markdown",
   "metadata": {},
   "source": [
    "## Table of Contents\n",
    "\n",
    "[Handwritten Digit Data](#Handwritten-Digit-Data)\n",
    "\n",
    "[Constructing a Model](#Constructing-a-Model)\n",
    "\n",
    "- [Model Compilation](#ModelCompilation)\n",
    "\n",
    "- [Model Performance](#Model-Performance)\n",
    "\n",
    "[Constructing a Complex Model](#Constructing-a-Complex-Model)\n",
    "\n",
    "[Blind Testing](#Blind-Testing)\n",
    "\n",
    "-----\n",
    "\n",
    "Before proceeding with the rest of this notebook, we first have our standard notebook setup code.\n",
    "\n",
    "-----"
   ]
  },
  {
   "cell_type": "code",
   "execution_count": 1,
   "metadata": {
    "collapsed": true
   },
   "outputs": [],
   "source": [
    "# Set up Notebook\n",
    "\n",
    "% matplotlib inline\n",
    "\n",
    "# Standard imports\n",
    "import numpy as np\n",
    "import pandas as pd\n",
    "import matplotlib.pyplot as plt\n",
    "import seaborn as sns\n",
    "\n",
    "# We do this to ignore several specific Pandas warnings\n",
    "import warnings\n",
    "warnings.filterwarnings(\"ignore\")\n",
    "\n",
    "sns.set_style('white')"
   ]
  },
  {
   "cell_type": "markdown",
   "metadata": {},
   "source": [
    "-----\n",
    "\n",
    "[[Back to TOC]](#Table-of-Contents)\n",
    "\n",
    "## Handwritten Digit Data\n",
    "\n",
    "To demonstrate the application of deep learning, we will use the handwritten digit data set. We have analyzed these data in previous lessons, and traditional machine learning algorithms generally perform well on the digit classification task. In the following Code cells, we load these data and visualize a number of digit images. Next, we split the data into training and testing samples, before finally completing the data pre-processing by defining the data types, normalizing the data, and defining categorical types for the labels.\n",
    "\n",
    "-----"
   ]
  },
  {
   "cell_type": "code",
   "execution_count": 2,
   "metadata": {},
   "outputs": [
    {
     "name": "stdout",
     "output_type": "stream",
     "text": [
      "Total number of samples = 1797\n"
     ]
    },
    {
     "data": {
      "image/png": "[encoded data removed]",
      "text/plain": [
       "<matplotlib.figure.Figure at 0x7fb1777a9ac8>"
      ]
     },
     "metadata": {},
     "output_type": "display_data"
    }
   ],
   "source": [
    "# We have helper code to assist in the loading and plotting of these data\n",
    "from helper_code import digits as hd\n",
    "\n",
    "# We extract features (x), labels (y), and the images for plotting.\n",
    "x, y, images = hd.get_data()\n",
    "hd.im_plot(x, y, images)\n",
    "\n",
    "print('Total number of samples = {0}'.format(y.shape[0]))"
   ]
  },
  {
   "cell_type": "code",
   "execution_count": 3,
   "metadata": {
    "collapsed": true
   },
   "outputs": [],
   "source": [
    "from sklearn.model_selection import train_test_split\n",
    "\n",
    "x_train, x_test, y_train, y_test = \\\n",
    "    train_test_split(x, y, test_size=.25)\n",
    "\n",
    "# Get sizes\n",
    "train_dim_one = x_train.shape[0]\n",
    "train_dim_two = x_train.shape[1]\n",
    "test_dim_one = x_test.shape[0]"
   ]
  },
  {
   "cell_type": "code",
   "execution_count": 4,
   "metadata": {},
   "outputs": [
    {
     "name": "stdout",
     "output_type": "stream",
     "text": [
      " 1347 train samples\n",
      "  450 test samples\n"
     ]
    },
    {
     "name": "stderr",
     "output_type": "stream",
     "text": [
      "Using TensorFlow backend.\n"
     ]
    }
   ],
   "source": [
    "num_classes = 10\n",
    "max_pixel = 16\n",
    "\n",
    "# Flatten image arrays\n",
    "x_train = x_train.reshape(train_dim_one, train_dim_two)\n",
    "x_test = x_test.reshape(test_dim_one, train_dim_two)\n",
    "x_train = x_train.astype('float32')\n",
    "x_test = x_test.astype('float32')\n",
    "\n",
    "# Normalize image arrays\n",
    "x_train /= max_pixel\n",
    "x_test /= max_pixel\n",
    "\n",
    "print('{:5d} train samples'.format(x_train.shape[0]))\n",
    "print('{:5d} test samples'.format(x_test.shape[0]))\n",
    "\n",
    "# convert class vectors to binary class matrices\n",
    "from keras.utils import np_utils\n",
    "\n",
    "y_trainc = np_utils.to_categorical(y_train, num_classes)\n",
    "y_testc = np_utils.to_categorical(y_test, num_classes)"
   ]
  },
  {
   "cell_type": "markdown",
   "metadata": {},
   "source": [
    "-----\n",
    "\n",
    "[[Back to TOC]](#Table-of-Contents)\n",
    "\n",
    "## Constructing a Model\n",
    "\n",
    "Constructing a deep learning model, at this point, is much harder than constructing a scikit learn model. In large part, this is because we must define the complete nature of the model. This includes the number and types of hidden [layers][kl] in the deep learning model, how the layers will be interconnected, whether or not convolutions will be applied, and the types of [activation functions][kf] that should be applied to the outputs of any given layer. To demonstrate this process, we first start with a simple one layer model that maps our input data into ten classes and uses a simple activation function.\n",
    "\n",
    "-----\n",
    "[kl]: http://keras.io/layers/core/\n",
    "[kf]: http://keras.io/activations/"
   ]
  },
  {
   "cell_type": "code",
   "execution_count": 5,
   "metadata": {
    "collapsed": true
   },
   "outputs": [],
   "source": [
    "from keras.models import Sequential\n",
    "from keras.layers.core import Dense, Activation\n",
    "\n",
    "# Build single layer model\n",
    "model = Sequential()\n",
    "model.add(Dense(10, input_dim=train_dim_two))\n",
    "model.add(Activation('softmax'))"
   ]
  },
  {
   "cell_type": "code",
   "execution_count": 6,
   "metadata": {},
   "outputs": [
    {
     "data": {
      "image/svg+xml": [
       "<svg height=\"191pt\" viewBox=\"0.00 0.00 212.00 191.00\" width=\"212pt\" xmlns=\"http://www.w3.org/2000/svg\" xmlns:xlink=\"http://www.w3.org/1999/xlink\">\n",
       "<g class=\"graph\" id=\"graph0\" transform=\"scale(1 1) rotate(0) translate(4 187)\">\n",
       "<title>G</title>\n",
       "<polygon fill=\"white\" points=\"-4,4 -4,-187 208,-187 208,4 -4,4\" stroke=\"none\"/>\n",
       "<!-- 140399787334568 -->\n",
       "<g class=\"node\" id=\"node1\"><title>140399787334568</title>\n",
       "<polygon fill=\"none\" points=\"-1.42109e-14,-146.5 -1.42109e-14,-182.5 204,-182.5 204,-146.5 -1.42109e-14,-146.5\" stroke=\"black\"/>\n",
       "<text font-family=\"Times,serif\" font-size=\"14.00\" text-anchor=\"middle\" x=\"102\" y=\"-160.8\">dense_1_input: InputLayer</text>\n",
       "</g>\n",
       "<!-- 140399787334064 -->\n",
       "<g class=\"node\" id=\"node2\"><title>140399787334064</title>\n",
       "<polygon fill=\"none\" points=\"41,-73.5 41,-109.5 163,-109.5 163,-73.5 41,-73.5\" stroke=\"black\"/>\n",
       "<text font-family=\"Times,serif\" font-size=\"14.00\" text-anchor=\"middle\" x=\"102\" y=\"-87.8\">dense_1: Dense</text>\n",
       "</g>\n",
       "<!-- 140399787334568&#45;&gt;140399787334064 -->\n",
       "<g class=\"edge\" id=\"edge1\"><title>140399787334568-&gt;140399787334064</title>\n",
       "<path d=\"M102,-146.313C102,-138.289 102,-128.547 102,-119.569\" fill=\"none\" stroke=\"black\"/>\n",
       "<polygon fill=\"black\" points=\"105.5,-119.529 102,-109.529 98.5001,-119.529 105.5,-119.529\" stroke=\"black\"/>\n",
       "</g>\n",
       "<!-- 140399787334176 -->\n",
       "<g class=\"node\" id=\"node3\"><title>140399787334176</title>\n",
       "<polygon fill=\"none\" points=\"3.5,-0.5 3.5,-36.5 200.5,-36.5 200.5,-0.5 3.5,-0.5\" stroke=\"black\"/>\n",
       "<text font-family=\"Times,serif\" font-size=\"14.00\" text-anchor=\"middle\" x=\"102\" y=\"-14.8\">activation_1: Activation</text>\n",
       "</g>\n",
       "<!-- 140399787334064&#45;&gt;140399787334176 -->\n",
       "<g class=\"edge\" id=\"edge2\"><title>140399787334064-&gt;140399787334176</title>\n",
       "<path d=\"M102,-73.3129C102,-65.2895 102,-55.5475 102,-46.5691\" fill=\"none\" stroke=\"black\"/>\n",
       "<polygon fill=\"black\" points=\"105.5,-46.5288 102,-36.5288 98.5001,-46.5289 105.5,-46.5288\" stroke=\"black\"/>\n",
       "</g>\n",
       "</g>\n",
       "</svg>"
      ],
      "text/plain": [
       "<IPython.core.display.SVG object>"
      ]
     },
     "execution_count": 6,
     "metadata": {},
     "output_type": "execute_result"
    }
   ],
   "source": [
    "# Display model flowchart\n",
    "from IPython.display import SVG\n",
    "from keras.utils.vis_utils import model_to_dot\n",
    "\n",
    "SVG(model_to_dot(model).create(prog='dot', format='svg'))"
   ]
  },
  {
   "cell_type": "code",
   "execution_count": 7,
   "metadata": {},
   "outputs": [
    {
     "name": "stdout",
     "output_type": "stream",
     "text": [
      "_________________________________________________________________\n",
      "Layer (type)                 Output Shape              Param #   \n",
      "=================================================================\n",
      "dense_1 (Dense)              (None, 10)                650       \n",
      "_________________________________________________________________\n",
      "activation_1 (Activation)    (None, 10)                0         \n",
      "=================================================================\n",
      "Total params: 650\n",
      "Trainable params: 650\n",
      "Non-trainable params: 0\n",
      "_________________________________________________________________\n"
     ]
    }
   ],
   "source": [
    "# Display text representation of Keras model\n",
    "model.summary()"
   ]
  },
  {
   "cell_type": "markdown",
   "metadata": {},
   "source": [
    "-----\n",
    "\n",
    "[[Back to TOC]](#Table-of-Contents)\n",
    "\n",
    "\n",
    "### [Model Compilation][km]\n",
    "\n",
    "Once we have built a suitable model, we compile the model to generate results more quickly. By default, Keras will use the [Theano][th] backend, which means our model can be compiled to leverage CPUs or GPUs (with suitable flags passed to Theano). Another backend option for Keras is Google's [TensorFlow][tf]. The development team recently announced that development of the Theano library will no longer continue, thus we now prefer to use the TensorFlow backend.\n",
    "\n",
    "After we have compiled the model, we can fit the model to our training data. We can also provide validation data to quantify the performance of the fitting, however, in this case we specify the fraction of training data to be held out for internal validation via the `validation_split` parameter. We provide two additional parameters in the model fitting process: batch size, and number of epochs. The batch size controls how many data values are fit at any update step, and number of epochs controls how many steps should be used to revise the weights in hidden layers.\n",
    "\n",
    "-----\n",
    "[km]: http://keras.io/models/sequential/\n",
    "[th]: http://www.deeplearning.net/software/theano\n",
    "[tf]: https://www.tensorflow.org"
   ]
  },
  {
   "cell_type": "code",
   "execution_count": 8,
   "metadata": {
    "collapsed": true
   },
   "outputs": [],
   "source": [
    "from keras.optimizers import RMSprop\n",
    "\n",
    "# compile model, using categorical values (i.e., our ten class labels)\n",
    "model.compile(loss='categorical_crossentropy',\n",
    "              optimizer=RMSprop(),\n",
    "              metrics=['accuracy'])"
   ]
  },
  {
   "cell_type": "code",
   "execution_count": 9,
   "metadata": {},
   "outputs": [
    {
     "name": "stdout",
     "output_type": "stream",
     "text": [
      "Train on 1077 samples, validate on 270 samples\n",
      "Epoch 1/5\n",
      "1077/1077 [==============================] - 0s 109us/step - loss: 2.2544 - acc: 0.1272 - val_loss: 2.0965 - val_acc: 0.2037\n",
      "Epoch 2/5\n",
      "1077/1077 [==============================] - 0s 52us/step - loss: 2.0180 - acc: 0.2962 - val_loss: 1.9170 - val_acc: 0.4704\n",
      "Epoch 3/5\n",
      "1077/1077 [==============================] - 0s 59us/step - loss: 1.8399 - acc: 0.5162 - val_loss: 1.7558 - val_acc: 0.6111\n",
      "Epoch 4/5\n",
      "1077/1077 [==============================] - 0s 51us/step - loss: 1.6822 - acc: 0.6583 - val_loss: 1.6076 - val_acc: 0.7296\n",
      "Epoch 5/5\n",
      "1077/1077 [==============================] - 0s 64us/step - loss: 1.5359 - acc: 0.7419 - val_loss: 1.4674 - val_acc: 0.7630\n"
     ]
    }
   ],
   "source": [
    "# Fit model\n",
    "batch_size = 25\n",
    "num_epoch = 5\n",
    "val_spl = 0.2\n",
    "\n",
    "# Train model, use last part of training data to validate\n",
    "history = model.fit(x_train, y_trainc,\n",
    "                    batch_size=batch_size, epochs=num_epoch,\n",
    "                    verbose=1, validation_split = val_spl)"
   ]
  },
  {
   "cell_type": "markdown",
   "metadata": {},
   "source": [
    "-----\n",
    "\n",
    "[[Back to TOC]](#Table-of-Contents)\n",
    "\n",
    "### Model Performance\n",
    "\n",
    "Our model has internal performance metrics, and also can be applied to unseen data in order to quantify its robustness. We can obtain score metrics by calling the `evaluate` method on our model and passing in unseen test data. We also can obtain class predictions and generate a confusion matrix, which simplifies the comparison of this simple model with our previous machine learning classification models for these data. Even with this simple model, our deep learning approach provides reasonable results.\n",
    "\n",
    "-----"
   ]
  },
  {
   "cell_type": "code",
   "execution_count": 10,
   "metadata": {},
   "outputs": [
    {
     "name": "stdout",
     "output_type": "stream",
     "text": [
      "Test score: 1.497\n",
      "Test accuracy: 0.747\n"
     ]
    }
   ],
   "source": [
    "# Obtain score results (we set verbose to 0 \n",
    "# to hide informational messages)\n",
    "score = model.evaluate(x_test, y_testc, verbose=0)\n",
    "print('Test score: {:4.3f}'.format(score[0]))\n",
    "print('Test accuracy: {:4.3f}'.format(score[1]))"
   ]
  },
  {
   "cell_type": "code",
   "execution_count": 11,
   "metadata": {},
   "outputs": [
    {
     "data": {
      "image/png": "[encoded data removed]",
      "text/plain": [
       "<matplotlib.figure.Figure at 0x7fb15e9a3908>"
      ]
     },
     "metadata": {},
     "output_type": "display_data"
    }
   ],
   "source": [
    "# Obtain test predictions\n",
    "y_pred = model.predict_classes(x_test, verbose = 0)\n",
    "\n",
    "# Plot confusion matrix\n",
    "from helper_code import mlplots as mlp\n",
    "\n",
    "nms = ['0', '1', '2', '3', '4', '5', '6', '7', '8', '9']\n",
    "mlp.confusion(y_test, y_pred, nms, 10, 'DL (Keras) Model')"
   ]
  },
  {
   "cell_type": "markdown",
   "metadata": {},
   "source": [
    "-----\n",
    "\n",
    "[[Back to TOC]](#Table-of-Contents)\n",
    "\n",
    "## Constructing a Complex Model\n",
    "\n",
    "While our simple model performed adequately, the power of deep learning is in building more complex models to capture finer details present in the data. Below we build a more complex model that use three layers (specified by the [`Dense`][ke] layers). We employ different activation functions as well as [`Dropout`][kd] steps, which help prevent overfitting by randomly setting inputs to zero at each update step. Otherwise, we retain the same code as before (although we do use more epochs). In the end, the results are better, especially as shown in the confusion matrix.\n",
    "\n",
    "-----\n",
    "[ke]: http://keras.io/layers/core/#dense\n",
    "[kd]: http://keras.io/layers/core/#dropout"
   ]
  },
  {
   "cell_type": "code",
   "execution_count": 12,
   "metadata": {},
   "outputs": [
    {
     "name": "stdout",
     "output_type": "stream",
     "text": [
      "Train on 1077 samples, validate on 270 samples\n",
      "Epoch 1/10\n",
      "1077/1077 [==============================] - 0s 157us/step - loss: 1.7891 - acc: 0.4215 - val_loss: 1.0019 - val_acc: 0.8259\n",
      "Epoch 2/10\n",
      "1077/1077 [==============================] - 0s 80us/step - loss: 0.9319 - acc: 0.7744 - val_loss: 0.5545 - val_acc: 0.8889\n",
      "Epoch 3/10\n",
      "1077/1077 [==============================] - 0s 83us/step - loss: 0.5935 - acc: 0.8533 - val_loss: 0.3295 - val_acc: 0.9222\n",
      "Epoch 4/10\n",
      "1077/1077 [==============================] - 0s 85us/step - loss: 0.4114 - acc: 0.9044 - val_loss: 0.2301 - val_acc: 0.9519\n",
      "Epoch 5/10\n",
      "1077/1077 [==============================] - 0s 84us/step - loss: 0.3372 - acc: 0.9071 - val_loss: 0.1812 - val_acc: 0.9556\n",
      "Epoch 6/10\n",
      "1077/1077 [==============================] - 0s 79us/step - loss: 0.2891 - acc: 0.9164 - val_loss: 0.1868 - val_acc: 0.9481\n",
      "Epoch 7/10\n",
      "1077/1077 [==============================] - 0s 84us/step - loss: 0.2416 - acc: 0.9304 - val_loss: 0.1365 - val_acc: 0.9630\n",
      "Epoch 8/10\n",
      "1077/1077 [==============================] - 0s 84us/step - loss: 0.2211 - acc: 0.9266 - val_loss: 0.1550 - val_acc: 0.9444\n",
      "Epoch 9/10\n",
      "1077/1077 [==============================] - 0s 81us/step - loss: 0.2273 - acc: 0.9304 - val_loss: 0.1242 - val_acc: 0.9667\n",
      "Epoch 10/10\n",
      "1077/1077 [==============================] - 0s 80us/step - loss: 0.2040 - acc: 0.9369 - val_loss: 0.1067 - val_acc: 0.9741\n",
      "--------------------------------------------------\n",
      "Test score: 0.203\n",
      "Test accuracy: 0.951\n"
     ]
    },
    {
     "data": {
      "image/png": "[encoded data removed]",
      "text/plain": [
       "<matplotlib.figure.Figure at 0x7fb15d6cd5f8>"
      ]
     },
     "metadata": {},
     "output_type": "display_data"
    }
   ],
   "source": [
    "from keras.layers.core import Dropout\n",
    "\n",
    "model = Sequential()\n",
    "model.add(Dense(128, input_shape=(train_dim_two,)))\n",
    "model.add(Activation('tanh'))\n",
    "model.add(Dropout(0.6))\n",
    "model.add(Dense(128))\n",
    "model.add(Activation('tanh'))\n",
    "model.add(Dropout(0.3))\n",
    "model.add(Dense(10))\n",
    "model.add(Activation('softmax'))\n",
    "\n",
    "model.compile(loss='categorical_crossentropy',\n",
    "              optimizer=RMSprop(),\n",
    "              metrics=['accuracy'])\n",
    "\n",
    "# Fit model\n",
    "batch_size = 25\n",
    "num_epoch = 10\n",
    "val_spl = 0.2\n",
    "\n",
    "history = model.fit(x_train, y_trainc,\n",
    "                    batch_size=batch_size, epochs=num_epoch,\n",
    "                    verbose=1, validation_split = val_spl)\n",
    "\n",
    "print(50*'-')\n",
    "score = model.evaluate(x_test, y_testc, verbose=0)\n",
    "print('Test score: {:4.3f}'.format(score[0]))\n",
    "print('Test accuracy: {:4.3f}'.format(score[1]))\n",
    "\n",
    "y_pred = model.predict_classes(x_test, verbose = 0)\n",
    "\n",
    "# Plot confusion matrix\n",
    "mlp.confusion(y_test, y_pred, nms, 10, 'DL (Keras) Model')"
   ]
  },
  {
   "cell_type": "markdown",
   "metadata": {},
   "source": [
    "-----\n",
    "\n",
    "[[Back to TOC]](#Table-of-Contents)\n",
    "\n",
    "## Blind Testing\n",
    "\n",
    "We can perform completely blind testing by making our own test data, by using the previous code we wrote to generate _fake_ ones and sevens. In the following code cells, we create these fake data and compare the model predictions to the actual classifications.\n",
    "\n",
    "-----"
   ]
  },
  {
   "cell_type": "code",
   "execution_count": 13,
   "metadata": {},
   "outputs": [
    {
     "data": {
      "image/png": "[encoded data removed]",
      "text/plain": [
       "<matplotlib.figure.Figure at 0x7fb15f724898>"
      ]
     },
     "metadata": {},
     "output_type": "display_data"
    }
   ],
   "source": [
    "# Create fake ones\n",
    "ones = hd.make_ones()\n",
    "hd.plot_numbers(ones)"
   ]
  },
  {
   "cell_type": "code",
   "execution_count": 14,
   "metadata": {
    "collapsed": true
   },
   "outputs": [],
   "source": [
    "# Create input label data (all ones)\n",
    "y_ones = np.empty(ones.shape[0], dtype=np.int8)\n",
    "y_ones.fill(1)\n",
    "\n",
    "# Convert to categorical labels\n",
    "y_onesc = np_utils.to_categorical(y_ones, num_classes)"
   ]
  },
  {
   "cell_type": "code",
   "execution_count": 15,
   "metadata": {},
   "outputs": [
    {
     "name": "stdout",
     "output_type": "stream",
     "text": [
      "[1 1 1 1 1 1]\n",
      "[4 6 1 1 9 7]\n"
     ]
    }
   ],
   "source": [
    "# Obtain model predictions and convert probability matrix to labels\n",
    "pred = model.predict(ones, verbose=10)\n",
    "y_pred = np.argmax(pred, axis=1)\n",
    "\n",
    "# Display our *confusion matrix*\n",
    "print(y_ones)\n",
    "print(y_pred)"
   ]
  },
  {
   "cell_type": "code",
   "execution_count": 16,
   "metadata": {},
   "outputs": [
    {
     "data": {
      "image/png": "[encoded data removed]",
      "text/plain": [
       "<matplotlib.figure.Figure at 0x7fb17580e5c0>"
      ]
     },
     "metadata": {},
     "output_type": "display_data"
    }
   ],
   "source": [
    "# Create fake sevens\n",
    "sevens = hd.make_sevens()\n",
    "hd.plot_numbers(sevens)"
   ]
  },
  {
   "cell_type": "code",
   "execution_count": 17,
   "metadata": {
    "collapsed": true
   },
   "outputs": [],
   "source": [
    "# Create input label data (all sevens)\n",
    "y_sevens = np.empty(sevens.shape[0], dtype=np.int8)\n",
    "y_sevens.fill(7)\n",
    "\n",
    "# Convert to categorical labels\n",
    "y_sevensc = np_utils.to_categorical(y_sevens, num_classes)"
   ]
  },
  {
   "cell_type": "code",
   "execution_count": 18,
   "metadata": {},
   "outputs": [
    {
     "name": "stdout",
     "output_type": "stream",
     "text": [
      "[7 7 7]\n",
      "[3 0 7]\n"
     ]
    }
   ],
   "source": [
    "# Obtain model predictions and convert probability matrix to labels\n",
    "pred = model.predict(sevens, verbose=10)\n",
    "y_pred = np.argmax(pred, axis=1)\n",
    "\n",
    "# Display our *confusion matrix*\n",
    "print(y_sevens)\n",
    "print(y_pred)"
   ]
  },
  {
   "cell_type": "markdown",
   "metadata": {},
   "source": [
    "-----\n",
    "\n",
    "<font color='red' size = '5'> Student Exercise </font>\n",
    "\n",
    "In the preceding cells, we introduced deep learning by using the Keras framework. Now that you have run the notebook, go back and make the following changes to see how the results change.\n",
    "\n",
    "1. Change the activation function to `tanh` or `relu` in the simple model. How do the results change, can you explain why?\n",
    "\n",
    "2. Change the batch size and number of epochs for the simple model. How do the results change? Is it how you would naively expect?\n",
    "\n",
    "3. Modify the complex model by changing the number of output features in the intermediate layers, the activation functions, or the number of layers. How do the results change?\n",
    "\n",
    "More Advanced.\n",
    "\n",
    "4. Change the network to use a convolution. It might be easier to retain the two-dimensional nature of the input data and apply a two-dimensional convolution.\n",
    "\n",
    "-----"
   ]
  },
  {
   "cell_type": "markdown",
   "metadata": {},
   "source": [
    "## Ancillary Information\n",
    "\n",
    "The following links are to additional documentation that you might find helpful in learning this material. Reading these web-accessible documents is completely optional.\n",
    "\n",
    "4. An [overview][1] of the different types of deep learning networks\n",
    "1. A set of [deep learning notebooks][2]\n",
    "23. A discussion of [neural network][3] training algorithms\n",
    "\n",
    "-----\n",
    "\n",
    "[1]: http://www.asimovinstitute.org/neural-network-zoo/\n",
    "[2]: https://github.com/fchollet/deep-learning-with-python-notebooks\n",
    "\n",
    "[3]: https://www.neuraldesigner.com/blog/5_algorithms_to_train_a_neural_network"
   ]
  },
  {
   "cell_type": "markdown",
   "metadata": {
    "deletable": false,
    "editable": false
   },
   "source": [
    "**&copy; 2017: Robert J. Brunner at the University of Illinois.**\n",
    "\n",
    "This notebook is released under the [Creative Commons license CC BY-NC-SA 4.0][ll]. Any reproduction, adaptation, distribution, dissemination or making available of this notebook for commercial use is not allowed unless authorized in writing by the copyright holder.\n",
    "\n",
    "[ll]: https://creativecommons.org/licenses/by-nc-sa/4.0/legalcode"
   ]
  }
 ],
 "metadata": {
  "kernelspec": {
   "display_name": "Python 3",
   "language": "python",
   "name": "python3"
  },
  "language_info": {
   "codemirror_mode": {
    "name": "ipython",
    "version": 3
   },
   "file_extension": ".py",
   "mimetype": "text/x-python",
   "name": "python",
   "nbconvert_exporter": "python",
   "pygments_lexer": "ipython3",
   "version": "3.6.1"
  }
 },
 "nbformat": 4,
 "nbformat_minor": 1
}
